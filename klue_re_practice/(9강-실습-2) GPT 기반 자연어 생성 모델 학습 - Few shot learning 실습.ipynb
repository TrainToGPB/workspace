{
 "cells": [
  {
   "cell_type": "markdown",
   "metadata": {
    "id": "hSfah6SLfhVG"
   },
   "source": [
    "# KoGPT-2를 활용한 Few-shot & Zero-shot 실습\n",
    "\n",
    "> 작성자      \n",
    "```\n",
    "* 김성현 (bananaband657@gmail.com)  \n",
    "1기 멘토\n",
    "김바다 (qkek983@gmail.com)\n",
    "박상희 (parksanghee0103@gmail.com)  \n",
    "이정우 (jungwoo.l2.rs@gmail.com)\n",
    "2기 멘토\n",
    "박상희 (parksanghee0103@gmail.com)  \n",
    "이정우 (jungwoo.l2.rs@gmail.com)\n",
    "이녕우 (leenw2@gmail.com)\n",
    "박채훈 (qkrcogns2222@gmail.com)\n",
    "3, 4, 5기 멘토\n",
    "이녕우 (leenw2@gmail.com)\n",
    "박채훈 (qkrcogns2222@gmail.com)\n",
    "```\n",
    "[CC BY-NC-ND](https://creativecommons.org/licenses/by-nc-nd/2.0/kr/)"
   ]
  },
  {
   "cell_type": "markdown",
   "metadata": {
    "id": "S3qJKUJy8bdW"
   },
   "source": [
    "###**콘텐츠 라이선스**\n",
    "\n",
    "<font color='red'><b>**WARNING**</b></font> : **본 교육 콘텐츠의 지식재산권은 재단법인 네이버커넥트에 귀속됩니다. 본 콘텐츠를 어떠한 경로로든 외부로 유출 및 수정하는 행위를 엄격히 금합니다.** 다만, 비영리적 교육 및 연구활동에 한정되어 사용할 수 있으나 재단의 허락을 받아야 합니다. 이를 위반하는 경우, 관련 법률에 따라 책임을 질 수 있습니다.\n",
    "\n",
    "\n"
   ]
  },
  {
   "cell_type": "markdown",
   "metadata": {
    "id": "sz0J-hPCoZEl"
   },
   "source": [
    "Transformers를 설치하고 Model을 load하겠습니다."
   ]
  },
  {
   "cell_type": "code",
   "execution_count": 1,
   "metadata": {
    "colab": {
     "base_uri": "https://localhost:8080/"
    },
    "id": "XbzZ_IVTtoQe",
    "outputId": "cb4d9b7e-77c3-493a-ef95-9ba7e768b9c9"
   },
   "outputs": [],
   "source": [
    "# !pip install transformers"
   ]
  },
  {
   "cell_type": "code",
   "execution_count": 2,
   "metadata": {
    "colab": {
     "base_uri": "https://localhost:8080/"
    },
    "id": "b1eVsFQQgdBk",
    "outputId": "11a7d8f4-0574-4160-ca42-cf1b76a696ba"
   },
   "outputs": [],
   "source": [
    "# !curl -s https://packagecloud.io/install/repositories/github/git-lfs/script.deb.sh | sudo bash\n",
    "# !apt-get install git-lfs\n",
    "# !git lfs install\n",
    "# !git clone https://huggingface.co/taeminlee/kogpt2"
   ]
  },
  {
   "cell_type": "code",
   "execution_count": 2,
   "metadata": {
    "colab": {
     "base_uri": "https://localhost:8080/"
    },
    "id": "ckGerDmxgjOb",
    "outputId": "b03cc952-51d8-4839-b248-a697b6600434"
   },
   "outputs": [
    {
     "data": {
      "text/plain": [
       "GPT2LMHeadModel(\n",
       "  (transformer): GPT2Model(\n",
       "    (wte): Embedding(50000, 768)\n",
       "    (wpe): Embedding(1024, 768)\n",
       "    (drop): Dropout(p=0.1, inplace=False)\n",
       "    (h): ModuleList(\n",
       "      (0-11): 12 x GPT2Block(\n",
       "        (ln_1): LayerNorm((768,), eps=1e-05, elementwise_affine=True)\n",
       "        (attn): GPT2Attention(\n",
       "          (c_attn): Conv1D()\n",
       "          (c_proj): Conv1D()\n",
       "          (attn_dropout): Dropout(p=0.1, inplace=False)\n",
       "          (resid_dropout): Dropout(p=0.1, inplace=False)\n",
       "        )\n",
       "        (ln_2): LayerNorm((768,), eps=1e-05, elementwise_affine=True)\n",
       "        (mlp): GPT2MLP(\n",
       "          (c_fc): Conv1D()\n",
       "          (c_proj): Conv1D()\n",
       "          (act): NewGELUActivation()\n",
       "          (dropout): Dropout(p=0.1, inplace=False)\n",
       "        )\n",
       "      )\n",
       "    )\n",
       "    (ln_f): LayerNorm((768,), eps=1e-05, elementwise_affine=True)\n",
       "  )\n",
       "  (lm_head): Linear(in_features=768, out_features=50000, bias=False)\n",
       ")"
      ]
     },
     "execution_count": 2,
     "metadata": {},
     "output_type": "execute_result"
    }
   ],
   "source": [
    "import torch\n",
    "from tokenizers import SentencePieceBPETokenizer\n",
    "from transformers import GPT2Config, GPT2LMHeadModel\n",
    "\n",
    "tokenizer = SentencePieceBPETokenizer(\"./kogpt2/vocab.json\", \"./kogpt2/merges.txt\")\n",
    "\n",
    "config = GPT2Config(vocab_size=50000)\n",
    "config.pad_token_id = tokenizer.token_to_id('<pad>')\n",
    "model = GPT2LMHeadModel(config)\n",
    "\n",
    "model_dir = './kogpt2/pytorch_model.bin'\n",
    "\n",
    "model.load_state_dict(torch.load(model_dir, map_location='cuda'), strict=False)\n",
    "model.to('cuda')"
   ]
  },
  {
   "cell_type": "code",
   "execution_count": 3,
   "metadata": {
    "colab": {
     "base_uri": "https://localhost:8080/"
    },
    "id": "zYdoiCYHUYqo",
    "outputId": "92628bf7-12ec-4b3a-e6b3-8bb03619a63e"
   },
   "outputs": [
    {
     "name": "stdout",
     "output_type": "stream",
     "text": [
      "Encoding(num_tokens=7, attributes=[ids, type_ids, tokens, offsets, attention_mask, special_tokens_mask, overflowing])\n",
      "['▁이순', '신은', '▁조선', '▁중기의', '▁무신', '이다', '.']\n",
      "[10925, 6647, 1117, 40249, 39793, 128, 47440]\n"
     ]
    }
   ],
   "source": [
    "tokenized_text = tokenizer.encode('이순신은 조선 중기의 무신이다.', add_special_tokens=True)\n",
    "print(tokenized_text)\n",
    "print(tokenized_text.tokens)\n",
    "print(tokenized_text.ids)"
   ]
  },
  {
   "cell_type": "code",
   "execution_count": 4,
   "metadata": {
    "colab": {
     "base_uri": "https://localhost:8080/"
    },
    "id": "KNYALxiQWz0l",
    "outputId": "76c3d992-778e-413b-f001-1e3675a312fd",
    "scrolled": true
   },
   "outputs": [
    {
     "data": {
      "text/plain": [
       "0"
      ]
     },
     "execution_count": 4,
     "metadata": {},
     "output_type": "execute_result"
    }
   ],
   "source": [
    "tokenizer.add_special_tokens([\"<s>\", \"</s>\"])"
   ]
  },
  {
   "cell_type": "code",
   "execution_count": 6,
   "metadata": {
    "colab": {
     "base_uri": "https://localhost:8080/"
    },
    "id": "NAYxwF1SUcjT",
    "outputId": "81125a84-236b-4f10-ad9f-551acba4abde"
   },
   "outputs": [
    {
     "name": "stdout",
     "output_type": "stream",
     "text": [
      "GENERATED SEQUENCE : 이순신은 백옥담(이종원 분)의 시선으로 백성을 살피는 것을 알게 되었고, 천하에 대한 소신을 가지게 되었다. 또한 성읍인 성전은 백옥담의 동생인 윤(尹)이 성전과 함께 있었는데 윤을 그의 아버지라고 불렀다. 또한 성전이 완공될 때까지 성전에서 계속 놀 수 있었다. 성전 안에서는 두 권의 도서가 있고, 이 문서에는 윤과 성국의 성전의 위치가 찍혀져 있다.\n",
      "GENERATED SEQUENCE : 이순신은 이미 태연에게 마음을 돌린 상태. 이어 \"한국에서는 언제인가 통일될 수도 있다는 게 아니라 통일을 위한 하나의 초석이 돼야 한다는 게 우리의 입장이 됐다\"고 말했다. 앞서 한 외교 소식통은 6일 \"북한의 미사일 발사 움직임에 대해 상당히 예의주시하고 있지만 발사한다면 우리는 즉시 이를 막겠다는 것을 목표로 한다\"면서 \"미사일 발사 준비를 진행 중인 북한의 행방을 면밀히 추적하고 있어 만일의 사태에 대비할 것\"이라고 말했다. 북한이 이날 발사대에 장착한 동해 발사\n",
      "GENERATED SEQUENCE : 이순신은 10년 동안 우직필생의 원대한 마음씨로 큰 웃음을 선사했다. 또 현재 서울 서대문 경찰서에 수감 중인 안경환 전 국가인권위원장에 대해서도 “사법농단과 위장전입을 한 범죄자 가운데 한 사람이 바로 안 전 위원장이다. 그 사람의 말을 듣느니 지인들한테 물어보라”고 전했다. 이에 이 관계자는 “안 전 위원장의 불법 행위를 수사하라는 것 아니냐”라며 안 전 위원장의 구속과 관련, “법대로 하라고 했다”며 “(안\n"
     ]
    }
   ],
   "source": [
    "import torch\n",
    "torch.manual_seed(42)\n",
    "\n",
    "input_ids = torch.tensor(tokenizer.encode(\"이순신은\", add_special_tokens=True).ids).unsqueeze(0).to('cuda')\n",
    "\n",
    "output_sequences = model.generate(input_ids=input_ids, do_sample=True, max_length=100, num_return_sequences=3)\n",
    "for generated_sequence in output_sequences:\n",
    "    generated_sequence = generated_sequence.tolist()\n",
    "    print(\"GENERATED SEQUENCE : {0}\".format(tokenizer.decode(generated_sequence, skip_special_tokens=True)))"
   ]
  },
  {
   "cell_type": "code",
   "execution_count": 8,
   "metadata": {
    "id": "qilrjlNzVDXM"
   },
   "outputs": [],
   "source": [
    "def get_gpt_output(input_sent):\n",
    "    input_ids = torch.tensor(tokenizer.encode(input_sent, add_special_tokens=True).ids).unsqueeze(0).to('cuda')\n",
    "    sample_outputs = model.generate(\n",
    "        input_ids,\n",
    "        do_sample=True, \n",
    "        max_length=512, \n",
    "        top_k=50, \n",
    "        top_p=0.95, \n",
    "        num_return_sequences=1,\n",
    "        eos_token_id=tokenizer.token_to_id(\"</s>\"),\n",
    "        no_repeat_ngram_size=2,\n",
    "        early_stopping=True # eos 토큰이 도출되는 경우 생성 중단\n",
    "    )\n",
    "    generated_sequence = sample_outputs[0].tolist()\n",
    "    return tokenizer.decode(generated_sequence, skip_special_tokens=True)"
   ]
  },
  {
   "cell_type": "code",
   "execution_count": 10,
   "metadata": {
    "colab": {
     "base_uri": "https://localhost:8080/",
     "height": 74
    },
    "id": "gShJGTY2VoL3",
    "outputId": "14f8cf41-c0ec-46ef-d000-9a1996d3fa7b"
   },
   "outputs": [
    {
     "data": {
      "text/plain": [
       "'이순신은 이 작품을 통해 이순신의 단아한 매력을 한껏 드러낸다.'"
      ]
     },
     "execution_count": 10,
     "metadata": {},
     "output_type": "execute_result"
    }
   ],
   "source": [
    "get_gpt_output(\"<s>이순신은\")"
   ]
  },
  {
   "cell_type": "code",
   "execution_count": 13,
   "metadata": {
    "colab": {
     "base_uri": "https://localhost:8080/",
     "height": 58
    },
    "id": "Itl-lPFNUgPz",
    "outputId": "faaa6a58-58f0-4c66-effa-70a518c67c61"
   },
   "outputs": [
    {
     "data": {
      "text/plain": [
       "'철수 : 영희야 안녕! 영희 : ^^ 난 정말 고마워.'"
      ]
     },
     "execution_count": 13,
     "metadata": {},
     "output_type": "execute_result"
    }
   ],
   "source": [
    "get_gpt_output(\"<s>철수 : 영희야 안녕!</s><s>영희 : \")"
   ]
  },
  {
   "cell_type": "code",
   "execution_count": 34,
   "metadata": {
    "colab": {
     "base_uri": "https://localhost:8080/",
     "height": 74
    },
    "id": "gbbzjuS9Vzjv",
    "outputId": "c290884e-0a30-43df-f54a-b735bcb77106"
   },
   "outputs": [
    {
     "data": {
      "text/plain": [
       "'철수 : 영희야 안녕! 영희 : 어! 철수야! 오랜만이다! 철수 : 그러게~ 잘 지냈어? 영희 : ^_^ 어제부터 잠을 못 잤는데 아직도 잠을 안 자서, 어제밤 잠 못자서 머리가 많이 아팠어.'"
      ]
     },
     "execution_count": 34,
     "metadata": {},
     "output_type": "execute_result"
    }
   ],
   "source": [
    "# one-shot learning\n",
    "get_gpt_output(\"<s>철수 : 영희야 안녕!</s><s>영희 : 어! 철수야! 오랜만이다!</s><s>철수 : 그러게~ 잘 지냈어?</s><s>영희 : \")"
   ]
  },
  {
   "cell_type": "code",
   "execution_count": 36,
   "metadata": {
    "colab": {
     "base_uri": "https://localhost:8080/",
     "height": 58
    },
    "id": "prw96SLTWQGa",
    "outputId": "e729136c-ab5d-426c-9052-838612a9503a"
   },
   "outputs": [
    {
     "data": {
      "text/plain": [
       "'본문 : 아.. 기분 진짜 짜증나네 감정 : 분노 본문 : 와!! 진짜 너무 좋아!! 감정 : !!!'"
      ]
     },
     "execution_count": 36,
     "metadata": {},
     "output_type": "execute_result"
    }
   ],
   "source": [
    "# one-shot learning\n",
    "get_gpt_output(\"<s>본문 : 아.. 기분 진짜 짜증나네ㅡㅡ</s><s>감정 : 분노</s><s>본문 : 와!! 진짜 너무 좋아!!</s><s>감정 : \")"
   ]
  },
  {
   "cell_type": "code",
   "execution_count": 43,
   "metadata": {
    "colab": {
     "base_uri": "https://localhost:8080/",
     "height": 190
    },
    "id": "0QaaOin-XaUa",
    "outputId": "a3fb0a3d-1296-4558-8140-24e6d80daa40"
   },
   "outputs": [
    {
     "data": {
      "text/plain": [
       "'질문 : 코로나 바이러스에 걸리면 어떻게 되나요? 답 : COVID-19 환자는 일반적으로 감염 후 평균 5 ~ 6 일 (평균 잠복기 5 ~ 6 일, 범위 1 ~ 14 일)에 경미한 호흡기 증상 및 발열을 포함한 징후와 증상을 나타냅니다. COVID-19 바이러스에 감염된 대부분의 사람들은 경미한 질병을 앓고 회복됩니다. 질문 : 코로나 바이러스 질병의 첫 증상은 무엇입니까? 답 : 이 바이러스는 경미한 질병에서 폐렴에 이르기까지 다양한 증상을 유발할 수 있습니다. 질병의 증상은 발열, 기침, 인후통 및 두통입니다. 심한 경우 호흡 곤란과 사망이 발생할 수 있습니다. 질문 : 딸기 식물의 수명주기는 무엇입니까? 답 : 딸기의 생애는 새로운 식물의 설립으로 시작하여 2 ~ 3 년 후 절정에 이르렀다가 절정에 이어 2 ~ 3 년에 노화와 죽음을 향해 진행됩니다. 이상적인 조건에서 딸기 식물은 5-6 년까지 살 수 있습니다. 질문 : 파이썬 메서드의 self 매개 변수의 목적은 무엇입니까? 답 : self 매개 변수는 클래스의 현재 인스턴스에 대한 참조이며 클래스에 속한 변수에 액세스하는 데 사용됩니다. 질문 : 뇌의 어떤 부분이 말을 제어합니까? 답 : 언어 우세 반구의 왼쪽 전두엽 (브로카 영역)에있는 뇌의 분리 된 부분에 대한 손상은 자발적 언어 및 운동 언어 제어 사용에 상당한 영향을 미치는 것으로 나타났습니다. 질문 : 인공지능의 미래에 대해 어떻게 생각하십니까? 답 : ^26,26^ 당신의 미래는 인공지능이 만드는 미래의 미래라고 생각합니다. \\\\'"
      ]
     },
     "execution_count": 43,
     "metadata": {},
     "output_type": "execute_result"
    }
   ],
   "source": [
    "# few-shot learning\n",
    "get_gpt_output(\"<s>질문 : 코로나 바이러스에 걸리면 어떻게 되나요?</s>\\\n",
    "<s>답 : COVID-19 환자는 일반적으로 감염 후 평균 5 ~ 6 일 (평균 잠복기 5 ~ 6 일, 범위 1 ~ 14 일)에 경미한 호흡기 증상 및 발열을 포함한 징후와 증상을 나타냅니다. COVID-19 바이러스에 감염된 대부분의 사람들은 경미한 질병을 앓고 회복됩니다.</s>\\\n",
    "<s>질문 : 코로나 바이러스 질병의 첫 증상은 무엇입니까?</s>\\\n",
    "<s>답 : 이 바이러스는 경미한 질병에서 폐렴에 이르기까지 다양한 증상을 유발할 수 있습니다. 질병의 증상은 발열, 기침, 인후통 및 두통입니다. 심한 경우 호흡 곤란과 사망이 발생할 수 있습니다.</s>\\\n",
    "<s>질문 : 딸기 식물의 수명주기는 무엇입니까?</s>\\\n",
    "<s>답 : 딸기의 생애는 새로운 식물의 설립으로 시작하여 2 ~ 3 년 후 절정에 이르렀다가 절정에 이어 2 ~ 3 년에 노화와 죽음을 향해 진행됩니다. 이상적인 조건에서 딸기 식물은 5-6 년까지 살 수 있습니다.</s>\\\n",
    "<s>질문 : 파이썬 메서드의 self 매개 변수의 목적은 무엇입니까?</s>\\\n",
    "<s>답 : self 매개 변수는 클래스의 현재 인스턴스에 대한 참조이며 클래스에 속한 변수에 액세스하는 데 사용됩니다.</s>\\\n",
    "<s>질문 : 뇌의 어떤 부분이 말을 제어합니까?</s>\\\n",
    "<s>답 : 언어 우세 반구의 왼쪽 전두엽 (브로카 영역)에있는 뇌의 분리 된 부분에 대한 손상은 자발적 언어 및 운동 언어 제어 사용에 상당한 영향을 미치는 것으로 나타났습니다.</s>\\\n",
    "<s>질문 : 인공지능의 미래에 대해 어떻게 생각하십니까?</s>\\\n",
    "<s>답 : \")"
   ]
  },
  {
   "cell_type": "code",
   "execution_count": 50,
   "metadata": {
    "colab": {
     "base_uri": "https://localhost:8080/",
     "height": 206
    },
    "id": "pazG3QuhZVb8",
    "outputId": "1215416f-dfcb-4453-efc6-f9d98f7b9906"
   },
   "outputs": [
    {
     "data": {
      "text/plain": [
       "'질문 : 코로나 바이러스에 걸리면 어떻게 되나요? 답 : COVID-19 환자는 일반적으로 감염 후 평균 5 ~ 6 일 (평균 잠복기 5 ~ 6 일, 범위 1 ~ 14 일)에 경미한 호흡기 증상 및 발열을 포함한 징후와 증상을 나타냅니다. COVID-19 바이러스에 감염된 대부분의 사람들은 경미한 질병을 앓고 회복됩니다. 질문 : 코로나 바이러스 질병의 첫 증상은 무엇입니까? 답 : 이 바이러스는 경미한 질병에서 폐렴에 이르기까지 다양한 증상을 유발할 수 있습니다. 질병의 증상은 발열, 기침, 인후통 및 두통입니다. 심한 경우 호흡 곤란과 사망이 발생할 수 있습니다. 질문 : 딸기 식물의 수명주기는 무엇입니까? 답 : 딸기의 생애는 새로운 식물의 설립으로 시작하여 2 ~ 3 년 후 절정에 이르렀다가 절정에 이어 2 ~ 3 년에 노화와 죽음을 향해 진행됩니다. 이상적인 조건에서 딸기 식물은 5-6 년까지 살 수 있습니다. 질문 : 파이썬 메서드의 self 매개 변수의 목적은 무엇입니까? 답 : self 매개 변수는 클래스의 현재 인스턴스에 대한 참조이며 클래스에 속한 변수에 액세스하는 데 사용됩니다. 질문 : 뇌의 어떤 부분이 말을 제어합니까? 답 : 언어 우세 반구의 왼쪽 전두엽 (브로카 영역)에있는 뇌의 분리 된 부분에 대한 손상은 자발적 언어 및 운동 언어 제어 사용에 상당한 영향을 미치는 것으로 나타났습니다. 질문 : 자연어처리에서 언어모델이란 무엇입니까? 답 : address란 한 단어가 몇 개의 의미를 가지는 경우 그 이상의 단어들을 하나의 언어 모델에 삽입시키는 것 입니다. speak, show all the color:'"
      ]
     },
     "execution_count": 50,
     "metadata": {},
     "output_type": "execute_result"
    }
   ],
   "source": [
    "get_gpt_output(\"<s>질문 : 코로나 바이러스에 걸리면 어떻게 되나요?</s>\\\n",
    "<s>답 : COVID-19 환자는 일반적으로 감염 후 평균 5 ~ 6 일 (평균 잠복기 5 ~ 6 일, 범위 1 ~ 14 일)에 경미한 호흡기 증상 및 발열을 포함한 징후와 증상을 나타냅니다. COVID-19 바이러스에 감염된 대부분의 사람들은 경미한 질병을 앓고 회복됩니다.</s>\\\n",
    "<s>질문 : 코로나 바이러스 질병의 첫 증상은 무엇입니까?</s>\\\n",
    "<s>답 : 이 바이러스는 경미한 질병에서 폐렴에 이르기까지 다양한 증상을 유발할 수 있습니다. 질병의 증상은 발열, 기침, 인후통 및 두통입니다. 심한 경우 호흡 곤란과 사망이 발생할 수 있습니다.</s>\\\n",
    "<s>질문 : 딸기 식물의 수명주기는 무엇입니까?</s>\\\n",
    "<s>답 : 딸기의 생애는 새로운 식물의 설립으로 시작하여 2 ~ 3 년 후 절정에 이르렀다가 절정에 이어 2 ~ 3 년에 노화와 죽음을 향해 진행됩니다. 이상적인 조건에서 딸기 식물은 5-6 년까지 살 수 있습니다.</s>\\\n",
    "<s>질문 : 파이썬 메서드의 self 매개 변수의 목적은 무엇입니까?</s>\\\n",
    "<s>답 : self 매개 변수는 클래스의 현재 인스턴스에 대한 참조이며 클래스에 속한 변수에 액세스하는 데 사용됩니다.</s>\\\n",
    "<s>질문 : 뇌의 어떤 부분이 말을 제어합니까?</s>\\\n",
    "<s>답 : 언어 우세 반구의 왼쪽 전두엽 (브로카 영역)에있는 뇌의 분리 된 부분에 대한 손상은 자발적 언어 및 운동 언어 제어 사용에 상당한 영향을 미치는 것으로 나타났습니다.</s>\\\n",
    "<s>질문 : 자연어처리에서 언어모델이란 무엇입니까?</s>\\\n",
    "<s>답 : \")"
   ]
  },
  {
   "cell_type": "code",
   "execution_count": 52,
   "metadata": {
    "colab": {
     "base_uri": "https://localhost:8080/",
     "height": 190
    },
    "id": "sBbbH-9nZfSE",
    "outputId": "cd6abca2-b983-4682-8ef3-4df98888c9ee"
   },
   "outputs": [
    {
     "data": {
      "text/plain": [
       "'질문 : 코로나 바이러스에 걸리면 어떻게 되나요? 답 : COVID-19 환자는 일반적으로 감염 후 평균 5 ~ 6 일 (평균 잠복기 5 ~ 6 일, 범위 1 ~ 14 일)에 경미한 호흡기 증상 및 발열을 포함한 징후와 증상을 나타냅니다. COVID-19 바이러스에 감염된 대부분의 사람들은 경미한 질병을 앓고 회복됩니다. 질문 : 코로나 바이러스 질병의 첫 증상은 무엇입니까? 답 : 이 바이러스는 경미한 질병에서 폐렴에 이르기까지 다양한 증상을 유발할 수 있습니다. 질병의 증상은 발열, 기침, 인후통 및 두통입니다. 심한 경우 호흡 곤란과 사망이 발생할 수 있습니다. 질문 : 딸기 식물의 수명주기는 무엇입니까? 답 : 딸기의 생애는 새로운 식물의 설립으로 시작하여 2 ~ 3 년 후 절정에 이르렀다가 절정에 이어 2 ~ 3 년에 노화와 죽음을 향해 진행됩니다. 이상적인 조건에서 딸기 식물은 5-6 년까지 살 수 있습니다. 질문 : 파이썬 메서드의 self 매개 변수의 목적은 무엇입니까? 답 : self 매개 변수는 클래스의 현재 인스턴스에 대한 참조이며 클래스에 속한 변수에 액세스하는 데 사용됩니다. 질문 : 뇌의 어떤 부분이 말을 제어합니까? 답 : 언어 우세 반구의 왼쪽 전두엽 (브로카 영역)에있는 뇌의 분리 된 부분에 대한 손상은 자발적 언어 및 운동 언어 제어 사용에 상당한 영향을 미치는 것으로 나타났습니다. 질문 : 대한민국에서 최고의 인공지능 기술을 보유한 기업은 어디입니까? 답 : 탤런트와 쿼터, 키, 그리고 음성 언어에서 가장 큰 효과를 가져오는 언어 컨트롤러를 개발하는 기업은 없습니다. - 대한민국 의학전문지 헬스코리아 뉴스트리, 뉴스플러스, 사이언스 온'"
      ]
     },
     "execution_count": 52,
     "metadata": {},
     "output_type": "execute_result"
    }
   ],
   "source": [
    "get_gpt_output(\"<s>질문 : 코로나 바이러스에 걸리면 어떻게 되나요?</s>\\\n",
    "<s>답 : COVID-19 환자는 일반적으로 감염 후 평균 5 ~ 6 일 (평균 잠복기 5 ~ 6 일, 범위 1 ~ 14 일)에 경미한 호흡기 증상 및 발열을 포함한 징후와 증상을 나타냅니다. COVID-19 바이러스에 감염된 대부분의 사람들은 경미한 질병을 앓고 회복됩니다.</s>\\\n",
    "<s>질문 : 코로나 바이러스 질병의 첫 증상은 무엇입니까?</s>\\\n",
    "<s>답 : 이 바이러스는 경미한 질병에서 폐렴에 이르기까지 다양한 증상을 유발할 수 있습니다. 질병의 증상은 발열, 기침, 인후통 및 두통입니다. 심한 경우 호흡 곤란과 사망이 발생할 수 있습니다.</s>\\\n",
    "<s>질문 : 딸기 식물의 수명주기는 무엇입니까?</s>\\\n",
    "<s>답 : 딸기의 생애는 새로운 식물의 설립으로 시작하여 2 ~ 3 년 후 절정에 이르렀다가 절정에 이어 2 ~ 3 년에 노화와 죽음을 향해 진행됩니다. 이상적인 조건에서 딸기 식물은 5-6 년까지 살 수 있습니다.</s>\\\n",
    "<s>질문 : 파이썬 메서드의 self 매개 변수의 목적은 무엇입니까?</s>\\\n",
    "<s>답 : self 매개 변수는 클래스의 현재 인스턴스에 대한 참조이며 클래스에 속한 변수에 액세스하는 데 사용됩니다.</s>\\\n",
    "<s>질문 : 뇌의 어떤 부분이 말을 제어합니까?</s>\\\n",
    "<s>답 : 언어 우세 반구의 왼쪽 전두엽 (브로카 영역)에있는 뇌의 분리 된 부분에 대한 손상은 자발적 언어 및 운동 언어 제어 사용에 상당한 영향을 미치는 것으로 나타났습니다.</s>\\\n",
    "<s>질문 : 대한민국에서 최고의 인공지능 기술을 보유한 기업은 어디입니까?</s>\\\n",
    "<s>답 : \")"
   ]
  },
  {
   "cell_type": "code",
   "execution_count": 53,
   "metadata": {
    "colab": {
     "base_uri": "https://localhost:8080/",
     "height": 190
    },
    "id": "B3sTn96bZn0d",
    "outputId": "6c93d087-b0dc-42f5-9ec2-2d594609ebbc"
   },
   "outputs": [
    {
     "data": {
      "text/plain": [
       "'질문 : 코로나 바이러스에 걸리면 어떻게 되나요? 답 : COVID-19 환자는 일반적으로 감염 후 평균 5 ~ 6 일 (평균 잠복기 5 ~ 6 일, 범위 1 ~ 14 일)에 경미한 호흡기 증상 및 발열을 포함한 징후와 증상을 나타냅니다. COVID-19 바이러스에 감염된 대부분의 사람들은 경미한 질병을 앓고 회복됩니다. 질문 : 코로나 바이러스 질병의 첫 증상은 무엇입니까? 답 : 이 바이러스는 경미한 질병에서 폐렴에 이르기까지 다양한 증상을 유발할 수 있습니다. 질병의 증상은 발열, 기침, 인후통 및 두통입니다. 심한 경우 호흡 곤란과 사망이 발생할 수 있습니다. 질문 : 딸기 식물의 수명주기는 무엇입니까? 답 : 딸기의 생애는 새로운 식물의 설립으로 시작하여 2 ~ 3 년 후 절정에 이르렀다가 절정에 이어 2 ~ 3 년에 노화와 죽음을 향해 진행됩니다. 이상적인 조건에서 딸기 식물은 5-6 년까지 살 수 있습니다. 질문 : 파이썬 메서드의 self 매개 변수의 목적은 무엇입니까? 답 : self 매개 변수는 클래스의 현재 인스턴스에 대한 참조이며 클래스에 속한 변수에 액세스하는 데 사용됩니다. 질문 : 뇌의 어떤 부분이 말을 제어합니까? 답 : 언어 우세 반구의 왼쪽 전두엽 (브로카 영역)에있는 뇌의 분리 된 부분에 대한 손상은 자발적 언어 및 운동 언어 제어 사용에 상당한 영향을 미치는 것으로 나타났습니다. 질문 : 이순신 장군이 전사한 전투는 무슨 전투입니까? 답 : 횃불 싸움과 은 전투, 뻘흙 싸움 - 볏짚 싸움, 그리고 뗏목전투. separate 전투 - 라고 합니다. speed of whole'"
      ]
     },
     "execution_count": 53,
     "metadata": {},
     "output_type": "execute_result"
    }
   ],
   "source": [
    "get_gpt_output(\"<s>질문 : 코로나 바이러스에 걸리면 어떻게 되나요?</s>\\\n",
    "<s>답 : COVID-19 환자는 일반적으로 감염 후 평균 5 ~ 6 일 (평균 잠복기 5 ~ 6 일, 범위 1 ~ 14 일)에 경미한 호흡기 증상 및 발열을 포함한 징후와 증상을 나타냅니다. COVID-19 바이러스에 감염된 대부분의 사람들은 경미한 질병을 앓고 회복됩니다.</s>\\\n",
    "<s>질문 : 코로나 바이러스 질병의 첫 증상은 무엇입니까?</s>\\\n",
    "<s>답 : 이 바이러스는 경미한 질병에서 폐렴에 이르기까지 다양한 증상을 유발할 수 있습니다. 질병의 증상은 발열, 기침, 인후통 및 두통입니다. 심한 경우 호흡 곤란과 사망이 발생할 수 있습니다.</s>\\\n",
    "<s>질문 : 딸기 식물의 수명주기는 무엇입니까?</s>\\\n",
    "<s>답 : 딸기의 생애는 새로운 식물의 설립으로 시작하여 2 ~ 3 년 후 절정에 이르렀다가 절정에 이어 2 ~ 3 년에 노화와 죽음을 향해 진행됩니다. 이상적인 조건에서 딸기 식물은 5-6 년까지 살 수 있습니다.</s>\\\n",
    "<s>질문 : 파이썬 메서드의 self 매개 변수의 목적은 무엇입니까?</s>\\\n",
    "<s>답 : self 매개 변수는 클래스의 현재 인스턴스에 대한 참조이며 클래스에 속한 변수에 액세스하는 데 사용됩니다.</s>\\\n",
    "<s>질문 : 뇌의 어떤 부분이 말을 제어합니까?</s>\\\n",
    "<s>답 : 언어 우세 반구의 왼쪽 전두엽 (브로카 영역)에있는 뇌의 분리 된 부분에 대한 손상은 자발적 언어 및 운동 언어 제어 사용에 상당한 영향을 미치는 것으로 나타났습니다.</s>\\\n",
    "<s>질문 : 이순신 장군이 전사한 전투는 무슨 전투입니까?</s>\\\n",
    "<s>답 : \")"
   ]
  },
  {
   "cell_type": "code",
   "execution_count": 54,
   "metadata": {
    "colab": {
     "base_uri": "https://localhost:8080/",
     "height": 191
    },
    "id": "xlXQ0dP3ZzoK",
    "outputId": "db205acd-8829-414d-fd61-6da7ce3f2776"
   },
   "outputs": [
    {
     "data": {
      "text/plain": [
       "'한국어: 그 도로는 강과 평행으로 뻗어 있다. English: The road runs parallel to the river. 한국어: 그 평행선들은 분기하는 것처럼 보인다. English: The parallel lines appear to diverge. 한국어: 그 도로와 운하는 서로 평행하다. English: The road and the canal are parallel to each other. 한국어: 평행한 은하계라는 개념은 이해하기가 힘들다. English: The idea of a parallel universe is hard to grasp. 한국어: 이러한 전통은 우리 문화에서는 그에 상응하는 것이 없다. English: This tradition has no parallel in our culture. 한국어: 이것은 현대에 들어서는 그 유례를 찾기 힘든 업적이다. English: This is an achievement without parallel in modern times. 한국어: 그들의 경험과 우리 경험 사이에서 유사점을 찾는 것이 가능하다. English: It is possible to draw a parallel between their experience and ours. 한국어: 그 새 학위 과정과 기존의 수료 과정이 동시에 운영될 수도 있을 것이다. English: The new degree and the existing certificate courses would run in parallel. 한국어: 이순신은 조선 중기의 무신이다. Englisth: late meging gestrous say soon have he moneyed. ec.c?'"
      ]
     },
     "execution_count": 54,
     "metadata": {},
     "output_type": "execute_result"
    }
   ],
   "source": [
    "get_gpt_output(\"<s>한국어: 그 도로는 강과 평행으로 뻗어 있다.</s>\\\n",
    "<s>English: The road runs parallel to the river.</s>\\\n",
    "<s>한국어: 그 평행선들은 분기하는 것처럼 보인다.</s>\\\n",
    "<s>English: The parallel lines appear to diverge.</s>\\\n",
    "<s>한국어: 그 도로와 운하는 서로 평행하다.</s>\\\n",
    "<s>English: The road and the canal are parallel to each other.</s>\\\n",
    "<s>한국어: 평행한 은하계라는 개념은 이해하기가 힘들다.</s>\\\n",
    "<s>English: The idea of a parallel universe is hard to grasp.</s>\\\n",
    "<s>한국어: 이러한 전통은 우리 문화에서는 그에 상응하는 것이 없다.</s>\\\n",
    "<s>English: This tradition has no parallel in our culture.</s>\\\n",
    "<s>한국어: 이것은 현대에 들어서는 그 유례를 찾기 힘든 업적이다.</s>\\\n",
    "<s>English: This is an achievement without parallel in modern times.</s>\\\n",
    "<s>한국어: 그들의 경험과 우리 경험 사이에서 유사점을 찾는 것이 가능하다.</s>\\\n",
    "<s>English: It is possible to draw a parallel between their experience and ours.</s>\\\n",
    "<s>한국어: 그 새 학위 과정과 기존의 수료 과정이 동시에 운영될 수도 있을 것이다.</s>\\\n",
    "<s>English: The new degree and the existing certificate courses would run in parallel.</s>\\\n",
    "<s>한국어: 이순신은 조선 중기의 무신이다.</s>\\\n",
    "<s>Englisth: \")"
   ]
  },
  {
   "cell_type": "code",
   "execution_count": 56,
   "metadata": {
    "colab": {
     "base_uri": "https://localhost:8080/",
     "height": 191
    },
    "id": "5W2AoEm-aYQy",
    "outputId": "88c4ebf0-3e8c-41c6-b860-c965e26d6eff"
   },
   "outputs": [
    {
     "data": {
      "text/plain": [
       "'한국어: 그 도로는 강과 평행으로 뻗어 있다. English: The road runs parallel to the river. 한국어: 그 평행선들은 분기하는 것처럼 보인다. English: The parallel lines appear to diverge. 한국어: 그 도로와 운하는 서로 평행하다. English: The road and the canal are parallel to each other. 한국어: 평행한 은하계라는 개념은 이해하기가 힘들다. English: The idea of a parallel universe is hard to grasp. 한국어: 이러한 전통은 우리 문화에서는 그에 상응하는 것이 없다. English: This tradition has no parallel in our culture. 한국어: 이것은 현대에 들어서는 그 유례를 찾기 힘든 업적이다. English: This is an achievement without parallel in modern times. 한국어: 그들의 경험과 우리 경험 사이에서 유사점을 찾는 것이 가능하다. English: It is possible to draw a parallel between their experience and ours. 한국어: 그 새 학위 과정과 기존의 수료 과정이 동시에 운영될 수도 있을 것이다. English: The new degree and the existing certificate courses would run in parallel. 한국어: 100명은 서 있을 수 있을 것 같은 섬 하나가 넓은 하늘 위에 두둥실 떠 있다. Englisth: unchesided, or addition opsy illum. - physical decides, ph. helicoment, maintention?'"
      ]
     },
     "execution_count": 56,
     "metadata": {},
     "output_type": "execute_result"
    }
   ],
   "source": [
    "get_gpt_output(\"<s>한국어: 그 도로는 강과 평행으로 뻗어 있다.</s>\\\n",
    "<s>English: The road runs parallel to the river.</s>\\\n",
    "<s>한국어: 그 평행선들은 분기하는 것처럼 보인다.</s>\\\n",
    "<s>English: The parallel lines appear to diverge.</s>\\\n",
    "<s>한국어: 그 도로와 운하는 서로 평행하다.</s>\\\n",
    "<s>English: The road and the canal are parallel to each other.</s>\\\n",
    "<s>한국어: 평행한 은하계라는 개념은 이해하기가 힘들다.</s>\\\n",
    "<s>English: The idea of a parallel universe is hard to grasp.</s>\\\n",
    "<s>한국어: 이러한 전통은 우리 문화에서는 그에 상응하는 것이 없다.</s>\\\n",
    "<s>English: This tradition has no parallel in our culture.</s>\\\n",
    "<s>한국어: 이것은 현대에 들어서는 그 유례를 찾기 힘든 업적이다.</s>\\\n",
    "<s>English: This is an achievement without parallel in modern times.</s>\\\n",
    "<s>한국어: 그들의 경험과 우리 경험 사이에서 유사점을 찾는 것이 가능하다.</s>\\\n",
    "<s>English: It is possible to draw a parallel between their experience and ours.</s>\\\n",
    "<s>한국어: 그 새 학위 과정과 기존의 수료 과정이 동시에 운영될 수도 있을 것이다.</s>\\\n",
    "<s>English: The new degree and the existing certificate courses would run in parallel.</s>\\\n",
    "<s>한국어: 100명은 서 있을 수 있을 것 같은 섬 하나가 넓은 하늘 위에 두둥실 떠 있다.</s>\\\n",
    "<s>Englisth: \")"
   ]
  },
  {
   "cell_type": "code",
   "execution_count": null,
   "metadata": {
    "id": "Ec3H2azza3Pt"
   },
   "outputs": [],
   "source": []
  }
 ],
 "metadata": {
  "accelerator": "GPU",
  "colab": {
   "provenance": []
  },
  "kernelspec": {
   "display_name": "ml2",
   "language": "python",
   "name": "ml2"
  },
  "language_info": {
   "codemirror_mode": {
    "name": "ipython",
    "version": 3
   },
   "file_extension": ".py",
   "mimetype": "text/x-python",
   "name": "python",
   "nbconvert_exporter": "python",
   "pygments_lexer": "ipython3",
   "version": "3.8.16"
  }
 },
 "nbformat": 4,
 "nbformat_minor": 1
}
