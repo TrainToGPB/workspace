{
 "cells": [
  {
   "cell_type": "markdown",
   "metadata": {
    "id": "fSmtzdV_vp_P"
   },
   "source": [
    "# 한글 자연언어처리 실습 문제\n",
    "\n",
    "> 작성자      \n",
    "```\n",
    "* 김성현\n",
    "박상희\n",
    "이정우\n",
    "이녕우\n",
    "박채훈\n",
    "```\n",
    "\n",
    "[CC BY-NC-ND](https://creativecommons.org/licenses/by-nc-nd/2.0/kr/)"
   ]
  },
  {
   "cell_type": "markdown",
   "metadata": {
    "id": "KzWehJkbf_JZ"
   },
   "source": [
    "###**콘텐츠 라이선스**\n",
    "\n",
    "<font color='red'><b>**WARNING**</b></font> : **본 교육 콘텐츠의 지식재산권은 재단법인 네이버커넥트에 귀속됩니다. 본 콘텐츠를 어떠한 경로로든 외부로 유출 및 수정하는 행위를 엄격히 금합니다.** 다만, 비영리적 교육 및 연구활동에 한정되어 사용할 수 있으나 재단의 허락을 받아야 합니다. 이를 위반하는 경우, 관련 법률에 따라 책임을 질 수 있습니다."
   ]
  },
  {
   "cell_type": "markdown",
   "metadata": {
    "id": "kTjqgYpixDSP"
   },
   "source": [
    "이번 실습에서는 실제 현업에서 필요로 하는 다양한 전처리를 실습해보도록 하겠습니다! :-)\n",
    "중간 중간에 있는 'myFunction' 부분을 채워서 제출해주세요!\n",
    "\n",
    "\n",
    "### 개인정보 관련 문제\n",
    "1. 적절한 비밀번호인지 검증하기\n",
    "2. 욕설 삐처리하기 (1)\n",
    "3. 욕설 삐처리하기 (2)\n",
    "4. 개인정보 마스킹\n",
    "5. 크롤링된 위키피디아 문서 전처리하기\n",
    "\n",
    "### 데이터 분석하기\n",
    "6. 코퍼스 EDA\n",
    "7. 다양한 토크나이저의 특성 비교해보기\n",
    "\n",
    "\n"
   ]
  },
  {
   "cell_type": "markdown",
   "metadata": {
    "id": "S_5zXeaXy-s8"
   },
   "source": [
    "# 1. 보안이 뛰어난 비밀번호인지 검증하기 (난이도: 상)\n",
    "보안이 뛰어난 비밀번호는 일반적으로 아래와 같은 조건들을 만족해야 합니다.\n",
    "- 8자리 이상 30글자 미만\n",
    "- 영어 대문자와 소문자 최소 1개씩 포함\n",
    "- 하나 이상의 숫자 포함\n",
    "- 하나 이상의 특수기호 (!@#$%^&*) 포함\n",
    "\n",
    "주어진 비밀번호들이 위의 조건들을 만족하는지 검증하고, 만족하면 True / 만족하지 않으면 False를 반환하는 함수를 작성해보도록 합시다."
   ]
  },
  {
   "cell_type": "code",
   "execution_count": 3,
   "metadata": {
    "id": "zcBgv_lZz6n9"
   },
   "outputs": [],
   "source": [
    "passwords = [\n",
    "             'BoostCamp2!',\n",
    "             'IlikeA1@',\n",
    "             'Mypassword152%',\n",
    "             '!UltimateChallenge8282',\n",
    "             'hihi',\n",
    "             'Boostcamp123',\n",
    "             '!@#$%^',\n",
    "             '15821582',\n",
    "             'ㅋㅋMyPassword2!',\n",
    "\n",
    "]\n",
    "\n",
    "labels = [True, True, True,True, False, False, False, False]"
   ]
  },
  {
   "cell_type": "code",
   "execution_count": 13,
   "metadata": {
    "id": "mC9J9LN91Tqx"
   },
   "outputs": [],
   "source": [
    "import re\n",
    "\n",
    "def MyFunction(password:str)->bool:\n",
    "    # 이곳에 코드를 작성해주세요!\n",
    "    mat = True\n",
    "    if len(password) < 8 or len(password) >= 30:\n",
    "        mat = False\n",
    "    if not re.search('[a-z]', password) or not re.search('[A-Z]', password):\n",
    "        mat = False\n",
    "    if not re.search('\\d', password):\n",
    "        mat = False\n",
    "    if not re.search('[!@#$%^&*]', password):\n",
    "        mat = False\n",
    "\n",
    "    return bool(mat)"
   ]
  },
  {
   "cell_type": "code",
   "execution_count": 15,
   "metadata": {
    "colab": {
     "base_uri": "https://localhost:8080/"
    },
    "executionInfo": {
     "elapsed": 252,
     "status": "ok",
     "timestamp": 1631095045397,
     "user": {
      "displayName": "박채훈",
      "photoUrl": "",
      "userId": "12892123618725192708"
     },
     "user_tz": -540
    },
    "id": "x9huSwSj1g69",
    "outputId": "047f8486-6e69-4495-9e8a-00a45c0aad69"
   },
   "outputs": [
    {
     "name": "stdout",
     "output_type": "stream",
     "text": [
      "성공!\n"
     ]
    }
   ],
   "source": [
    "# 작성한 함수가 비밀번호를 적절히 검증하는지 확인합니다.\n",
    "for password,label in zip(passwords, labels):\n",
    "    is_valid = MyFunction(password)\n",
    "#     print(is_valid)\n",
    "    assert is_valid == label\n",
    "print(\"성공!\")"
   ]
  },
  {
   "cell_type": "markdown",
   "metadata": {
    "id": "FD075Xe43XfG"
   },
   "source": [
    "# 2. 욕설 삐처리하기 (1) (난이도: 하)\n",
    "\n",
    "**(주의: 문제 2번과 3번에서 보여지는 예시에는 다소 부정적이고 불쾌감을 주는 정보가 포함될 수 있습니다.)**"
   ]
  },
  {
   "cell_type": "code",
   "execution_count": 73,
   "metadata": {
    "colab": {
     "base_uri": "https://localhost:8080/"
    },
    "executionInfo": {
     "elapsed": 18112,
     "status": "ok",
     "timestamp": 1631685295014,
     "user": {
      "displayName": "박채훈",
      "photoUrl": "https://lh3.googleusercontent.com/a/default-user=s64",
      "userId": "12892123618725192708"
     },
     "user_tz": -540
    },
    "id": "tDF9zK3y3kMT",
    "outputId": "184fc0d9-88ac-4eec-c833-c67c9309eea8"
   },
   "outputs": [],
   "source": [
    "texts = [\n",
    "         \"아니 새끼아 내가 언제 그렇게 말했냐?\",\n",
    "         \"갱좀 똑바로 오라고 병신아ㅋㅋ\",\n",
    "         \"흐아 시발 오늘도 차가 어지간히 막히네\",\n",
    "         \"뭘 꼬라보노 시발놈이\",\n",
    "         \"바로 선긋기 가능... 니들은 이제 좆된거야...\",\n",
    "]"
   ]
  },
  {
   "cell_type": "code",
   "execution_count": 74,
   "metadata": {
    "colab": {
     "base_uri": "https://localhost:8080/"
    },
    "executionInfo": {
     "elapsed": 7,
     "status": "ok",
     "timestamp": 1631685295014,
     "user": {
      "displayName": "박채훈",
      "photoUrl": "https://lh3.googleusercontent.com/a/default-user=s64",
      "userId": "12892123618725192708"
     },
     "user_tz": -540
    },
    "id": "Y1Is1C2d3xjz",
    "outputId": "b9e41652-0965-4588-d5cb-32c35ff7c947"
   },
   "outputs": [
    {
     "data": {
      "text/plain": [
       "['아니 새끼아 내가 언제 그렇게 말했냐?',\n",
       " '갱좀 똑바로 오라고 병신아ㅋㅋ',\n",
       " '흐아 시발 오늘도 차가 어지간히 막히네',\n",
       " '뭘 꼬라보노 시발놈이',\n",
       " '바로 선긋기 가능... 니들은 이제 좆된거야...']"
      ]
     },
     "execution_count": 74,
     "metadata": {},
     "output_type": "execute_result"
    }
   ],
   "source": [
    "texts"
   ]
  },
  {
   "cell_type": "code",
   "execution_count": 18,
   "metadata": {
    "colab": {
     "base_uri": "https://localhost:8080/"
    },
    "executionInfo": {
     "elapsed": 1077,
     "status": "ok",
     "timestamp": 1631683966545,
     "user": {
      "displayName": "박채훈",
      "photoUrl": "https://lh3.googleusercontent.com/a/default-user=s64",
      "userId": "12892123618725192708"
     },
     "user_tz": -540
    },
    "id": "ATK1JSg93zaw",
    "outputId": "9569f272-b3f6-4c8d-da64-1a286152df4e"
   },
   "outputs": [
    {
     "name": "stdout",
     "output_type": "stream",
     "text": [
      "Cloning into 'List-of-Dirty-Naughty-Obscene-and-Otherwise-Bad-Words'...\n",
      "remote: Enumerating objects: 480, done.\u001b[K\n",
      "remote: Counting objects: 100% (81/81), done.\u001b[K\n",
      "remote: Compressing objects: 100% (19/19), done.\u001b[K\n",
      "remote: Total 480 (delta 65), reused 62 (delta 62), pack-reused 399\u001b[K\n",
      "Receiving objects: 100% (480/480), 108.35 KiB | 4.33 MiB/s, done.\n",
      "Resolving deltas: 100% (250/250), done.\n",
      "Cloning into 'korean-bad-words'...\n",
      "remote: Enumerating objects: 56, done.\u001b[K\n",
      "remote: Total 56 (delta 0), reused 0 (delta 0), pack-reused 56\u001b[K\n",
      "Receiving objects: 100% (56/56), 218.93 KiB | 6.84 MiB/s, done.\n",
      "Resolving deltas: 100% (21/21), done.\n",
      "Cloning into 'Gentleman'...\n",
      "remote: Enumerating objects: 55, done.\u001b[K\n",
      "remote: Total 55 (delta 0), reused 0 (delta 0), pack-reused 55\u001b[K\n",
      "Receiving objects: 100% (55/55), 92.54 KiB | 3.08 MiB/s, done.\n",
      "Resolving deltas: 100% (14/14), done.\n"
     ]
    }
   ],
   "source": [
    "# 욕설 사전\n",
    "!git clone https://github.com/LDNOOBW/List-of-Dirty-Naughty-Obscene-and-Otherwise-Bad-Words\n",
    "!git clone https://github.com/doublems/korean-bad-words\n",
    "!git clone https://github.com/organization/Gentleman/"
   ]
  },
  {
   "cell_type": "code",
   "execution_count": 19,
   "metadata": {
    "id": "DqHzZxpZ31Dy"
   },
   "outputs": [],
   "source": [
    "import json\n",
    "\n",
    "# 비속어 사전 01\n",
    "slang_list_01 = []\n",
    "f = open(\"./List-of-Dirty-Naughty-Obscene-and-Otherwise-Bad-Words/ko\", 'r')\n",
    "lines = f.readlines()\n",
    "for line in lines:\n",
    "    line = line.replace(\"\\n\", \"\")\n",
    "    slang_list_01.append(line)\n",
    "f.close()\n",
    "\n",
    "# 비속어 사전 02\n",
    "slang_list_02 = []\n",
    "f = open(\"./korean-bad-words/korean-bad-words.md\", 'r')\n",
    "lines = f.readlines()\n",
    "for line in lines:\n",
    "    line = line.replace(\"\\n\", \"\")\n",
    "    slang_list_02.append(line)\n",
    "f.close()\n",
    "\n",
    "# 비속어 사전 03\n",
    "with open('./Gentleman/resources/badwords.json') as json_file:\n",
    "    json_data = json.load(json_file)\n",
    "slang_list_03 = json_data[\"badwords\"]\n",
    "\n",
    "# 비속어 사전 통합\n",
    "slang_list = slang_list_01 + slang_list_02 + slang_list_03\n",
    "slang_list = list(set(slang_list))"
   ]
  },
  {
   "cell_type": "code",
   "execution_count": 21,
   "metadata": {},
   "outputs": [
    {
     "data": {
      "text/plain": [
       "['아구지',\n",
       " '삐리넷',\n",
       " '오르가슴',\n",
       " '씨양념',\n",
       " '주뎅이',\n",
       " '팬티캔디',\n",
       " '븽싄',\n",
       " '섹도우즈',\n",
       " '시팔',\n",
       " '꼬추',\n",
       " '그지새키',\n",
       " '빠도리',\n",
       " '쓰박',\n",
       " '개뇨나',\n",
       " 'ㄷㅐ출',\n",
       " '개쇅끼',\n",
       " '병딱',\n",
       " '게새끼',\n",
       " '병신',\n",
       " '개뻥']"
      ]
     },
     "execution_count": 21,
     "metadata": {},
     "output_type": "execute_result"
    }
   ],
   "source": [
    "slang_list[:20]"
   ]
  },
  {
   "cell_type": "code",
   "execution_count": 23,
   "metadata": {},
   "outputs": [
    {
     "name": "stdout",
     "output_type": "stream",
     "text": [
      "3940\n"
     ]
    }
   ],
   "source": [
    "print(len(slang_list))"
   ]
  },
  {
   "cell_type": "code",
   "execution_count": 84,
   "metadata": {},
   "outputs": [
    {
     "data": {
      "text/plain": [
       "5"
      ]
     },
     "execution_count": 84,
     "metadata": {},
     "output_type": "execute_result"
    }
   ],
   "source": [
    "slang_list.index('팬티캔디')"
   ]
  },
  {
   "cell_type": "code",
   "execution_count": null,
   "metadata": {
    "id": "mFpEgPyS32rx"
   },
   "outputs": [],
   "source": [
    "slang_regex_str = '|'.join(slang_list) # 얘를 re.sub(slang_regex_str, '***', text)로 적용하면 '니'가 검열됨. 왜...?"
   ]
  },
  {
   "cell_type": "code",
   "execution_count": 68,
   "metadata": {
    "id": "mFpEgPyS32rx"
   },
   "outputs": [],
   "source": [
    "def myFunction(text):\n",
    "    # 문장(text) 중 slang_list에 있는 단어들이 포함되어있으면, 단어를 별표(*) 치환하는 코드를 작성해주세요!\n",
    "    censored_text = text\n",
    "    for slang in slang_list:\n",
    "        if slang in text:\n",
    "            censored_text = re.sub(slang, '*' * len(slang), censored_text)\n",
    "    return censored_text"
   ]
  },
  {
   "cell_type": "code",
   "execution_count": 75,
   "metadata": {
    "colab": {
     "base_uri": "https://localhost:8080/"
    },
    "executionInfo": {
     "elapsed": 303,
     "status": "ok",
     "timestamp": 1631684043359,
     "user": {
      "displayName": "박채훈",
      "photoUrl": "https://lh3.googleusercontent.com/a/default-user=s64",
      "userId": "12892123618725192708"
     },
     "user_tz": -540
    },
    "id": "j1IceUVh34nQ",
    "outputId": "69f85f25-0d77-4dda-9d15-6a7ce0424b23"
   },
   "outputs": [
    {
     "name": "stdout",
     "output_type": "stream",
     "text": [
      "아니 **아 내가 언제 그렇게 말했냐?\n",
      "갱좀 똑바로 오라고 **아ㅋㅋ\n",
      "흐아 ** 오늘도 차가 어지간히 막히네\n",
      "뭘 꼬라보노 **놈이\n",
      "바로 선긋기 가능... 니들은 이제 *된거야...\n"
     ]
    }
   ],
   "source": [
    "for text in texts:\n",
    "    filtered_text = myFunction(text)\n",
    "    print(filtered_text)"
   ]
  },
  {
   "cell_type": "markdown",
   "metadata": {
    "id": "xcrUUCSg4irV"
   },
   "source": [
    "# 3. 욕설 삐처리하기 (2) (난이도: 중)\n",
    "욕설 필터링을 피하기 위해 욕설 사이에 특수기호를 넣는 케이스도 많습니다 (e.g., \"미@친\", \"지@@랄하네\"). 이런 욕설들도 처리해봅시다!\n",
    "\n",
    "- 욕설 사이에 들어가는 특수기호는 @ 만으로 한정합니다.\n",
    "- 특수기호는 최대 2번 들어갈 수 있으며, 연속해서 들어갑니다. (e.g., \"꺼@져@라\"는 포함하지 않습니다.)"
   ]
  },
  {
   "cell_type": "code",
   "execution_count": 141,
   "metadata": {
    "id": "MtadY5XB5p6v"
   },
   "outputs": [],
   "source": [
    "texts = [\n",
    "         \"아니 새@끼아 내가 언제 그렇게 말했냐?\",\n",
    "         \"갱좀 똑바로 오라고 병@@신아ㅋㅋ\",\n",
    "         \"흐아 시@발 오늘도 차가 어지간히 막히네\",\n",
    "         \"뭘 꼬라보노 시@발놈이\",\n",
    "]"
   ]
  },
  {
   "cell_type": "code",
   "execution_count": 146,
   "metadata": {
    "id": "0rKdW-2c6Kqa"
   },
   "outputs": [],
   "source": [
    "def myFunction(text): \n",
    "    # 이곳에 코드를 작성해주세요!\n",
    "    censored_text = text\n",
    "    for slang in slang_list:\n",
    "        if slang in re.sub('@', '', censored_text):\n",
    "            for idx in range(1, len(slang)):\n",
    "                slang_inlist1 = list(slang)\n",
    "                slang_inlist1.insert(idx, '@') # 왜 한번에 '@+'으로 처리하는 건 안되는건지?\n",
    "                slang_modified1 = ''.join(slang_inlist1)\n",
    "                slang_inlist2 = list(slang)\n",
    "                slang_inlist2.insert(idx, '@@')\n",
    "                slang_modified2 = ''.join(slang_inlist2)\n",
    "\n",
    "                if slang_modified1 in censored_text:\n",
    "                    censored_text = re.sub(slang_modified1, '*' * len(slang), censored_text)\n",
    "                if slang_modified2 in censored_text:\n",
    "                    censored_text = re.sub(slang_modified2, '*' * len(slang), censored_text)\n",
    "    return censored_text"
   ]
  },
  {
   "cell_type": "code",
   "execution_count": 147,
   "metadata": {
    "id": "BfcxfD6M6MT_"
   },
   "outputs": [
    {
     "name": "stdout",
     "output_type": "stream",
     "text": [
      "아니 **아 내가 언제 그렇게 말했냐?\n",
      "갱좀 똑바로 오라고 **아ㅋㅋ\n",
      "흐아 ** 오늘도 차가 어지간히 막히네\n",
      "뭘 꼬라보노 **놈이\n"
     ]
    }
   ],
   "source": [
    "for text_idx,text in enumerate(texts):\n",
    "    print(myFunction(text))"
   ]
  },
  {
   "cell_type": "markdown",
   "metadata": {
    "id": "ZuYuCoSoXlBX"
   },
   "source": [
    "# 4. 자소 문자 제거하기 (난이도: 하)\n",
    "- 트위터 등의 SNS에서 추출한 데이터에는 한글의 자소가 포함된 텍스트가 많습니다. 이 데이터 내에서 자소만을 분리하여 제거해봅시다."
   ]
  },
  {
   "cell_type": "code",
   "execution_count": 133,
   "metadata": {
    "id": "7xY9zRtJcHJX"
   },
   "outputs": [],
   "source": [
    "texts = [\"아름다운 밥이네요ㅎㅎㅎ\",\n",
    "\"아ㅏㅏㅏ 집에 가고싶다....\",\n",
    "\"ㅋㅋㅋㅋㅋㅋㅋㅋ\",\n",
    "\"에휴ㅠㅠㅠ 언제 12층까지 올라가냐\",\n",
    "\"ㅂㅂㅂ낼 보자\",\n",
    "\"I don't know what to say...ㅠㅠ\"]"
   ]
  },
  {
   "cell_type": "code",
   "execution_count": 134,
   "metadata": {
    "id": "LBYMLSouHmcv"
   },
   "outputs": [],
   "source": [
    "expected_outputs = ['아름다운 밥이네요', '아 집에 가고싶다....', '', '에휴 언제 12층까지 올라가냐', '낼 보자', \"I don't know what to say...\"]"
   ]
  },
  {
   "cell_type": "code",
   "execution_count": 138,
   "metadata": {
    "id": "Wy2Qw7JVZPtz"
   },
   "outputs": [
    {
     "name": "stdout",
     "output_type": "stream",
     "text": [
      "성공!\n",
      "성공!\n",
      "성공!\n",
      "성공!\n",
      "성공!\n",
      "성공!\n"
     ]
    }
   ],
   "source": [
    "import re\n",
    "def MyFunction(text):\n",
    "    # 이곳에 코드를 작성해주세요!\n",
    "    new_text = re.sub('[ㄱ-ㅎ|ㅏ-ㅣ]+', '', text)\n",
    "    return new_text\n",
    "\n",
    "for text_idx,text in enumerate(texts):\n",
    "    changed_text = MyFunction(text)\n",
    "    assert expected_outputs[text_idx] == changed_text\n",
    "    print(\"성공!\")"
   ]
  },
  {
   "cell_type": "markdown",
   "metadata": {
    "id": "J7K8U8GZC5W3"
   },
   "source": [
    "# 5. 크롤링된 위키피디아 문서 전처리하기 (난이도: 중)\n",
    "\n",
    "다음은 크롤링한 위키피디아 페이지를 전처리하는 코드를 작성해봅시다. 크롤링한 위키피디아 문서에는 HTML 태크, 다른 위키피디아 페이지로의 하이퍼링크 등이 포함되어 있습니다. 크롤링한 문서에서 자연어만을 추출하여 반환하는 전처리 코드를 작성해봅시다."
   ]
  },
  {
   "cell_type": "code",
   "execution_count": 155,
   "metadata": {
    "id": "MDfvrnMLDT8W"
   },
   "outputs": [
    {
     "name": "stdout",
     "output_type": "stream",
     "text": [
      "자연어 처리 또는 자연 언어 처리는 인간의 언어 현상을 컴퓨터와 같은 기계를 이용해서 묘사할 수 있도록 연구하고 이를 구현하는 인공지능의 주요 분야 중 하나다.\n",
      "자연 언어 처리는 연구 대상이 언어 이기 때문에 당연하게도 언어 자체를 연구하는 언어학과 언어 현상의 내적 기재를 탐구하는 언어 인지 과학과 연관이 깊다.\n",
      "구현을 위해 수학적 통계적 도구를 많이 활용하며 특히 기계학습 도구를 많이 사용하는 대표적인 분야이다.\n",
      "정보검색, QA 시스템, 문서 자동 분류, 신문기사 클러스터링, 대화형 Agent 등 다양한 응용이 이루어지고 있다.\n",
      "형태소 분석을 통해 나온 결과 중 가장 적합한 형태의 품사를 부착하는 것을 말한다.\n",
      "보통 태거라고 하는 모듈이 이 기능을 수행한다.\n",
      "이는 형태소 분석기가 출력한 다양한 분석 결과 중에서 문맥에 적합한 하나의 분석 결과를 선택하는 모듈이라 할 수 있다.\n",
      "분석 시 문맥 좌우에 위치한 중의성 해소의 힌트가 되는 정보를 이용해서 적합한 분석 결과를 선택한다.\n",
      "보통 태거는 대규모의 품사부착 말뭉치를 이용해서 구현하는데 은닉 마르코프 모델이 널리 사용되고 있다.\n",
      "\n",
      "성공!\n"
     ]
    }
   ],
   "source": [
    "import re\n",
    "from typing import List\n",
    "\n",
    "crawled_page = ['<p><b>자연어 처리</b>(自然語處理) 또는 <b>자연 언어 처리</b>(自然言語處理)는 인간의 언어 현상을 컴퓨터와 같은 기계를 이용해서 묘사할 수 있도록 연구하고 이를 구현하는 <a href=\"/wiki/%EC%9D%B8%EA%B3%B5%EC%A7%80%EB%8A%A5\" title=\"인공지능\">인공지능</a>의 주요 분야 중 하나다.',\n",
    "    '자연 언어 처리는 연구 대상이 언어 이기 때문에 당연하게도 언어 자체를 연구하는 언어학과 언어 현상의 내적 기재를 탐구하는 언어 인지 과학과 연관이 깊다.', \n",
    "    '구현을 위해 수학적 통계적 도구를 많이 활용하며 특히 기계학습 도구를 많이 사용하는 대표적인 분야이다.', \n",
    "    '정보검색, QA 시스템, 문서 자동 분류, 신문기사 클러스터링, 대화형 Agent 등 다양한 응용이 이루어지고 있다.</p>', \n",
    "    '<p>형태소 분석을 통해 나온 결과 중 가장 적합한 형태의 품사를 부착하는 것을 말한다.', \n",
    "    '보통 <a href=\"/w/index.php?title=%ED%83%9C%EA%B1%B0&amp;action=edit&amp;redlink=1\" class=\"new\" title=\"태거 (없는 문서)\">태거</a>라고 하는 모듈이 이 기능을 수행한다.', \n",
    "    '이는 형태소 분석기가 출력한 다양한 분석 결과 중에서 문맥에 적합한 하나의 분석 결과를 선택하는 <a href=\"/wiki/%EB%AA%A8%EB%93%88\" class=\"mw-disambig\" title=\"모듈\">모듈</a>이라 할 수 있다.', \n",
    "    '분석 시 문맥 좌우에 위치한 <a href=\"/w/index.php?title=%EC%A4%91%EC%9D%98%EC%84%B1&amp;action=edit&amp;redlink=1\" class=\"new\" title=\"중의성 (없는 문서)\">중의성</a> 해소의 힌트가 되는 정보를 이용해서 적합한 분석 결과를 선택한다.', \n",
    "    '보통 태거는 대규모의 품사부착 말뭉치를 이용해서 구현하는데 <a href=\"/wiki/%EC%9D%80%EB%8B%89_%EB%A7%88%EB%A5%B4%EC%BD%94%ED%94%84_%EB%AA%A8%EB%8D%B8\" class=\"mw-redirect\" title=\"은닉 마르코프 모델\">은닉 마르코프 모델</a>(HMM)이 널리 사용되고 있다. </p>']\n",
    "clean_page = ['자연어 처리 또는 자연 언어 처리는 인간의 언어 현상을 컴퓨터와 같은 기계를 이용해서 묘사할 수 있도록 연구하고 이를 구현하는 인공지능의 주요 분야 중 하나다.', \n",
    "    '자연 언어 처리는 연구 대상이 언어 이기 때문에 당연하게도 언어 자체를 연구하는 언어학과 언어 현상의 내적 기재를 탐구하는 언어 인지 과학과 연관이 깊다.', \n",
    "    '구현을 위해 수학적 통계적 도구를 많이 활용하며 특히 기계학습 도구를 많이 사용하는 대표적인 분야이다.', \n",
    "    '정보검색, QA 시스템, 문서 자동 분류, 신문기사 클러스터링, 대화형 Agent 등 다양한 응용이 이루어지고 있다.', \n",
    "    '형태소 분석을 통해 나온 결과 중 가장 적합한 형태의 품사를 부착하는 것을 말한다.', \n",
    "    '보통 태거라고 하는 모듈이 이 기능을 수행한다.', \n",
    "    '이는 형태소 분석기가 출력한 다양한 분석 결과 중에서 문맥에 적합한 하나의 분석 결과를 선택하는 모듈이라 할 수 있다.', \n",
    "    '분석 시 문맥 좌우에 위치한 중의성 해소의 힌트가 되는 정보를 이용해서 적합한 분석 결과를 선택한다.', \n",
    "    '보통 태거는 대규모의 품사부착 말뭉치를 이용해서 구현하는데 은닉 마르코프 모델이 널리 사용되고 있다.']\n",
    "\n",
    "def make_clean_wiki_page(crawled_page:List[str]):\n",
    "    # 이곳에 전처리 코드를 작성해주세요!\n",
    "    sents = []\n",
    "    for text in crawled_page:\n",
    "        # remove html\n",
    "        text = re.sub(r\"<[^>]+>\\s+(?=<)|<[^>]+>\", \"\", text).strip()\n",
    "        # remove text in brackets\n",
    "        text = re.sub(r\"\\([^()]*\\)\", \"\", text).strip()\n",
    "        if text:\n",
    "            sents.append(text)\n",
    "            \n",
    "    return sents\n",
    "\n",
    "for clean_text in make_clean_wiki_page(crawled_page):\n",
    "    print(clean_text)\n",
    "assert clean_page == make_clean_wiki_page(crawled_page)\n",
    "print(\"\\n성공!\")"
   ]
  },
  {
   "cell_type": "markdown",
   "metadata": {
    "id": "M4JXwIhA_G2h"
   },
   "source": [
    "# 6. 데이터 EDA\n",
    "\n",
    "사전 언어 모델을 학습하기전에, 학습시킬 Corpus에 대해 이해하는 것은 필수입니다. 텍스트를 입력받아 아래의 값들을 출력하는 함수를 살펴봅시다! 실습에는 (2강) 자연어의 전처리 - 1_한국어_토크나이징 에서 사용된 코퍼스를 활용합니다. 제공된 함수에 덧붙여, 코퍼스 내 각 단어들의 출현 빈도 및 문장 내 단어 개수 분포에 대한 히스토그램도 그려봅시다!\n",
    "\n",
    "실습의 편의를 위해, 토크나이징은 아래와 같이 어절 단위를 기준으로 진행합니다.\n",
    "```\n",
    "sentence = \"제임스 얼 \"지미\" 카터 주니어는 민주당 출신 미국 39번째 대통령 이다.\"\n",
    "tokens = sentence.split(\" \")\n",
    "# tokens: ['제임스', '얼', '\"지미\"', '카터', '주니어는', '민주당', '출신', '미국', '39번째', '대통령', '이다.']\n",
    "```\n",
    "밑에 작성된 함수는 데이터셋으로부터 아래의 값들을 추출하는 함수입니다. 각각의 값들이 어떻게 도출되었는지 하나씩 살펴봅시다.\n",
    "\n",
    "- 주어진 Corpus의 문장의 통계값\n",
    "    - 전체 문장 개수\n",
    "    - 최소 및 최대 문장 길이\n",
    "    - 문장 길이의 평균 및 중앙값\n",
    "    - unique한 전체 토큰 개수\n",
    "    - 문장 내의 최소 및 최대 토큰 개수\n",
    "    - 문장별 토큰 개수의 평균 및 중앙값\n",
    "    - 코퍼스에서 가장 많이 나온 상위 10개 단어(=토큰)\n",
    "\n",
    "\n",
    "- \n",
    "    - 단어들을 빈도순으로 정렬하여 등장 횟수를 그린 그래프\n",
    "    - 문장 내 단어 개수 분포에 대한 히스토그램"
   ]
  },
  {
   "cell_type": "code",
   "execution_count": 153,
   "metadata": {
    "colab": {
     "base_uri": "https://localhost:8080/"
    },
    "executionInfo": {
     "elapsed": 2088,
     "status": "ok",
     "timestamp": 1629377480119,
     "user": {
      "displayName": "박채훈",
      "photoUrl": "",
      "userId": "12892123618725192708"
     },
     "user_tz": -540
    },
    "id": "kccVRdiI_I7c",
    "outputId": "b2639dfe-0f62-46db-e9d0-eb2823307af4"
   },
   "outputs": [],
   "source": [
    "# !mkdir my_data\n",
    "# !curl -c ./cookie -s -L \"https://drive.google.com/uc?export=download&id=1zib1GI8Q5wV08TgYBa2GagqNh4jyfXZz\" > /dev/null\n",
    "# !curl -Lb ./cookie \"https://drive.google.com/uc?export=download&confirm=`awk '/download/ {print $NF}' ./cookie`&id=1zib1GI8Q5wV08TgYBa2GagqNh4jyfXZz\" -o my_data/wiki_20190620_small.txt"
   ]
  },
  {
   "cell_type": "code",
   "execution_count": 154,
   "metadata": {
    "colab": {
     "base_uri": "https://localhost:8080/"
    },
    "executionInfo": {
     "elapsed": 3,
     "status": "ok",
     "timestamp": 1629377480397,
     "user": {
      "displayName": "박채훈",
      "photoUrl": "",
      "userId": "12892123618725192708"
     },
     "user_tz": -540
    },
    "id": "obCcjIQO_PfP",
    "outputId": "3665d806-0fd5-4b52-bd66-3b1042fd5283"
   },
   "outputs": [
    {
     "name": "stdout",
     "output_type": "stream",
     "text": [
      "전체 문장 개수: 10000\n",
      "첫번째 문장: 제임스 얼 \"지미\" 카터 주니어는 민주당 출신 미국 39번째 대통령 이다.\n"
     ]
    }
   ],
   "source": [
    "with open('my_data/wiki_20190620_small.txt', 'r', encoding='utf-8') as f:\n",
    "    corpus = [el.strip('\\n') for el in f.readlines()]\n",
    "print(\"전체 문장 개수: {}\".format(len(corpus)))\n",
    "print(\"첫번째 문장: {}\".format(corpus[0]))"
   ]
  },
  {
   "cell_type": "code",
   "execution_count": null,
   "metadata": {
    "colab": {
     "base_uri": "https://localhost:8080/",
     "height": 714
    },
    "executionInfo": {
     "elapsed": 1001,
     "status": "ok",
     "timestamp": 1629377556790,
     "user": {
      "displayName": "박채훈",
      "photoUrl": "",
      "userId": "12892123618725192708"
     },
     "user_tz": -540
    },
    "id": "LsVnGJj9_THH",
    "outputId": "4d3c585c-c42c-49cf-95ae-f2b1d992b480",
    "scrolled": true
   },
   "outputs": [
    {
     "data": {
      "image/png": "[encoded data removed]",
      "text/plain": [
       "<Figure size 432x288 with 1 Axes>"
      ]
     },
     "metadata": {
      "needs_background": "light"
     },
     "output_type": "display_data"
    },
    {
     "data": {
      "text/plain": [
       "{'TOP10_word': ['있다.', '수', '이', '그', '한다.', '같은', '다음과', '대한', '있는', '또한'],\n",
       " 'maximum': 374,\n",
       " 'mean': 56.1671,\n",
       " 'median': 50.0,\n",
       " 'minumum': 0,\n",
       " 'num_unique_words': 51975,\n",
       " 'texts': 10000,\n",
       " 'word_maximum': 77,\n",
       " 'word_mean': 12.8701,\n",
       " 'word_median': 12.0,\n",
       " 'word_minumum': 1}"
      ]
     },
     "execution_count": 8,
     "metadata": {},
     "output_type": "execute_result"
    },
    {
     "data": {
      "image/png": "[encoded data removed]",
      "text/plain": [
       "<Figure size 432x288 with 1 Axes>"
      ]
     },
     "metadata": {
      "needs_background": "light"
     },
     "output_type": "display_data"
    }
   ],
   "source": [
    "from collections import Counter\n",
    "import numpy as np\n",
    "import matplotlib.pyplot as plt\n",
    "\n",
    "\n",
    "def myFunction(texts) : \n",
    "    texts_lens = []\n",
    "    word_list = []\n",
    "    word_lens_per_sent = []\n",
    "    \n",
    "    # 문장의 길이를 저장 및 띄어쓰기 단위로 토큰화\n",
    "    for text in texts : \n",
    "        texts_lens.append(len(text))\n",
    "      \n",
    "        # 띄어쓰기 토큰\n",
    "        words = text.split(' ')\n",
    "        word_list.extend(words)\n",
    "        word_lens_per_sent.append(len(words))\n",
    "    \n",
    "    # 문장에 포함된 단어들 카운트\n",
    "    counter = Counter(word_list)\n",
    "    \n",
    "    # 가장 많이 나온 단어 10개\n",
    "    word_list = counter.most_common(n=10)\n",
    "\n",
    "    # 빈도는 지우고 단어만, 순서대로 저장\n",
    "    word_list = [word[0] for word in word_list]\n",
    "\n",
    "    # TODO. 아래와 같은 두 개의 그래프를 그려 출력해봅시다.\n",
    "    \"\"\"\n",
    "    1. X축에는 코퍼스 내 단어들을 출현 빈도 순으로 정렬하고, Y축은 각 단어들의 출현 빈도를 log-scale로 나타내는 그래프\n",
    "    2. 코퍼스 내의 각 문장들의 단어 개수에 대한 히스토그램\n",
    "    \"\"\"\n",
    "     \n",
    "    return {\"texts\" : len(texts),\n",
    "            \"num_unique_words\":len(counter),\n",
    "            \"maximum\" : np.max(texts_lens), \"minumum\" : np.min(texts_lens),\n",
    "            \"mean\" : np.mean(texts_lens), \"median\" : np.median(texts_lens),\n",
    "            \"word_maximum\" : np.max(word_lens_per_sent), \"word_minumum\" : np.min(word_lens_per_sent),\n",
    "            \"word_mean\" : np.mean(word_lens_per_sent), \"word_median\" : np.median(word_lens_per_sent),\n",
    "            \"TOP10_word\":word_list[:10]}\n",
    "\n",
    "myFunction(corpus)"
   ]
  },
  {
   "cell_type": "code",
   "execution_count": 189,
   "metadata": {},
   "outputs": [
    {
     "data": {
      "text/plain": [
       "{'texts': 10000,\n",
       " 'num_unique_words': 51975,\n",
       " 'maximum': 374,\n",
       " 'minumum': 0,\n",
       " 'mean': 56.1671,\n",
       " 'median': 50.0,\n",
       " 'word_maximum': 77,\n",
       " 'word_minumum': 1,\n",
       " 'word_mean': 12.8701,\n",
       " 'word_median': 12.0,\n",
       " 'TOP10_word': ['있다.', '수', '이', '그', '한다.', '같은', '다음과', '대한', '있는', '또한']}"
      ]
     },
     "execution_count": 189,
     "metadata": {},
     "output_type": "execute_result"
    },
    {
     "data": {
      "image/png": "[encoded data removed]",
      "text/plain": [
       "<Figure size 640x480 with 2 Axes>"
      ]
     },
     "metadata": {},
     "output_type": "display_data"
    }
   ],
   "source": [
    "from collections import Counter\n",
    "import numpy as np\n",
    "import matplotlib.pyplot as plt\n",
    "import math\n",
    "\n",
    "\n",
    "def myFunction(texts) : \n",
    "    texts_lens = []\n",
    "    word_list = []\n",
    "    word_lens_per_sent = []\n",
    "    \n",
    "    # 문장의 길이를 저장 및 띄어쓰기 단위로 토큰화\n",
    "    for text in texts : \n",
    "        texts_lens.append(len(text))\n",
    "      \n",
    "        # 띄어쓰기 토큰\n",
    "        words = text.split(' ')\n",
    "        word_list.extend(words)\n",
    "        word_lens_per_sent.append(len(words))\n",
    "    \n",
    "    # 문장에 포함된 단어들 카운트\n",
    "    counter = Counter(word_list)\n",
    "    \n",
    "    # 가장 많이 나온 단어 10개\n",
    "    word_list = counter.most_common(n=10)\n",
    "\n",
    "    # 빈도는 지우고 단어만, 순서대로 저장\n",
    "    word_list = [word[0] for word in word_list]\n",
    "\n",
    "    # TODO. 아래와 같은 두 개의 그래프를 그려 출력해봅시다.\n",
    "    \"\"\"\n",
    "    1. X축에는 코퍼스 내 단어들을 출현 빈도 순으로 정렬하고, Y축은 각 단어들의 출현 빈도를 log-scale로 나타내는 그래프\n",
    "    2. 코퍼스 내의 각 문장들의 단어 개수에 대한 히스토그램\n",
    "    \"\"\"\n",
    "    # 1. 출현 빈도 log-scale 그래프\n",
    "    plt.subplot(2, 1, 1)\n",
    "    plt.plot(sorted(map(math.log10, counter.values()), reverse=True))\n",
    "    plt.ylabel('log10(frequency)')\n",
    "    \n",
    "    # 2. 코퍼스 내 각 문장들 단어 개수 히스토그램\n",
    "    plt.subplot(2, 1, 2)\n",
    "    plt.hist(word_lens_per_sent, bins=20)\n",
    "     \n",
    "    return {\"texts\" : len(texts),\n",
    "            \"num_unique_words\":len(counter),\n",
    "            \"maximum\" : np.max(texts_lens), \"minumum\" : np.min(texts_lens),\n",
    "            \"mean\" : np.mean(texts_lens), \"median\" : np.median(texts_lens),\n",
    "            \"word_maximum\" : np.max(word_lens_per_sent), \"word_minumum\" : np.min(word_lens_per_sent),\n",
    "            \"word_mean\" : np.mean(word_lens_per_sent), \"word_median\" : np.median(word_lens_per_sent),\n",
    "            \"TOP10_word\":word_list[:10]}\n",
    "\n",
    "myFunction(corpus)"
   ]
  },
  {
   "cell_type": "markdown",
   "metadata": {
    "id": "00J5z-7jUJrO"
   },
   "source": [
    "# 7. 다양한 Tokenizer 비교해보기\n",
    "\n",
    "이번에는 어절 단위 토크나이저 외의 다양한 토크나이저를 통해 위의 코퍼스를 분석해보고, 토크나이저에 따른 차이를 고려해봅시다.\n",
    "\n",
    "실습에 사용하는 토크나이저들은 아래와 같습니다. 각 토크나이저에 대한 자세한 내용은 (2강) 자연어의 전처리 - 1_한국어_토크나이징.ipynb 에 잘 설명되어 있습니다.\n",
    "- 음절 단위\n",
    "- 형태소 단위\n",
    "- Wordpiece"
   ]
  },
  {
   "cell_type": "code",
   "execution_count": 190,
   "metadata": {
    "colab": {
     "base_uri": "https://localhost:8080/"
    },
    "executionInfo": {
     "elapsed": 140299,
     "status": "ok",
     "timestamp": 1629377708585,
     "user": {
      "displayName": "박채훈",
      "photoUrl": "",
      "userId": "12892123618725192708"
     },
     "user_tz": -540
    },
    "id": "tM_HxUDcRJNu",
    "outputId": "c2fa7b7c-1db6-4a06-824e-5c81745309e9"
   },
   "outputs": [],
   "source": [
    "# # 필요한 라이브러리 설치\n",
    "# !pip install konlpy\n",
    "# !bash <(curl -s https://raw.githubusercontent.com/konlpy/konlpy/master/scripts/mecab.sh)\n",
    "# !pip install transformers\n",
    "# !mkdir wordPieceTokenizer"
   ]
  },
  {
   "cell_type": "markdown",
   "metadata": {
    "id": "ohqsHx9PYfFy"
   },
   "source": [
    "### 1. 음절 단위 토크나이저"
   ]
  },
  {
   "cell_type": "code",
   "execution_count": null,
   "metadata": {
    "colab": {
     "base_uri": "https://localhost:8080/",
     "height": 714
    },
    "executionInfo": {
     "elapsed": 1054,
     "status": "ok",
     "timestamp": 1629377709625,
     "user": {
      "displayName": "박채훈",
      "photoUrl": "",
      "userId": "12892123618725192708"
     },
     "user_tz": -540
    },
    "id": "dlR_6z84U8KS",
    "outputId": "c3af08d8-52a6-4a24-d7e1-a586b41b99f7"
   },
   "outputs": [
    {
     "data": {
      "image/png": "[encoded data removed]",
      "text/plain": [
       "<Figure size 432x288 with 1 Axes>"
      ]
     },
     "metadata": {
      "needs_background": "light"
     },
     "output_type": "display_data"
    },
    {
     "data": {
      "text/plain": [
       "{'TOP10_word': [' ', '이', '다', '의', '.', '는', '에', '하', ',', '로'],\n",
       " 'maximum': 374,\n",
       " 'mean': 56.1671,\n",
       " 'median': 50.0,\n",
       " 'minumum': 0,\n",
       " 'num_unique_words': 1546,\n",
       " 'texts': 10000,\n",
       " 'word_maximum': 374,\n",
       " 'word_mean': 56.1671,\n",
       " 'word_median': 50.0,\n",
       " 'word_minumum': 0}"
      ]
     },
     "execution_count": 10,
     "metadata": {},
     "output_type": "execute_result"
    },
    {
     "data": {
      "image/png": "[encoded data removed]",
      "text/plain": [
       "<Figure size 432x288 with 1 Axes>"
      ]
     },
     "metadata": {
      "needs_background": "light"
     },
     "output_type": "display_data"
    }
   ],
   "source": [
    "def myFunction(texts) : \n",
    "    texts_lens = []\n",
    "    word_list = []\n",
    "    word_lens_per_sent = []\n",
    "    \n",
    "    # 문장의 길이를 저장 및 음절 단위로 토큰화\n",
    "    for text in texts : \n",
    "        texts_lens.append(len(text))\n",
    "      \n",
    "        words = list(text)\n",
    "        word_list.extend(words)\n",
    "        word_lens_per_sent.append(len(words))\n",
    "    \n",
    "    # 문장에 포함된 단어들 카운트\n",
    "    counter = Counter(word_list)\n",
    "    \n",
    "    # 가장 많이 나온 단어 10개\n",
    "    word_list = counter.most_common(n=10)\n",
    "\n",
    "    # 빈도는 지우고 단어만, 순서대로 저장\n",
    "    word_list = [word[0] for word in word_list]\n",
    "\n",
    "    #TODO. 아래와 같은 두 개의 그래프를 그려 출력해봅시다.\n",
    "    \"\"\"\n",
    "    1. X축에는 코퍼스 내 단어들을 출현 빈도 순으로 정렬하고, Y축은 각 단어들의 출현 빈도를 log-scale로 나타내는 그래프\n",
    "    2. 코퍼스 내의 각 문장들의 단어 개수에 대한 히스토그램\n",
    "    \"\"\"\n",
    "    \n",
    "    return {\"texts\" : len(texts),\n",
    "            \"num_unique_words\":len(counter),\n",
    "            \"maximum\" : np.max(texts_lens), \"minumum\" : np.min(texts_lens),\n",
    "            \"mean\" : np.mean(texts_lens), \"median\" : np.median(texts_lens),\n",
    "            \"word_maximum\" : np.max(word_lens_per_sent), \"word_minumum\" : np.min(word_lens_per_sent),\n",
    "            \"word_mean\" : np.mean(word_lens_per_sent), \"word_median\" : np.median(word_lens_per_sent),\n",
    "            \"TOP10_word\":word_list[:10]}\n",
    "\n",
    "myFunction(corpus)\n",
    "\n"
   ]
  },
  {
   "cell_type": "code",
   "execution_count": null,
   "metadata": {
    "colab": {
     "base_uri": "https://localhost:8080/"
    },
    "executionInfo": {
     "elapsed": 13396,
     "status": "ok",
     "timestamp": 1629378125929,
     "user": {
      "displayName": "박채훈",
      "photoUrl": "",
      "userId": "12892123618725192708"
     },
     "user_tz": -540
    },
    "id": "VEJ02OFEgH2G",
    "outputId": "87c689b5-a6aa-4daa-b9ca-1474617f60f5"
   },
   "outputs": [
    {
     "data": {
      "text/plain": [
       "[('철수', 'NNG'),\n",
       " ('는', 'JX'),\n",
       " ('영희', 'NNP'),\n",
       " ('를', 'JKO'),\n",
       " ('좋아하', 'VV'),\n",
       " ('ㄴ다', 'EFN'),\n",
       " ('.', 'SF')]"
      ]
     },
     "execution_count": 11,
     "metadata": {},
     "output_type": "execute_result"
    }
   ],
   "source": [
    "from konlpy.tag import Kkma\n",
    "q = Kkma()\n",
    "q.pos(\"철수는 영희를 좋아한다.\")"
   ]
  },
  {
   "cell_type": "code",
   "execution_count": null,
   "metadata": {
    "colab": {
     "base_uri": "https://localhost:8080/"
    },
    "executionInfo": {
     "elapsed": 330,
     "status": "ok",
     "timestamp": 1629378304966,
     "user": {
      "displayName": "박채훈",
      "photoUrl": "",
      "userId": "12892123618725192708"
     },
     "user_tz": -540
    },
    "id": "xnUJwOYlg7y9",
    "outputId": "22853bc2-e0cf-4c26-adbb-cf1fb4e9dfdb"
   },
   "outputs": [
    {
     "data": {
      "text/plain": [
       "[('철수', 'NNG'),\n",
       " ('는', 'JX'),\n",
       " ('영희', 'NNP'),\n",
       " ('를', 'JKO'),\n",
       " ('좋아하', 'VV'),\n",
       " ('어', 'ECS'),\n",
       " ('.', 'SF')]"
      ]
     },
     "execution_count": 12,
     "metadata": {},
     "output_type": "execute_result"
    }
   ],
   "source": [
    "q.pos(\"철수는 영희를 좋아해.\")"
   ]
  },
  {
   "cell_type": "markdown",
   "metadata": {
    "id": "f6As1dyHYi3p"
   },
   "source": [
    "### 2. 형태소 단위 토크나이저"
   ]
  },
  {
   "cell_type": "code",
   "execution_count": null,
   "metadata": {
    "colab": {
     "base_uri": "https://localhost:8080/",
     "height": 469
    },
    "executionInfo": {
     "elapsed": 251837,
     "status": "ok",
     "timestamp": 1629360128465,
     "user": {
      "displayName": "박채훈",
      "photoUrl": "",
      "userId": "12892123618725192708"
     },
     "user_tz": -540
    },
    "id": "WVOtelxQYpgM",
    "outputId": "ec3a7658-9fa2-47ee-af21-ee663c7e34f2"
   },
   "outputs": [
    {
     "name": "stderr",
     "output_type": "stream",
     "text": [
      "100%|██████████| 10000/10000 [04:11<00:00, 39.79it/s]\n"
     ]
    },
    {
     "data": {
      "image/png": "[encoded data removed]",
      "text/plain": [
       "<Figure size 432x288 with 1 Axes>"
      ]
     },
     "metadata": {
      "needs_background": "light"
     },
     "output_type": "display_data"
    },
    {
     "data": {
      "text/plain": [
       "{'TOP10_word': ['하', '.', '이', '의', '는', '다', 'ㄴ', ',', '을', '에'],\n",
       " 'maximum': 374,\n",
       " 'mean': 56.1671,\n",
       " 'median': 50.0,\n",
       " 'minumum': 0,\n",
       " 'num_unique_words': 16292,\n",
       " 'texts': 10000,\n",
       " 'word_maximum': 185,\n",
       " 'word_mean': 29.4802,\n",
       " 'word_median': 27.0,\n",
       " 'word_minumum': 0}"
      ]
     },
     "execution_count": 99,
     "metadata": {},
     "output_type": "execute_result"
    }
   ],
   "source": [
    "from konlpy.tag import Kkma\n",
    "from tqdm import tqdm\n",
    "\n",
    "tokenizer=Kkma()  \n",
    "#text = \"싸피에서 열공한 우린, 대한민국을 이끌 SW인재\"\n",
    "#print(tokenizer.morphs(text))\n",
    "#['싸', '아', '피', '에서', '열', '공한', '우리', 'ㄴ', ',', '대한민국', '을', '이끌', 'ㄹ', 'SW', '인재']\n",
    "\n",
    "def myFunction(texts) : \n",
    "    texts_lens = []\n",
    "    word_list = []\n",
    "    word_lens_per_sent = []\n",
    "    \n",
    "    # 문장의 길이를 저장 및 형태소 단위로 토큰화\n",
    "    for text in tqdm(texts) : \n",
    "        texts_lens.append(len(text))\n",
    "      \n",
    "        words = tokenizer.morphs(text)\n",
    "        word_list.extend(words)\n",
    "        word_lens_per_sent.append(len(words))\n",
    "    \n",
    "    # 문장에 포함된 단어들 카운트\n",
    "    counter = Counter(word_list)\n",
    "    \n",
    "    # 가장 많이 나온 단어 10개\n",
    "    word_list = counter.most_common(n=10)\n",
    "\n",
    "    # 빈도는 지우고 단어만, 순서대로 저장\n",
    "    word_list = [word[0] for word in word_list]\n",
    "\n",
    "    #TODO. 아래와 같은 두 개의 그래프를 그려 출력해봅시다.\n",
    "    \"\"\"\n",
    "    1. X축에는 코퍼스 내 단어들을 출현 빈도 순으로 정렬하고, Y축은 각 단어들의 출현 빈도를 log-scale로 나타내는 그래프\n",
    "    2. 코퍼스 내의 각 문장들의 단어 개수에 대한 히스토그램\n",
    "    \"\"\"\n",
    "     \n",
    "    return {\"texts\" : len(texts),\n",
    "            \"num_unique_words\":len(counter),\n",
    "            \"maximum\" : np.max(texts_lens), \"minumum\" : np.min(texts_lens),\n",
    "            \"mean\" : np.mean(texts_lens), \"median\" : np.median(texts_lens),\n",
    "            \"word_maximum\" : np.max(word_lens_per_sent), \"word_minumum\" : np.min(word_lens_per_sent),\n",
    "            \"word_mean\" : np.mean(word_lens_per_sent), \"word_median\" : np.median(word_lens_per_sent),\n",
    "            \"TOP10_word\":word_list[:10]}\n",
    "\n",
    "myFunction(corpus)\n",
    "\n"
   ]
  },
  {
   "cell_type": "markdown",
   "metadata": {
    "id": "f43MHwbnYlF6"
   },
   "source": [
    "### 3. Wordpiece 토크나이저"
   ]
  },
  {
   "cell_type": "code",
   "execution_count": null,
   "metadata": {
    "colab": {
     "base_uri": "https://localhost:8080/",
     "height": 452
    },
    "executionInfo": {
     "elapsed": 2070,
     "status": "ok",
     "timestamp": 1629359855554,
     "user": {
      "displayName": "박채훈",
      "photoUrl": "",
      "userId": "12892123618725192708"
     },
     "user_tz": -540
    },
    "id": "qdb76wWhVCUK",
    "outputId": "2a0854d1-d728-4f9c-94e7-0834804c0905"
   },
   "outputs": [
    {
     "data": {
      "image/png": "[encoded data removed]",
      "text/plain": [
       "<Figure size 432x288 with 1 Axes>"
      ]
     },
     "metadata": {
      "needs_background": "light"
     },
     "output_type": "display_data"
    },
    {
     "data": {
      "text/plain": [
       "{'TOP10_word': ['.', ',', '##의', '##에', '##을', '##는', '##이', '있다', '##은', '_'],\n",
       " 'maximum': 374,\n",
       " 'mean': 56.1671,\n",
       " 'median': 50.0,\n",
       " 'minumum': 0,\n",
       " 'num_unique_words': 9591,\n",
       " 'texts': 10000,\n",
       " 'word_maximum': 179,\n",
       " 'word_mean': 23.5021,\n",
       " 'word_median': 21.0,\n",
       " 'word_minumum': 0}"
      ]
     },
     "execution_count": 98,
     "metadata": {},
     "output_type": "execute_result"
    }
   ],
   "source": [
    "from tokenizers import BertWordPieceTokenizer\n",
    "\n",
    "# Initialize an empty tokenizer\n",
    "wp_tokenizer = BertWordPieceTokenizer(\n",
    "    clean_text=True,    # [이순신, ##은, ' ', 조선]\n",
    "    handle_chinese_chars=True,\n",
    "    strip_accents=False,    # True: [YepHamza] -> [Yep, Hamza]\n",
    "    lowercase=False,\n",
    ")\n",
    "# And then train\n",
    "wp_tokenizer.train(\n",
    "    files=\"my_data/wiki_20190620_small.txt\",\n",
    "    vocab_size=10000,\n",
    "    min_frequency=2,\n",
    "    show_progress=True,\n",
    "    special_tokens=[\"[PAD]\", \"[UNK]\", \"[CLS]\", \"[SEP]\", \"[MASK]\"],\n",
    "    limit_alphabet=1000,\n",
    "    wordpieces_prefix=\"##\"\n",
    ")\n",
    "# Save the files\n",
    "wp_tokenizer.save_model(\"wordPieceTokenizer\", \"my_tokenizer\")\n",
    "\n",
    "def myFunction(texts) : \n",
    "    texts_lens = []\n",
    "    word_list = []\n",
    "    word_lens_per_sent = []\n",
    "    \n",
    "    # 문장의 길이를 저장 및 Wordpiece 단위로 토큰화\n",
    "    for text in texts : \n",
    "        texts_lens.append(len(text))\n",
    "      \n",
    "        words = wp_tokenizer.encode(text).tokens\n",
    "        word_list.extend(words)\n",
    "        word_lens_per_sent.append(len(words))\n",
    "    \n",
    "    # 문장에 포함된 단어들 카운트\n",
    "    counter = Counter(word_list)\n",
    "    \n",
    "    # 가장 많이 나온 단어 10개\n",
    "    word_list = counter.most_common(n=10)\n",
    "\n",
    "    # 빈도는 지우고 단어만, 순서대로 저장\n",
    "    word_list = [word[0] for word in word_list]\n",
    "\n",
    "    #TODO. 아래와 같은 두 개의 그래프를 그려 출력해봅시다.\n",
    "    \"\"\"\n",
    "    1. X축에는 코퍼스 내 단어들을 출현 빈도 순으로 정렬하고, Y축은 각 단어들의 출현 빈도를 log-scale로 나타내는 그래프\n",
    "    2. 코퍼스 내의 각 문장들의 단어 개수에 대한 히스토그램\n",
    "    \"\"\"\n",
    "\n",
    "    return {\"texts\" : len(texts),\n",
    "            \"num_unique_words\":len(counter),\n",
    "            \"maximum\" : np.max(texts_lens), \"minumum\" : np.min(texts_lens),\n",
    "            \"mean\" : np.mean(texts_lens), \"median\" : np.median(texts_lens),\n",
    "            \"word_maximum\" : np.max(word_lens_per_sent), \"word_minumum\" : np.min(word_lens_per_sent),\n",
    "            \"word_mean\" : np.mean(word_lens_per_sent), \"word_median\" : np.median(word_lens_per_sent),\n",
    "            \"TOP10_word\":word_list[:10]}\n",
    "\n",
    "myFunction(corpus)\n",
    "\n"
   ]
  },
  {
   "cell_type": "markdown",
   "metadata": {
    "id": "rTaFYGLjara2"
   },
   "source": [
    "4개의 토크나이저를 사용했을 때 달라지는 값들을 표로 정리하면 아래와 같습니다. Unique한 단어의 개수는 어절 토크나이저가 가장 많고 음절 토크나이저가 가장 적으며, 문장 내 단어의 평균 개수는 반대로 음절 토크나이저가 가장 많고 어절 토크나이저가 가장 적습니다. 형태소 및 Wordpiece 토크나이저는 한 문장 내의 단어 개수가 약 20~30개로 비슷하게 나왔으나, Unique한 단어의 개수는 형태소 분석기가 더 많은 것을 알 수 있습니다.\n",
    "\n",
    "|제목|어절|음절|형태소|Wordpiece|\n",
    "|------|---|---|---|---|\n",
    "|Unique word|51975|1546|16292|9591|\n",
    "|문장 내 단어 개수의 평균|12|56|29|23|\n",
    "|문장 내 단어 개수의 중앙값|12|50|27|21|\n",
    "|문장 내 단어 개수의 최대/최소값|77/1|374/0|185/0|179/0|\n",
    "|빈번한 상위 5개 단어|['있다.', '수', '이', '그', '한다.']|[' ', '이', '다', '의', '.']|['하', '.', '이', '의', '는']|['.', ',', '##의', '##에', '##을']|\n",
    "\n",
    "\n",
    "이와 같이 동일한 코퍼스를 처리하더라도 사용하는 토크나이저의 특성에 따라 문장을 구성하는 단어의 개수, unique한 단어의 개수 등이 크게 달라집니다. 따라서 코퍼스의 특성 및 모델링의 차이에 따라 적절한 토크나이징 및 전처리 기법을 채택하여 사용하는 것이 중요함을 알 수 있습니다."
   ]
  }
 ],
 "metadata": {
  "colab": {
   "collapsed_sections": [],
   "provenance": [
    {
     "file_id": "1VLzBJLEXoEc-ZkrThd1KngZTGfkZgbFe",
     "timestamp": 1629381559704
    }
   ]
  },
  "kernelspec": {
   "display_name": "Python 3 (ipykernel)",
   "language": "python",
   "name": "python3"
  },
  "language_info": {
   "codemirror_mode": {
    "name": "ipython",
    "version": 3
   },
   "file_extension": ".py",
   "mimetype": "text/x-python",
   "name": "python",
   "nbconvert_exporter": "python",
   "pygments_lexer": "ipython3",
   "version": "3.8.16"
  }
 },
 "nbformat": 4,
 "nbformat_minor": 1
}
