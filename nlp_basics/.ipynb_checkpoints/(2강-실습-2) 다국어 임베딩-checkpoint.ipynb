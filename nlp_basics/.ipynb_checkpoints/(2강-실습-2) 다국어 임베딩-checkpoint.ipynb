{
 "cells": [
  {
   "cell_type": "markdown",
   "metadata": {
    "id": "9OTvq4sciBYD"
   },
   "source": [
    "##**다국어 임베딩**\n",
    "1. 최신 다국어 임베딩 모델(LaBSE)에 대해 공부해 봅시다.\n",
    "2. LaBSE 모델을 사용해 문장 임베딩(Sentence Embeddings)을 획득하고, 한국어-영어 문장 간 유사도를 산출해 봅시다."
   ]
  },
  {
   "cell_type": "markdown",
   "metadata": {
    "id": "94pPM540wrLk"
   },
   "source": [
    "## LaBSE (Language-agnostic BERT Sentence Embedding)"
   ]
  },
  {
   "cell_type": "markdown",
   "metadata": {
    "id": "W8vDSgz90eDP"
   },
   "source": [
    "### LaBSE architecture\n",
    "\n",
    "LaBSE는 Google AI에서 개발한 다국어 임베딩 모델로, LaBSE를 사용하면 모델이 지원하는 109개 언어에 대해 문장 임베딩을 획득할 수 있습니다. \n",
    "\n",
    "LaBSE 모델은 아래의 이미지에서 볼 수 있듯이, Pre-trained LM (BERT)를 사용하고, Source Text와 Target Text를 모델에 별도로 입력하는 dual-encoder 형태로 구성됩니다.\n",
    "\n",
    "\n",
    "![](https://i.imgur.com/v795hVy.png)\n",
    "- 이미지 출처:  [(Feng et al., ACL 2022) Language-agnostic BERT Sentence Embedding](https://aclanthology.org/2022.acl-long.62.pdf)\n",
    "- [Blog post] http://ai.googleblog.com/2020/08/language-agnostic-bert-sentence.html\n",
    "- [TensorFlow Hub] https://tfhub.dev/google/LaBSE/2 \n",
    "- [PyTorch version] https://huggingface.co/sentence-transformers/LaBSE\n"
   ]
  },
  {
   "cell_type": "markdown",
   "metadata": {
    "id": "-cx4ZTaE2Qcb"
   },
   "source": [
    "### LaBSE 학습 (in-batch negative sampling)\n",
    "\n",
    "LaBSE는 in-batch negative sampling을 적용하여 학습합니다. Batch 단위로 N개의 Source Text과 Target Text를 각각 `12-Layer Transformer Embedding Network`에 입력하여  `(N X dim)` 의 `Source Embeddings`와 `(N X dim)` 의 `Target E mbeddings`을 얻었을 때, Source 문장들과 Target 문장들 간의 유사도 matrix는 `Source Embeddings`와 `Target Embeddings`의 matrix multiplication을 통해 구할 수 있습니다.\n",
    "\n",
    "이 때 데이터로서 N개의 병렬 문장 쌍을 사용한다면, 각 문장들은 batch 내에서 1개의 true translation을, N-1개의 negative translation을 가지게 됩니다. 따라서, 우리는 문장 간 유사도 matrix에서 대각 성분들의 값이 높아지도록 학습하게 됩니다. 더 자세한 내용은 해당 논문을 통해 학습해 보는 것으로 하고, 지금부터는 LaBSE 모델을 활용하여 문장 임베딩을 획득하고, 문장 간 유사도를 산출하는 실습을 해 봅니다.\n",
    "\n",
    "\n",
    "![](https://i.imgur.com/BKOgbbH.png)\n"
   ]
  },
  {
   "cell_type": "markdown",
   "metadata": {
    "id": "APzHllrl-S89"
   },
   "source": [
    "### LaBSE 모델 불러오기\n",
    "\n",
    "- `sentence-trasnformers` 라이브러리를 통해 LaBSE 모델을 쉽게 불러오고 사용할 수 있습니다."
   ]
  },
  {
   "cell_type": "code",
   "execution_count": 2,
   "metadata": {
    "colab": {
     "base_uri": "https://localhost:8080/"
    },
    "id": "4fDbhz2Ivz3F",
    "outputId": "fef90c95-cb95-48ad-bce3-986836813ad6"
   },
   "outputs": [
    {
     "name": "stdout",
     "output_type": "stream",
     "text": [
      "Requirement already satisfied: sentence_transformers in /home/kingstar/anaconda3/envs/ml2/lib/python3.8/site-packages (2.2.2)\n",
      "Requirement already satisfied: torch>=1.6.0 in /home/kingstar/anaconda3/envs/ml2/lib/python3.8/site-packages (from sentence_transformers) (2.0.0)\n",
      "Requirement already satisfied: numpy in /home/kingstar/anaconda3/envs/ml2/lib/python3.8/site-packages (from sentence_transformers) (1.24.2)\n",
      "Requirement already satisfied: nltk in /home/kingstar/anaconda3/envs/ml2/lib/python3.8/site-packages (from sentence_transformers) (3.8.1)\n",
      "Requirement already satisfied: torchvision in /home/kingstar/anaconda3/envs/ml2/lib/python3.8/site-packages (from sentence_transformers) (0.15.1)\n",
      "Requirement already satisfied: transformers<5.0.0,>=4.6.0 in /home/kingstar/anaconda3/envs/ml2/lib/python3.8/site-packages (from sentence_transformers) (4.27.3)\n",
      "Requirement already satisfied: tqdm in /home/kingstar/anaconda3/envs/ml2/lib/python3.8/site-packages (from sentence_transformers) (4.65.0)\n",
      "Requirement already satisfied: scipy in /home/kingstar/anaconda3/envs/ml2/lib/python3.8/site-packages (from sentence_transformers) (1.10.0)\n",
      "Requirement already satisfied: sentencepiece in /home/kingstar/anaconda3/envs/ml2/lib/python3.8/site-packages (from sentence_transformers) (0.1.97)\n",
      "Requirement already satisfied: scikit-learn in /home/kingstar/anaconda3/envs/ml2/lib/python3.8/site-packages (from sentence_transformers) (1.2.2)\n",
      "Requirement already satisfied: huggingface-hub>=0.4.0 in /home/kingstar/anaconda3/envs/ml2/lib/python3.8/site-packages (from sentence_transformers) (0.13.3)\n",
      "Requirement already satisfied: filelock in /home/kingstar/anaconda3/envs/ml2/lib/python3.8/site-packages (from huggingface-hub>=0.4.0->sentence_transformers) (3.10.6)\n",
      "Requirement already satisfied: packaging>=20.9 in /home/kingstar/anaconda3/envs/ml2/lib/python3.8/site-packages (from huggingface-hub>=0.4.0->sentence_transformers) (23.0)\n",
      "Requirement already satisfied: pyyaml>=5.1 in /home/kingstar/anaconda3/envs/ml2/lib/python3.8/site-packages (from huggingface-hub>=0.4.0->sentence_transformers) (6.0)\n",
      "Requirement already satisfied: requests in /home/kingstar/anaconda3/envs/ml2/lib/python3.8/site-packages (from huggingface-hub>=0.4.0->sentence_transformers) (2.28.2)\n",
      "Requirement already satisfied: typing-extensions>=3.7.4.3 in /home/kingstar/anaconda3/envs/ml2/lib/python3.8/site-packages (from huggingface-hub>=0.4.0->sentence_transformers) (4.5.0)\n",
      "Requirement already satisfied: nvidia-cuda-cupti-cu11==11.7.101 in /home/kingstar/anaconda3/envs/ml2/lib/python3.8/site-packages (from torch>=1.6.0->sentence_transformers) (11.7.101)\n",
      "Requirement already satisfied: nvidia-cufft-cu11==10.9.0.58 in /home/kingstar/anaconda3/envs/ml2/lib/python3.8/site-packages (from torch>=1.6.0->sentence_transformers) (10.9.0.58)\n",
      "Requirement already satisfied: sympy in /home/kingstar/anaconda3/envs/ml2/lib/python3.8/site-packages (from torch>=1.6.0->sentence_transformers) (1.11.1)\n",
      "Requirement already satisfied: nvidia-cusolver-cu11==11.4.0.1 in /home/kingstar/anaconda3/envs/ml2/lib/python3.8/site-packages (from torch>=1.6.0->sentence_transformers) (11.4.0.1)\n",
      "Requirement already satisfied: networkx in /home/kingstar/anaconda3/envs/ml2/lib/python3.8/site-packages (from torch>=1.6.0->sentence_transformers) (3.0)\n",
      "Requirement already satisfied: nvidia-cublas-cu11==11.10.3.66 in /home/kingstar/anaconda3/envs/ml2/lib/python3.8/site-packages (from torch>=1.6.0->sentence_transformers) (11.10.3.66)\n",
      "Requirement already satisfied: nvidia-curand-cu11==10.2.10.91 in /home/kingstar/anaconda3/envs/ml2/lib/python3.8/site-packages (from torch>=1.6.0->sentence_transformers) (10.2.10.91)\n",
      "Requirement already satisfied: nvidia-cusparse-cu11==11.7.4.91 in /home/kingstar/anaconda3/envs/ml2/lib/python3.8/site-packages (from torch>=1.6.0->sentence_transformers) (11.7.4.91)\n",
      "Requirement already satisfied: nvidia-nccl-cu11==2.14.3 in /home/kingstar/anaconda3/envs/ml2/lib/python3.8/site-packages (from torch>=1.6.0->sentence_transformers) (2.14.3)\n",
      "Requirement already satisfied: nvidia-nvtx-cu11==11.7.91 in /home/kingstar/anaconda3/envs/ml2/lib/python3.8/site-packages (from torch>=1.6.0->sentence_transformers) (11.7.91)\n",
      "Requirement already satisfied: nvidia-cuda-nvrtc-cu11==11.7.99 in /home/kingstar/anaconda3/envs/ml2/lib/python3.8/site-packages (from torch>=1.6.0->sentence_transformers) (11.7.99)\n",
      "Requirement already satisfied: triton==2.0.0 in /home/kingstar/anaconda3/envs/ml2/lib/python3.8/site-packages (from torch>=1.6.0->sentence_transformers) (2.0.0)\n",
      "Requirement already satisfied: jinja2 in /home/kingstar/anaconda3/envs/ml2/lib/python3.8/site-packages (from torch>=1.6.0->sentence_transformers) (3.1.2)\n",
      "Requirement already satisfied: nvidia-cudnn-cu11==8.5.0.96 in /home/kingstar/anaconda3/envs/ml2/lib/python3.8/site-packages (from torch>=1.6.0->sentence_transformers) (8.5.0.96)\n",
      "Requirement already satisfied: nvidia-cuda-runtime-cu11==11.7.99 in /home/kingstar/anaconda3/envs/ml2/lib/python3.8/site-packages (from torch>=1.6.0->sentence_transformers) (11.7.99)\n",
      "Requirement already satisfied: setuptools in /home/kingstar/anaconda3/envs/ml2/lib/python3.8/site-packages (from nvidia-cublas-cu11==11.10.3.66->torch>=1.6.0->sentence_transformers) (65.6.3)\n",
      "Requirement already satisfied: wheel in /home/kingstar/anaconda3/envs/ml2/lib/python3.8/site-packages (from nvidia-cublas-cu11==11.10.3.66->torch>=1.6.0->sentence_transformers) (0.38.4)\n",
      "Requirement already satisfied: lit in /home/kingstar/anaconda3/envs/ml2/lib/python3.8/site-packages (from triton==2.0.0->torch>=1.6.0->sentence_transformers) (16.0.0)\n",
      "Requirement already satisfied: cmake in /home/kingstar/anaconda3/envs/ml2/lib/python3.8/site-packages (from triton==2.0.0->torch>=1.6.0->sentence_transformers) (3.26.1)\n",
      "Requirement already satisfied: tokenizers!=0.11.3,<0.14,>=0.11.1 in /home/kingstar/anaconda3/envs/ml2/lib/python3.8/site-packages (from transformers<5.0.0,>=4.6.0->sentence_transformers) (0.13.2)\n",
      "Requirement already satisfied: regex!=2019.12.17 in /home/kingstar/anaconda3/envs/ml2/lib/python3.8/site-packages (from transformers<5.0.0,>=4.6.0->sentence_transformers) (2023.3.23)\n",
      "Requirement already satisfied: click in /home/kingstar/anaconda3/envs/ml2/lib/python3.8/site-packages (from nltk->sentence_transformers) (8.0.4)\n",
      "Requirement already satisfied: joblib in /home/kingstar/anaconda3/envs/ml2/lib/python3.8/site-packages (from nltk->sentence_transformers) (1.2.0)\n",
      "Requirement already satisfied: threadpoolctl>=2.0.0 in /home/kingstar/anaconda3/envs/ml2/lib/python3.8/site-packages (from scikit-learn->sentence_transformers) (3.1.0)\n",
      "Requirement already satisfied: pillow!=8.3.*,>=5.3.0 in /home/kingstar/anaconda3/envs/ml2/lib/python3.8/site-packages (from torchvision->sentence_transformers) (9.4.0)\n",
      "Requirement already satisfied: MarkupSafe>=2.0 in /home/kingstar/anaconda3/envs/ml2/lib/python3.8/site-packages (from jinja2->torch>=1.6.0->sentence_transformers) (2.1.2)\n",
      "Requirement already satisfied: certifi>=2017.4.17 in /home/kingstar/anaconda3/envs/ml2/lib/python3.8/site-packages (from requests->huggingface-hub>=0.4.0->sentence_transformers) (2022.12.7)\n",
      "Requirement already satisfied: idna<4,>=2.5 in /home/kingstar/anaconda3/envs/ml2/lib/python3.8/site-packages (from requests->huggingface-hub>=0.4.0->sentence_transformers) (3.4)\n",
      "Requirement already satisfied: charset-normalizer<4,>=2 in /home/kingstar/anaconda3/envs/ml2/lib/python3.8/site-packages (from requests->huggingface-hub>=0.4.0->sentence_transformers) (3.1.0)\n",
      "Requirement already satisfied: urllib3<1.27,>=1.21.1 in /home/kingstar/anaconda3/envs/ml2/lib/python3.8/site-packages (from requests->huggingface-hub>=0.4.0->sentence_transformers) (1.26.15)\n",
      "Requirement already satisfied: mpmath>=0.19 in /home/kingstar/anaconda3/envs/ml2/lib/python3.8/site-packages (from sympy->torch>=1.6.0->sentence_transformers) (1.3.0)\n"
     ]
    }
   ],
   "source": [
    "# !pip install --user sentence_transformers"
   ]
  },
  {
   "cell_type": "code",
   "execution_count": 1,
   "metadata": {
    "id": "GaUcLtT6vavS"
   },
   "outputs": [
    {
     "name": "stderr",
     "output_type": "stream",
     "text": [
      "/home/kingstar/anaconda3/envs/ml2/lib/python3.8/site-packages/tqdm/auto.py:21: TqdmWarning: IProgress not found. Please update jupyter and ipywidgets. See https://ipywidgets.readthedocs.io/en/stable/user_install.html\n",
      "  from .autonotebook import tqdm as notebook_tqdm\n"
     ]
    }
   ],
   "source": [
    "from sentence_transformers import SentenceTransformer"
   ]
  },
  {
   "cell_type": "code",
   "execution_count": 2,
   "metadata": {
    "id": "fBbfdCz2wGY6"
   },
   "outputs": [
    {
     "name": "stderr",
     "output_type": "stream",
     "text": [
      "Downloading (…)be010/.gitattributes: 100%|████████████████████████████████| 391/391 [00:00<00:00, 134kB/s]\n",
      "Downloading (…)_Pooling/config.json: 100%|███████████████████████████████| 190/190 [00:00<00:00, 91.0kB/s]\n",
      "Downloading (…)/2_Dense/config.json: 100%|████████████████████████████████| 114/114 [00:00<00:00, 103kB/s]\n",
      "Downloading pytorch_model.bin: 100%|█████████████████████████████████| 2.36M/2.36M [00:00<00:00, 14.6MB/s]\n",
      "Downloading (…)168ebbe010/README.md: 100%|███████████████████████████| 1.62k/1.62k [00:00<00:00, 1.50MB/s]\n",
      "Downloading (…)8ebbe010/config.json: 100%|████████████████████████████████| 804/804 [00:00<00:00, 718kB/s]\n",
      "Downloading (…)ce_transformers.json: 100%|███████████████████████████████| 122/122 [00:00<00:00, 97.1kB/s]\n",
      "Downloading pytorch_model.bin: 100%|█████████████████████████████████| 1.88G/1.88G [02:15<00:00, 13.9MB/s]\n",
      "Downloading (…)nce_bert_config.json: 100%|█████████████████████████████| 53.0/53.0 [00:00<00:00, 20.4kB/s]\n",
      "Downloading (…)cial_tokens_map.json: 100%|███████████████████████████████| 112/112 [00:00<00:00, 93.1kB/s]\n",
      "Downloading (…)be010/tokenizer.json: 100%|███████████████████████████| 9.62M/9.62M [00:02<00:00, 3.31MB/s]\n",
      "Downloading (…)okenizer_config.json: 100%|████████████████████████████████| 411/411 [00:00<00:00, 381kB/s]\n",
      "Downloading (…)168ebbe010/vocab.txt: 100%|███████████████████████████| 5.22M/5.22M [00:02<00:00, 2.61MB/s]\n",
      "Downloading (…)ebbe010/modules.json: 100%|████████████████████████████████| 461/461 [00:00<00:00, 390kB/s]\n"
     ]
    }
   ],
   "source": [
    "model = SentenceTransformer(\"sentence-transformers/LaBSE\")"
   ]
  },
  {
   "cell_type": "markdown",
   "metadata": {
    "id": "1xoVECcHA4FM"
   },
   "source": [
    "- LaBSE 모델을 불러왔다면, 이제는 문장 임베딩을 획득해 봅시다. \n",
    "- 모델의 `encode` 메소드에 문장(들)을 리스트 형태로 전달하면 해당 문장(들)에 대한 임베딩 벡터를 얻을 수 있습니다."
   ]
  },
  {
   "cell_type": "code",
   "execution_count": 3,
   "metadata": {
    "id": "s5HJL41dwUn0"
   },
   "outputs": [],
   "source": [
    "en_sentences = [\n",
    "    \"I'd rather die tomorrow than live a hundred yuears without knowing you.\",\n",
    "    \"My dream wouldn't be complete without you in it.\",\n",
    "    \"A day spent with you is my favorite day. So today is my new favorite day.\",\n",
    "    \"Life is a journey to be experienced, not a problem to be solved.\",\n",
    "    \"The flower that blooms in adversity is the most rare and beautiful of all.\"\n",
    "    ]\n",
    "\n",
    "ko_sentences = [\n",
    "    \"당신을 알지 못하고 수백 년을 사느니 당장 내일 죽는 게 낫겠어요.\",\n",
    "    \"당신이 그 안에 없다면, 내 꿈은 완벽하게 이뤄질 수 없어요.\",\n",
    "    \"너와 보낸 하루는 내가 가장 좋아하는 날이야. 그러니까 오늘은 새로운 내가 제일 좋아하는 날이야.\",\n",
    "    \"인생은 풀어야 하는 문제가 아니라 경험을 쌓는 여정이야.\",\n",
    "    \"역경 속에서 피어나는 꽃이 가장 귀하고 아름다운 거란다.\"\n",
    "]"
   ]
  },
  {
   "cell_type": "code",
   "execution_count": 4,
   "metadata": {
    "colab": {
     "base_uri": "https://localhost:8080/",
     "height": 81,
     "referenced_widgets": [
      "6b842e270fbc4e9d9b9b7af14e3af65b",
      "6acc0c1af33145a9b3696df1e59ff954",
      "d74e988ab28c4af68a09047f0fd7cc90",
      "4ea746e86aa74c9ca3cfbd0dd825997a",
      "1107ca11e29f4317bafea2aa53bcc81a",
      "0a960ceb315745f6b9ac7fd6bb3e2032",
      "e9ba484fdb4f4eb8924429caee433a6c",
      "ca49feaff8174baa84951de61315e604",
      "3853066f908045de8830de9bbbad5f47",
      "02ebe583871847f7a7c000aaad8a577d",
      "10fa29e7e7ce415d876ace648be90082",
      "20a3129586e14c6da950e73b8e4ba2fd",
      "71aabe0ac9a64873a2cb185cb89ff8f6",
      "68e7648c89334733881c1c7989dc5ee8",
      "9d9394684fd04e539eaa21ad61c532dd",
      "6835689d243746a69c8c7d169169a42f",
      "f81637b541b1402e870b890674bc482c",
      "397f16c561db4e28b2efe3bd86f1da29",
      "bd6316cddbe24f4090f0a76b46896c0f",
      "2cdd89747adc4bd48cc8352117422397",
      "b90a5276c71d4fd1b753fcad7825c616",
      "924c72a119c64821b59c6a0b656b92fb"
     ]
    },
    "id": "Fh_uBvt0vsix",
    "outputId": "f4bc699d-003d-481f-9b1c-e16e62d2f101"
   },
   "outputs": [
    {
     "name": "stderr",
     "output_type": "stream",
     "text": [
      "Batches: 100%|██████████████████████████████████████████████████████████████| 1/1 [00:00<00:00,  1.82it/s]\n",
      "Batches: 100%|█████████████████████████████████████████████████████████████| 1/1 [00:00<00:00, 110.46it/s]\n"
     ]
    }
   ],
   "source": [
    "en_sent_embeddings = model.encode(\n",
    "    en_sentences, \n",
    "    convert_to_tensor=True,\n",
    "    normalize_embeddings=True, \n",
    "    show_progress_bar=True\n",
    "    )\n",
    "\n",
    "ko_sent_embeddings = model.encode(\n",
    "    ko_sentences, \n",
    "    convert_to_tensor=True,\n",
    "    normalize_embeddings=True, \n",
    "    show_progress_bar=True\n",
    "    )"
   ]
  },
  {
   "cell_type": "code",
   "execution_count": 5,
   "metadata": {
    "colab": {
     "base_uri": "https://localhost:8080/"
    },
    "id": "rec0DuKYBnpX",
    "outputId": "afffc08a-4551-460a-fef6-b3ce4767e13c"
   },
   "outputs": [
    {
     "name": "stdout",
     "output_type": "stream",
     "text": [
      "torch.Size([5, 768])\n",
      "torch.Size([5, 768])\n"
     ]
    }
   ],
   "source": [
    "print(en_sent_embeddings.size())\n",
    "print(ko_sent_embeddings.size())"
   ]
  },
  {
   "cell_type": "markdown",
   "metadata": {
    "id": "v339orj0Dw8_"
   },
   "source": [
    "- 자, 이제 문장 간 유사도를 구해볼까요?\n",
    "- `en_sentences`와 `ko_sentences`는 같은 의미를 가진 병렬 문장쌍이라는 것을 눈치 채셨나요?\n",
    "- 각 임베딩들의 코사인 유사도를 구해 봅시다."
   ]
  },
  {
   "cell_type": "code",
   "execution_count": 6,
   "metadata": {
    "id": "62NhEvc_wl9I"
   },
   "outputs": [],
   "source": [
    "from torch.nn import CosineSimilarity\n",
    "cosine = CosineSimilarity()"
   ]
  },
  {
   "cell_type": "code",
   "execution_count": 7,
   "metadata": {
    "colab": {
     "base_uri": "https://localhost:8080/"
    },
    "id": "98Bi0WufEQSa",
    "outputId": "0380ec7e-394a-48c2-986c-7184bbce4b4a"
   },
   "outputs": [
    {
     "name": "stdout",
     "output_type": "stream",
     "text": [
      "tensor([0.7741, 0.8013, 0.8936, 0.8895, 0.7943], device='cuda:0')\n"
     ]
    }
   ],
   "source": [
    "print(cosine(en_sent_embeddings, ko_sent_embeddings))"
   ]
  },
  {
   "cell_type": "markdown",
   "metadata": {
    "id": "so3TLBeMwECX"
   },
   "source": [
    "- 해당 영어-한국어 문장 쌍들의 임베딩 유사도는 각각 0.7741, 0.8013, 0.8936, 0.8895, 0.7943으로 높은 수치를 보이는 것을 확인하였습니다.\n",
    "-  LaBSE의 다국어 임베딩을 활용하면 같은 의미를 가지는 다른 언어의 문장을 다국어 corpus 속에서 찾아내는 retrieval task도 수행할 수 있습니다 ([Tatoeba dataset](https://opus.nlpl.eu/Tatoeba.php)). 이번 실습에서는 위의 5개의 영-한 문장 쌍을 가지고 간단하게 실험해 봅시다."
   ]
  },
  {
   "cell_type": "markdown",
   "metadata": {
    "id": "0XlBUWsbyUO-"
   },
   "source": [
    "- 위에서 사용한 영-한 문장 쌍에서 한국어 문장들의 순서를 랜덤하게 바꾼 후, 영-한 문장들의 alignment를 찾는 retrieval 을 수행해 보겠습니다."
   ]
  },
  {
   "cell_type": "code",
   "execution_count": 8,
   "metadata": {
    "id": "XdJzwcgbEzL5"
   },
   "outputs": [],
   "source": [
    "# retrieval test\n",
    "\n",
    "en_sentences = [\n",
    "    \"I'd rather die tomorrow than live a hundred yuears without knowing you.\",\n",
    "    \"My dream wouldn't be complete without you in it.\",\n",
    "    \"A day spent with you is my favorite day. So today is my new favorite day.\",\n",
    "    \"Life is a journey to be experienced, not a problem to be solved.\",\n",
    "    \"The flower that blooms in adversity is the most rare and beautiful of all.\"\n",
    "    ]\n",
    "\n",
    "ko_sentences = [\n",
    "    \"당신을 알지 못하고 수백 년을 사느니 당장 내일 죽는 게 낫겠어요.\",\n",
    "    \"당신이 그 안에 없다면, 내 꿈은 완벽하게 이뤄질 수 없어요.\",\n",
    "    \"너와 보낸 하루는 내가 가장 좋아하는 날이야. 그러니까 오늘은 새로운 내가 제일 좋아하는 날이야.\",\n",
    "    \"인생은 풀어야 하는 문제가 아니라 경험을 쌓는 여정이야.\",\n",
    "    \"역경 속에서 피어나는 꽃이 가장 귀하고 아름다운 거란다.\"\n",
    "]"
   ]
  },
  {
   "cell_type": "code",
   "execution_count": 9,
   "metadata": {
    "id": "CzyKi0xdyzkf"
   },
   "outputs": [],
   "source": [
    "import numpy as np\n",
    "\n",
    "shuffled_ko_sentences = np.random.permutation(ko_sentences).tolist()"
   ]
  },
  {
   "cell_type": "code",
   "execution_count": 10,
   "metadata": {
    "colab": {
     "base_uri": "https://localhost:8080/"
    },
    "id": "ls7_K2rPzKVJ",
    "outputId": "47611d68-46c3-48ee-d819-daf73ad6dafc"
   },
   "outputs": [
    {
     "data": {
      "text/plain": [
       "['역경 속에서 피어나는 꽃이 가장 귀하고 아름다운 거란다.',\n",
       " '당신이 그 안에 없다면, 내 꿈은 완벽하게 이뤄질 수 없어요.',\n",
       " '인생은 풀어야 하는 문제가 아니라 경험을 쌓는 여정이야.',\n",
       " '너와 보낸 하루는 내가 가장 좋아하는 날이야. 그러니까 오늘은 새로운 내가 제일 좋아하는 날이야.',\n",
       " '당신을 알지 못하고 수백 년을 사느니 당장 내일 죽는 게 낫겠어요.']"
      ]
     },
     "execution_count": 10,
     "metadata": {},
     "output_type": "execute_result"
    }
   ],
   "source": [
    "shuffled_ko_sentences"
   ]
  },
  {
   "cell_type": "markdown",
   "metadata": {
    "id": "q4DsAqjH3c9B"
   },
   "source": [
    "- `return_most_similar` 함수는 query로 사용할 source 문장과 가장 유사한 target 문장을 다수의 target 문장들에서 선택하여 반환해 줍니다."
   ]
  },
  {
   "cell_type": "code",
   "execution_count": 11,
   "metadata": {
    "id": "dMBIcIjGzuHX"
   },
   "outputs": [],
   "source": [
    "import torch\n",
    "\n",
    "def return_most_similar(source_sentence, target_sentences):\n",
    "    query_embeddings = model.encode(\n",
    "        source_sentence, \n",
    "        convert_to_tensor=True,\n",
    "        normalize_embeddings=True, \n",
    "        show_progress_bar=False\n",
    "        )\n",
    "    target_sent_embeddings = model.encode(\n",
    "        target_sentences, \n",
    "        convert_to_tensor=True,\n",
    "        normalize_embeddings=True, \n",
    "        show_progress_bar=False\n",
    "        )\n",
    "    \n",
    "    query_embeddings = query_embeddings.unsqueeze(0) # query_embeddings: (1, dim)\n",
    "    query_embeddings = query_embeddings.repeat(5, 1) # query_embeddings: (5, dim)\n",
    "\n",
    "    retrieved_index = torch.max(cosine(query_embeddings, target_sent_embeddings),0).indices.item()\n",
    "    return target_sentences[retrieved_index]"
   ]
  },
  {
   "cell_type": "code",
   "execution_count": 12,
   "metadata": {
    "colab": {
     "base_uri": "https://localhost:8080/"
    },
    "id": "l4io8dFB0gmt",
    "outputId": "d908c996-7bfc-471e-fe04-5791915bab06"
   },
   "outputs": [
    {
     "name": "stdout",
     "output_type": "stream",
     "text": [
      "I'd rather die tomorrow than live a hundred yuears without knowing you.\n",
      "당신을 알지 못하고 수백 년을 사느니 당장 내일 죽는 게 낫겠어요.\n",
      "==========================================================================\n",
      "My dream wouldn't be complete without you in it.\n",
      "당신이 그 안에 없다면, 내 꿈은 완벽하게 이뤄질 수 없어요.\n",
      "==========================================================================\n",
      "A day spent with you is my favorite day. So today is my new favorite day.\n",
      "너와 보낸 하루는 내가 가장 좋아하는 날이야. 그러니까 오늘은 새로운 내가 제일 좋아하는 날이야.\n",
      "==========================================================================\n",
      "Life is a journey to be experienced, not a problem to be solved.\n",
      "인생은 풀어야 하는 문제가 아니라 경험을 쌓는 여정이야.\n",
      "==========================================================================\n",
      "The flower that blooms in adversity is the most rare and beautiful of all.\n",
      "역경 속에서 피어나는 꽃이 가장 귀하고 아름다운 거란다.\n",
      "==========================================================================\n"
     ]
    }
   ],
   "source": [
    "for source_index in range(len(en_sentences)):\n",
    "    query_source_sentence = en_sentences[source_index]\n",
    "    retrieved_target_sentence = return_most_similar(query_source_sentence, shuffled_ko_sentences) # 순서가 임의로 뒤섞인 target 문장들(shuffled_ko_sentences) 중 코사인 유사도가 가장 높은 문장을 선택하여 반환함 \n",
    "    print(query_source_sentence)\n",
    "    print(retrieved_target_sentence)\n",
    "    print(\"==========================================================================\")"
   ]
  },
  {
   "cell_type": "markdown",
   "metadata": {
    "id": "7Zpaw0y14FUh"
   },
   "source": [
    "###**콘텐츠 라이선스**\n",
    "\n",
    "<font color='red'><b>**WARNING**</b></font> : **본 교육 콘텐츠의 지식재산권은 재단법인 네이버커넥트에 귀속됩니다. 본 콘텐츠를 어떠한 경로로든 외부로 유출 및 수정하는 행위를 엄격히 금합니다.** 다만, 비영리적 교육 및 연구활동에 한정되어 사용할 수 있으나 재단의 허락을 받아야 합니다. 이를 위반하는 경우, 관련 법률에 따라 책임을 질 수 있습니다.\n",
    "\n"
   ]
  }
 ],
 "metadata": {
  "colab": {
   "provenance": [],
   "toc_visible": true
  },
  "kernelspec": {
   "display_name": "Python 3 (ipykernel)",
   "language": "python",
   "name": "python3"
  },
  "language_info": {
   "codemirror_mode": {
    "name": "ipython",
    "version": 3
   },
   "file_extension": ".py",
   "mimetype": "text/x-python",
   "name": "python",
   "nbconvert_exporter": "python",
   "pygments_lexer": "ipython3",
   "version": "3.8.16"
  },
  "widgets": {
   "application/vnd.jupyter.widget-state+json": {
    "02ebe583871847f7a7c000aaad8a577d": {
     "model_module": "@jupyter-widgets/base",
     "model_module_version": "1.2.0",
     "model_name": "LayoutModel",
     "state": {
      "_model_module": "@jupyter-widgets/base",
      "_model_module_version": "1.2.0",
      "_model_name": "LayoutModel",
      "_view_count": null,
      "_view_module": "@jupyter-widgets/base",
      "_view_module_version": "1.2.0",
      "_view_name": "LayoutView",
      "align_content": null,
      "align_items": null,
      "align_self": null,
      "border": null,
      "bottom": null,
      "display": null,
      "flex": null,
      "flex_flow": null,
      "grid_area": null,
      "grid_auto_columns": null,
      "grid_auto_flow": null,
      "grid_auto_rows": null,
      "grid_column": null,
      "grid_gap": null,
      "grid_row": null,
      "grid_template_areas": null,
      "grid_template_columns": null,
      "grid_template_rows": null,
      "height": null,
      "justify_content": null,
      "justify_items": null,
      "left": null,
      "margin": null,
      "max_height": null,
      "max_width": null,
      "min_height": null,
      "min_width": null,
      "object_fit": null,
      "object_position": null,
      "order": null,
      "overflow": null,
      "overflow_x": null,
      "overflow_y": null,
      "padding": null,
      "right": null,
      "top": null,
      "visibility": null,
      "width": null
     }
    },
    "0a960ceb315745f6b9ac7fd6bb3e2032": {
     "model_module": "@jupyter-widgets/base",
     "model_module_version": "1.2.0",
     "model_name": "LayoutModel",
     "state": {
      "_model_module": "@jupyter-widgets/base",
      "_model_module_version": "1.2.0",
      "_model_name": "LayoutModel",
      "_view_count": null,
      "_view_module": "@jupyter-widgets/base",
      "_view_module_version": "1.2.0",
      "_view_name": "LayoutView",
      "align_content": null,
      "align_items": null,
      "align_self": null,
      "border": null,
      "bottom": null,
      "display": null,
      "flex": null,
      "flex_flow": null,
      "grid_area": null,
      "grid_auto_columns": null,
      "grid_auto_flow": null,
      "grid_auto_rows": null,
      "grid_column": null,
      "grid_gap": null,
      "grid_row": null,
      "grid_template_areas": null,
      "grid_template_columns": null,
      "grid_template_rows": null,
      "height": null,
      "justify_content": null,
      "justify_items": null,
      "left": null,
      "margin": null,
      "max_height": null,
      "max_width": null,
      "min_height": null,
      "min_width": null,
      "object_fit": null,
      "object_position": null,
      "order": null,
      "overflow": null,
      "overflow_x": null,
      "overflow_y": null,
      "padding": null,
      "right": null,
      "top": null,
      "visibility": null,
      "width": null
     }
    },
    "10fa29e7e7ce415d876ace648be90082": {
     "model_module": "@jupyter-widgets/controls",
     "model_module_version": "1.5.0",
     "model_name": "DescriptionStyleModel",
     "state": {
      "_model_module": "@jupyter-widgets/controls",
      "_model_module_version": "1.5.0",
      "_model_name": "DescriptionStyleModel",
      "_view_count": null,
      "_view_module": "@jupyter-widgets/base",
      "_view_module_version": "1.2.0",
      "_view_name": "StyleView",
      "description_width": ""
     }
    },
    "1107ca11e29f4317bafea2aa53bcc81a": {
     "model_module": "@jupyter-widgets/base",
     "model_module_version": "1.2.0",
     "model_name": "LayoutModel",
     "state": {
      "_model_module": "@jupyter-widgets/base",
      "_model_module_version": "1.2.0",
      "_model_name": "LayoutModel",
      "_view_count": null,
      "_view_module": "@jupyter-widgets/base",
      "_view_module_version": "1.2.0",
      "_view_name": "LayoutView",
      "align_content": null,
      "align_items": null,
      "align_self": null,
      "border": null,
      "bottom": null,
      "display": null,
      "flex": null,
      "flex_flow": null,
      "grid_area": null,
      "grid_auto_columns": null,
      "grid_auto_flow": null,
      "grid_auto_rows": null,
      "grid_column": null,
      "grid_gap": null,
      "grid_row": null,
      "grid_template_areas": null,
      "grid_template_columns": null,
      "grid_template_rows": null,
      "height": null,
      "justify_content": null,
      "justify_items": null,
      "left": null,
      "margin": null,
      "max_height": null,
      "max_width": null,
      "min_height": null,
      "min_width": null,
      "object_fit": null,
      "object_position": null,
      "order": null,
      "overflow": null,
      "overflow_x": null,
      "overflow_y": null,
      "padding": null,
      "right": null,
      "top": null,
      "visibility": null,
      "width": null
     }
    },
    "20a3129586e14c6da950e73b8e4ba2fd": {
     "model_module": "@jupyter-widgets/controls",
     "model_module_version": "1.5.0",
     "model_name": "HBoxModel",
     "state": {
      "_dom_classes": [],
      "_model_module": "@jupyter-widgets/controls",
      "_model_module_version": "1.5.0",
      "_model_name": "HBoxModel",
      "_view_count": null,
      "_view_module": "@jupyter-widgets/controls",
      "_view_module_version": "1.5.0",
      "_view_name": "HBoxView",
      "box_style": "",
      "children": [
       "IPY_MODEL_71aabe0ac9a64873a2cb185cb89ff8f6",
       "IPY_MODEL_68e7648c89334733881c1c7989dc5ee8",
       "IPY_MODEL_9d9394684fd04e539eaa21ad61c532dd"
      ],
      "layout": "IPY_MODEL_6835689d243746a69c8c7d169169a42f"
     }
    },
    "2cdd89747adc4bd48cc8352117422397": {
     "model_module": "@jupyter-widgets/controls",
     "model_module_version": "1.5.0",
     "model_name": "ProgressStyleModel",
     "state": {
      "_model_module": "@jupyter-widgets/controls",
      "_model_module_version": "1.5.0",
      "_model_name": "ProgressStyleModel",
      "_view_count": null,
      "_view_module": "@jupyter-widgets/base",
      "_view_module_version": "1.2.0",
      "_view_name": "StyleView",
      "bar_color": null,
      "description_width": ""
     }
    },
    "3853066f908045de8830de9bbbad5f47": {
     "model_module": "@jupyter-widgets/controls",
     "model_module_version": "1.5.0",
     "model_name": "ProgressStyleModel",
     "state": {
      "_model_module": "@jupyter-widgets/controls",
      "_model_module_version": "1.5.0",
      "_model_name": "ProgressStyleModel",
      "_view_count": null,
      "_view_module": "@jupyter-widgets/base",
      "_view_module_version": "1.2.0",
      "_view_name": "StyleView",
      "bar_color": null,
      "description_width": ""
     }
    },
    "397f16c561db4e28b2efe3bd86f1da29": {
     "model_module": "@jupyter-widgets/controls",
     "model_module_version": "1.5.0",
     "model_name": "DescriptionStyleModel",
     "state": {
      "_model_module": "@jupyter-widgets/controls",
      "_model_module_version": "1.5.0",
      "_model_name": "DescriptionStyleModel",
      "_view_count": null,
      "_view_module": "@jupyter-widgets/base",
      "_view_module_version": "1.2.0",
      "_view_name": "StyleView",
      "description_width": ""
     }
    },
    "4ea746e86aa74c9ca3cfbd0dd825997a": {
     "model_module": "@jupyter-widgets/controls",
     "model_module_version": "1.5.0",
     "model_name": "HTMLModel",
     "state": {
      "_dom_classes": [],
      "_model_module": "@jupyter-widgets/controls",
      "_model_module_version": "1.5.0",
      "_model_name": "HTMLModel",
      "_view_count": null,
      "_view_module": "@jupyter-widgets/controls",
      "_view_module_version": "1.5.0",
      "_view_name": "HTMLView",
      "description": "",
      "description_tooltip": null,
      "layout": "IPY_MODEL_02ebe583871847f7a7c000aaad8a577d",
      "placeholder": "​",
      "style": "IPY_MODEL_10fa29e7e7ce415d876ace648be90082",
      "value": " 1/1 [00:00&lt;00:00,  1.96it/s]"
     }
    },
    "6835689d243746a69c8c7d169169a42f": {
     "model_module": "@jupyter-widgets/base",
     "model_module_version": "1.2.0",
     "model_name": "LayoutModel",
     "state": {
      "_model_module": "@jupyter-widgets/base",
      "_model_module_version": "1.2.0",
      "_model_name": "LayoutModel",
      "_view_count": null,
      "_view_module": "@jupyter-widgets/base",
      "_view_module_version": "1.2.0",
      "_view_name": "LayoutView",
      "align_content": null,
      "align_items": null,
      "align_self": null,
      "border": null,
      "bottom": null,
      "display": null,
      "flex": null,
      "flex_flow": null,
      "grid_area": null,
      "grid_auto_columns": null,
      "grid_auto_flow": null,
      "grid_auto_rows": null,
      "grid_column": null,
      "grid_gap": null,
      "grid_row": null,
      "grid_template_areas": null,
      "grid_template_columns": null,
      "grid_template_rows": null,
      "height": null,
      "justify_content": null,
      "justify_items": null,
      "left": null,
      "margin": null,
      "max_height": null,
      "max_width": null,
      "min_height": null,
      "min_width": null,
      "object_fit": null,
      "object_position": null,
      "order": null,
      "overflow": null,
      "overflow_x": null,
      "overflow_y": null,
      "padding": null,
      "right": null,
      "top": null,
      "visibility": null,
      "width": null
     }
    },
    "68e7648c89334733881c1c7989dc5ee8": {
     "model_module": "@jupyter-widgets/controls",
     "model_module_version": "1.5.0",
     "model_name": "FloatProgressModel",
     "state": {
      "_dom_classes": [],
      "_model_module": "@jupyter-widgets/controls",
      "_model_module_version": "1.5.0",
      "_model_name": "FloatProgressModel",
      "_view_count": null,
      "_view_module": "@jupyter-widgets/controls",
      "_view_module_version": "1.5.0",
      "_view_name": "ProgressView",
      "bar_style": "success",
      "description": "",
      "description_tooltip": null,
      "layout": "IPY_MODEL_bd6316cddbe24f4090f0a76b46896c0f",
      "max": 1,
      "min": 0,
      "orientation": "horizontal",
      "style": "IPY_MODEL_2cdd89747adc4bd48cc8352117422397",
      "value": 1
     }
    },
    "6acc0c1af33145a9b3696df1e59ff954": {
     "model_module": "@jupyter-widgets/controls",
     "model_module_version": "1.5.0",
     "model_name": "HTMLModel",
     "state": {
      "_dom_classes": [],
      "_model_module": "@jupyter-widgets/controls",
      "_model_module_version": "1.5.0",
      "_model_name": "HTMLModel",
      "_view_count": null,
      "_view_module": "@jupyter-widgets/controls",
      "_view_module_version": "1.5.0",
      "_view_name": "HTMLView",
      "description": "",
      "description_tooltip": null,
      "layout": "IPY_MODEL_0a960ceb315745f6b9ac7fd6bb3e2032",
      "placeholder": "​",
      "style": "IPY_MODEL_e9ba484fdb4f4eb8924429caee433a6c",
      "value": "Batches: 100%"
     }
    },
    "6b842e270fbc4e9d9b9b7af14e3af65b": {
     "model_module": "@jupyter-widgets/controls",
     "model_module_version": "1.5.0",
     "model_name": "HBoxModel",
     "state": {
      "_dom_classes": [],
      "_model_module": "@jupyter-widgets/controls",
      "_model_module_version": "1.5.0",
      "_model_name": "HBoxModel",
      "_view_count": null,
      "_view_module": "@jupyter-widgets/controls",
      "_view_module_version": "1.5.0",
      "_view_name": "HBoxView",
      "box_style": "",
      "children": [
       "IPY_MODEL_6acc0c1af33145a9b3696df1e59ff954",
       "IPY_MODEL_d74e988ab28c4af68a09047f0fd7cc90",
       "IPY_MODEL_4ea746e86aa74c9ca3cfbd0dd825997a"
      ],
      "layout": "IPY_MODEL_1107ca11e29f4317bafea2aa53bcc81a"
     }
    },
    "71aabe0ac9a64873a2cb185cb89ff8f6": {
     "model_module": "@jupyter-widgets/controls",
     "model_module_version": "1.5.0",
     "model_name": "HTMLModel",
     "state": {
      "_dom_classes": [],
      "_model_module": "@jupyter-widgets/controls",
      "_model_module_version": "1.5.0",
      "_model_name": "HTMLModel",
      "_view_count": null,
      "_view_module": "@jupyter-widgets/controls",
      "_view_module_version": "1.5.0",
      "_view_name": "HTMLView",
      "description": "",
      "description_tooltip": null,
      "layout": "IPY_MODEL_f81637b541b1402e870b890674bc482c",
      "placeholder": "​",
      "style": "IPY_MODEL_397f16c561db4e28b2efe3bd86f1da29",
      "value": "Batches: 100%"
     }
    },
    "924c72a119c64821b59c6a0b656b92fb": {
     "model_module": "@jupyter-widgets/controls",
     "model_module_version": "1.5.0",
     "model_name": "DescriptionStyleModel",
     "state": {
      "_model_module": "@jupyter-widgets/controls",
      "_model_module_version": "1.5.0",
      "_model_name": "DescriptionStyleModel",
      "_view_count": null,
      "_view_module": "@jupyter-widgets/base",
      "_view_module_version": "1.2.0",
      "_view_name": "StyleView",
      "description_width": ""
     }
    },
    "9d9394684fd04e539eaa21ad61c532dd": {
     "model_module": "@jupyter-widgets/controls",
     "model_module_version": "1.5.0",
     "model_name": "HTMLModel",
     "state": {
      "_dom_classes": [],
      "_model_module": "@jupyter-widgets/controls",
      "_model_module_version": "1.5.0",
      "_model_name": "HTMLModel",
      "_view_count": null,
      "_view_module": "@jupyter-widgets/controls",
      "_view_module_version": "1.5.0",
      "_view_name": "HTMLView",
      "description": "",
      "description_tooltip": null,
      "layout": "IPY_MODEL_b90a5276c71d4fd1b753fcad7825c616",
      "placeholder": "​",
      "style": "IPY_MODEL_924c72a119c64821b59c6a0b656b92fb",
      "value": " 1/1 [00:00&lt;00:00,  1.44it/s]"
     }
    },
    "b90a5276c71d4fd1b753fcad7825c616": {
     "model_module": "@jupyter-widgets/base",
     "model_module_version": "1.2.0",
     "model_name": "LayoutModel",
     "state": {
      "_model_module": "@jupyter-widgets/base",
      "_model_module_version": "1.2.0",
      "_model_name": "LayoutModel",
      "_view_count": null,
      "_view_module": "@jupyter-widgets/base",
      "_view_module_version": "1.2.0",
      "_view_name": "LayoutView",
      "align_content": null,
      "align_items": null,
      "align_self": null,
      "border": null,
      "bottom": null,
      "display": null,
      "flex": null,
      "flex_flow": null,
      "grid_area": null,
      "grid_auto_columns": null,
      "grid_auto_flow": null,
      "grid_auto_rows": null,
      "grid_column": null,
      "grid_gap": null,
      "grid_row": null,
      "grid_template_areas": null,
      "grid_template_columns": null,
      "grid_template_rows": null,
      "height": null,
      "justify_content": null,
      "justify_items": null,
      "left": null,
      "margin": null,
      "max_height": null,
      "max_width": null,
      "min_height": null,
      "min_width": null,
      "object_fit": null,
      "object_position": null,
      "order": null,
      "overflow": null,
      "overflow_x": null,
      "overflow_y": null,
      "padding": null,
      "right": null,
      "top": null,
      "visibility": null,
      "width": null
     }
    },
    "bd6316cddbe24f4090f0a76b46896c0f": {
     "model_module": "@jupyter-widgets/base",
     "model_module_version": "1.2.0",
     "model_name": "LayoutModel",
     "state": {
      "_model_module": "@jupyter-widgets/base",
      "_model_module_version": "1.2.0",
      "_model_name": "LayoutModel",
      "_view_count": null,
      "_view_module": "@jupyter-widgets/base",
      "_view_module_version": "1.2.0",
      "_view_name": "LayoutView",
      "align_content": null,
      "align_items": null,
      "align_self": null,
      "border": null,
      "bottom": null,
      "display": null,
      "flex": null,
      "flex_flow": null,
      "grid_area": null,
      "grid_auto_columns": null,
      "grid_auto_flow": null,
      "grid_auto_rows": null,
      "grid_column": null,
      "grid_gap": null,
      "grid_row": null,
      "grid_template_areas": null,
      "grid_template_columns": null,
      "grid_template_rows": null,
      "height": null,
      "justify_content": null,
      "justify_items": null,
      "left": null,
      "margin": null,
      "max_height": null,
      "max_width": null,
      "min_height": null,
      "min_width": null,
      "object_fit": null,
      "object_position": null,
      "order": null,
      "overflow": null,
      "overflow_x": null,
      "overflow_y": null,
      "padding": null,
      "right": null,
      "top": null,
      "visibility": null,
      "width": null
     }
    },
    "ca49feaff8174baa84951de61315e604": {
     "model_module": "@jupyter-widgets/base",
     "model_module_version": "1.2.0",
     "model_name": "LayoutModel",
     "state": {
      "_model_module": "@jupyter-widgets/base",
      "_model_module_version": "1.2.0",
      "_model_name": "LayoutModel",
      "_view_count": null,
      "_view_module": "@jupyter-widgets/base",
      "_view_module_version": "1.2.0",
      "_view_name": "LayoutView",
      "align_content": null,
      "align_items": null,
      "align_self": null,
      "border": null,
      "bottom": null,
      "display": null,
      "flex": null,
      "flex_flow": null,
      "grid_area": null,
      "grid_auto_columns": null,
      "grid_auto_flow": null,
      "grid_auto_rows": null,
      "grid_column": null,
      "grid_gap": null,
      "grid_row": null,
      "grid_template_areas": null,
      "grid_template_columns": null,
      "grid_template_rows": null,
      "height": null,
      "justify_content": null,
      "justify_items": null,
      "left": null,
      "margin": null,
      "max_height": null,
      "max_width": null,
      "min_height": null,
      "min_width": null,
      "object_fit": null,
      "object_position": null,
      "order": null,
      "overflow": null,
      "overflow_x": null,
      "overflow_y": null,
      "padding": null,
      "right": null,
      "top": null,
      "visibility": null,
      "width": null
     }
    },
    "d74e988ab28c4af68a09047f0fd7cc90": {
     "model_module": "@jupyter-widgets/controls",
     "model_module_version": "1.5.0",
     "model_name": "FloatProgressModel",
     "state": {
      "_dom_classes": [],
      "_model_module": "@jupyter-widgets/controls",
      "_model_module_version": "1.5.0",
      "_model_name": "FloatProgressModel",
      "_view_count": null,
      "_view_module": "@jupyter-widgets/controls",
      "_view_module_version": "1.5.0",
      "_view_name": "ProgressView",
      "bar_style": "success",
      "description": "",
      "description_tooltip": null,
      "layout": "IPY_MODEL_ca49feaff8174baa84951de61315e604",
      "max": 1,
      "min": 0,
      "orientation": "horizontal",
      "style": "IPY_MODEL_3853066f908045de8830de9bbbad5f47",
      "value": 1
     }
    },
    "e9ba484fdb4f4eb8924429caee433a6c": {
     "model_module": "@jupyter-widgets/controls",
     "model_module_version": "1.5.0",
     "model_name": "DescriptionStyleModel",
     "state": {
      "_model_module": "@jupyter-widgets/controls",
      "_model_module_version": "1.5.0",
      "_model_name": "DescriptionStyleModel",
      "_view_count": null,
      "_view_module": "@jupyter-widgets/base",
      "_view_module_version": "1.2.0",
      "_view_name": "StyleView",
      "description_width": ""
     }
    },
    "f81637b541b1402e870b890674bc482c": {
     "model_module": "@jupyter-widgets/base",
     "model_module_version": "1.2.0",
     "model_name": "LayoutModel",
     "state": {
      "_model_module": "@jupyter-widgets/base",
      "_model_module_version": "1.2.0",
      "_model_name": "LayoutModel",
      "_view_count": null,
      "_view_module": "@jupyter-widgets/base",
      "_view_module_version": "1.2.0",
      "_view_name": "LayoutView",
      "align_content": null,
      "align_items": null,
      "align_self": null,
      "border": null,
      "bottom": null,
      "display": null,
      "flex": null,
      "flex_flow": null,
      "grid_area": null,
      "grid_auto_columns": null,
      "grid_auto_flow": null,
      "grid_auto_rows": null,
      "grid_column": null,
      "grid_gap": null,
      "grid_row": null,
      "grid_template_areas": null,
      "grid_template_columns": null,
      "grid_template_rows": null,
      "height": null,
      "justify_content": null,
      "justify_items": null,
      "left": null,
      "margin": null,
      "max_height": null,
      "max_width": null,
      "min_height": null,
      "min_width": null,
      "object_fit": null,
      "object_position": null,
      "order": null,
      "overflow": null,
      "overflow_x": null,
      "overflow_y": null,
      "padding": null,
      "right": null,
      "top": null,
      "visibility": null,
      "width": null
     }
    }
   }
  }
 },
 "nbformat": 4,
 "nbformat_minor": 1
}
