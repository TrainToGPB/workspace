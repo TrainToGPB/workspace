{
 "cells": [
  {
   "cell_type": "markdown",
   "metadata": {
    "id": "uOnz8OxdbN3y"
   },
   "source": [
    "# Natural Language Processing\n",
    "\n",
    "## 기본과제 2: Word-level language modeling with RNN\n",
    "\n",
    "> Reference 코드는 Solution 과 함께 공개됩니다.\n",
    "\n",
    "\n"
   ]
  },
  {
   "cell_type": "markdown",
   "metadata": {
    "id": "NSNON1TAbj2i"
   },
   "source": [
    "### Introduction\n",
    "\n",
    "\n",
    "*   본 과제의 목적은 Recurrent Neural Network (RNN) 을 이용하여 language modling task 를 학습하는 것입니다. 이번 과제에서는 language modeling task 와 RNN 의 개념을 익히게 됩니다.\n",
    "*   RNN 모델을 구현하고, 주어진 데이터를 가공하여 모델을 학습한 후 학습된 언어 모델을 이용해 문장을 생성합니다.\n",
    "*   **ANSWER HERE** 이라고 작성된 부분을 채워 완성하시면 됩니다. 다른 부분의 코드를 변경하면 오류가 발생할 수 있습니다.\n",
    "\n",
    "> 과제 완성 후 ipynb 파일을 제출해 주세요.<br>"
   ]
  },
  {
   "cell_type": "markdown",
   "metadata": {
    "id": "NHkdhcShck9V"
   },
   "source": [
    "### 0. 데이터 업로드\n",
    "\n",
    "\n",
    "1. Boostcourse [기본 과제] RNN-based Language Model 에서 `wikitext-2.zip` 파일을 다운받습니다.\n",
    "2. 본 Colab 환경에 `train.txt`, `dev.txt`, `test.txt` 파일을 업로드합니다.\n",
    "3. `!ls` command 를 실행했을 때, `sample_data  test.txt  train.txt  valid.txt` 가 나오면 성공적으로 데이터 준비가 완료된 것 입니다."
   ]
  },
  {
   "cell_type": "code",
   "execution_count": 1,
   "metadata": {
    "id": "6HTRQYHFkpRW"
   },
   "outputs": [
    {
     "name": "stdout",
     "output_type": "stream",
     "text": [
      "'(10강-실습) HuggingFace_s Transformers 2.ipynb'\r\n",
      "'(1강-실습-1) Naive Bayes classifier 구현.ipynb'\r\n",
      "'(1강-실습-2) Corpus Cleaning.ipynb'\r\n",
      "'(2강-실습-1) Word2Vec 구현 및 Embedding 시각화.ipynb'\r\n",
      "'(2강-실습-2) 다국어 임베딩.ipynb'\r\n",
      "'(3강-실습) Basic RNN 실습.ipynb'\r\n",
      "'(4강-실습) LSTM, GRU 실습.ipynb'\r\n",
      "'(5강-실습) Seq2Seq 구현.ipynb'\r\n",
      "'(6강-실습) Seq2Seq with Attention 구현.ipynb'\r\n",
      "'(7강-실습) Multi head Attention 구현.ipynb'\r\n",
      "'(8강-실습) Masked Multi-head Attention 구현.ipynb'\r\n",
      "'(9강-실습) HuggingFace_s Transformers 1.ipynb'\r\n",
      "'(기본-1) Data Preprocessing_Tokenization (문제).ipynb'\r\n",
      "'(기본-2) RNN-based Language Model (문제).ipynb'\r\n",
      "'(기본-3) Subword-level Language Model (문제).ipynb'\r\n",
      "'(기본-4) Preprocessing for NMT Model (문제).ipynb'\r\n",
      "'(심화-1) BERT Fine-tuning with Transformers (문제).ipynb'\r\n",
      "'(심화-2) NMT training with Fairseq (문제).ipynb'\r\n",
      " corpus.txt\r\n",
      " generate.txt\r\n",
      " generate_30epoch.txt\r\n",
      " model.pt\r\n",
      " model_30epoch.pt\r\n",
      " test.txt\r\n",
      " train.txt\r\n",
      " valid.txt\r\n"
     ]
    }
   ],
   "source": [
    "! ls"
   ]
  },
  {
   "cell_type": "code",
   "execution_count": 2,
   "metadata": {
    "id": "hL0dueeZpi3z"
   },
   "outputs": [
    {
     "name": "stdout",
     "output_type": "stream",
     "text": [
      "36718\n",
      "0\n",
      " \n",
      "\n",
      "1\n",
      " = Valkyria Chronicles III = \n",
      "\n",
      "2\n",
      " \n",
      "\n",
      "3\n",
      " Senjō no Valkyria 3 : <unk> Chronicles ( Japanese : 戦場のヴァルキュリア3 , lit . Valkyria of the Battlefield 3 ) , commonly referred to as Valkyria Chronicles III outside Japan , is a tactical role @-@ playing video game developed by Sega and Media.Vision for the PlayStation Portable . Released in January 2011 in Japan , it is the third game in the Valkyria series . <unk> the same fusion of tactical and real @-@ time gameplay as its predecessors , the story runs parallel to the first game and follows the \" Nameless \" , a penal military unit serving the nation of Gallia during the Second Europan War who perform secret black operations and are pitted against the Imperial unit \" <unk> Raven \" . \n",
      "\n",
      "4\n",
      " The game began development in 2010 , carrying over a large portion of the work done on Valkyria Chronicles II . While it retained the standard features of the series , it also underwent multiple adjustments , such as making the game more <unk> for series newcomers . Character designer <unk> Honjou and composer Hitoshi Sakimoto both returned from previous entries , along with Valkyria Chronicles II director Takeshi Ozawa . A large team of writers handled the script . The game 's opening theme was sung by May 'n . \n",
      "\n",
      "5\n",
      " It met with positive sales in Japan , and was praised by both Japanese and western critics . After release , it received downloadable content , along with an expanded edition in November of that year . It was also adapted into manga and an original video animation series . Due to low sales of Valkyria Chronicles II , Valkyria Chronicles III was not localized , but a fan translation compatible with the game 's expanded edition was released in 2014 . Media.Vision would return to the franchise with the development of Valkyria : Azure Revolution for the PlayStation 4 . \n",
      "\n",
      "6\n",
      " \n",
      "\n",
      "7\n",
      " = = Gameplay = = \n",
      "\n",
      "8\n",
      " \n",
      "\n",
      "9\n",
      " As with previous <unk> Chronicles games , Valkyria Chronicles III is a tactical role @-@ playing game where players take control of a military unit and take part in missions against enemy forces . Stories are told through comic book @-@ like panels with animated character portraits , with characters speaking partially through voiced speech bubbles and partially through <unk> text . The player progresses through a series of linear missions , gradually unlocked as maps that can be freely <unk> through and replayed as they are unlocked . The route to each story location on the map varies depending on an individual player 's approach : when one option is selected , the other is sealed off to the player . Outside missions , the player characters rest in a camp , where units can be customized and character growth occurs . Alongside the main story missions are character @-@ specific sub missions relating to different squad members . After the game 's completion , additional episodes are unlocked , some of them having a higher difficulty than those found in the rest of the game . There are also love simulation elements related to the game 's two main <unk> , although they take a very minor role . \n",
      "\n"
     ]
    }
   ],
   "source": [
    "path_train = './train.txt'\n",
    "with open(path_train, 'r', encoding=\"utf8\") as f:\n",
    "    corpus_train = f.readlines()    \n",
    "\n",
    "# train dataset 크기 확인\n",
    "print(len(corpus_train))\n",
    "\n",
    "# 처음 10 문장을 print 해 봅시다.\n",
    "for sent_num, sent in enumerate(corpus_train[:10]):\n",
    "    print(sent_num)\n",
    "    print(sent)"
   ]
  },
  {
   "cell_type": "markdown",
   "metadata": {
    "id": "bpnQ9HrAd-Ll"
   },
   "source": [
    "### 1. 데이터 클래스 준비\n",
    "\n",
    "\n",
    "*   `Dictionary`: 데이터에 등장하는 토큰의 집합. 집합 내 토큰을 유일한 id에 매핑합니다.\n",
    "*  `Corpus`: 모델의 학습, 테스트 과정에서 사용되는 입력을 준비합니다. 데이터를 불러오고 dictionary 를 생성합니다. 데이터를 토큰화하고 생성한 dictionary를 이용해 각 토큰을 id로 변환합니다.\n",
    "\n",
    "제공된 `wikitext-2` 파일은 사전에 토큰화가 되어 공백으로 모든 토큰이 나누어져 있습니다. 따라서 단순히 공백 기준으로 토큰화를 진행하면 됩니다.\n",
    "\n"
   ]
  },
  {
   "cell_type": "code",
   "execution_count": 3,
   "metadata": {
    "id": "xQIyGQlfd9Os"
   },
   "outputs": [],
   "source": [
    "import os\n",
    "import torch\n",
    "\n",
    "class Dictionary(object):\n",
    "    def __init__(self):\n",
    "        self.token2id = {}\n",
    "        self.id2token = []\n",
    "\n",
    "    def add_word(self, word):\n",
    "        if word not in self.token2id:\n",
    "            self.id2token.append(word)\n",
    "            self.token2id[word] = len(self.id2token) - 1\n",
    "        return self.token2id[word]\n",
    "\n",
    "    def __len__(self):\n",
    "        return len(self.id2token)\n",
    "\n",
    "class Corpus(object):\n",
    "    def __init__(self, path):\n",
    "        self.dictionary = Dictionary() # 원래 코드대로 여기서 dictionary를 초기화해버리면 -> 단어장 중복 발생 (OOM도 연관?)\n",
    "        self.train = self.tokenize(os.path.join(path, 'train.txt'))\n",
    "        self.valid = self.tokenize(os.path.join(path, 'valid.txt'))\n",
    "        self.test = self.tokenize(os.path.join(path, 'test.txt'))\n",
    "\n",
    "    def tokenize(self, path):\n",
    "#         self.dictionary = Dictionary() # 아래 문제의 답으로 여기서 dictionary를 매번 초기화해주면 -> cuDNN 오류 발생\n",
    "        \"\"\"Tokenizes a text file.\"\"\"\n",
    "        assert os.path.exists(path)\n",
    "        # Add words to the dictionary\n",
    "        with open(path, 'r', encoding=\"utf-8\") as f:\n",
    "            for line in f:\n",
    "                words = line.split() + ['<eos>']\n",
    "                for word in words:\n",
    "                    self.dictionary.add_word(word)\n",
    "\n",
    "        # Tokenize file content\n",
    "        with open(path, 'r', encoding=\"utf-8\") as f:\n",
    "            idss = []\n",
    "            for line in f:\n",
    "                words = line.split() + ['<eos>']\n",
    "                ids = []\n",
    "                for word in words:\n",
    "                    ids.append(self.dictionary.token2id[word])\n",
    "                idss.append(torch.tensor(ids).type(torch.int64))\n",
    "            ids = torch.cat(idss)\n",
    "\n",
    "        return ids"
   ]
  },
  {
   "cell_type": "markdown",
   "metadata": {
    "id": "_iCy8wadg2HG"
   },
   "source": [
    "**Question**\n",
    "\n",
    "1. 현재 코드는 `train`, `dev`, `test` 데이터를 모두 dictionary 에 포함하고 있습니다. 이때 발생할 수 있는 문제점은 무엇일까요?\n",
    "2. 1에서 발생한 문제점을 해결하기 위해서는 어떻게 바꿔야 할까요?"
   ]
  },
  {
   "cell_type": "markdown",
   "metadata": {
    "id": "c1MWXtafE1u_"
   },
   "source": [
    "**Answer**\n",
    "1. dictionary가 모든 파일의 words를 추가하게 되고, 중복될 수 있습니다.\n",
    "2. dictionary를 tokenizer 함수 안에서 초기화해야 합니다."
   ]
  },
  {
   "cell_type": "code",
   "execution_count": 4,
   "metadata": {
    "id": "k1_-FsgOqfj8"
   },
   "outputs": [],
   "source": [
    "# corpus 확인\n",
    "path = './'\n",
    "corpus = Corpus(path)"
   ]
  },
  {
   "cell_type": "code",
   "execution_count": 5,
   "metadata": {
    "id": "k1_-FsgOqfj8"
   },
   "outputs": [
    {
     "name": "stdout",
     "output_type": "stream",
     "text": [
      "torch.Size([2088628])\n",
      "torch.Size([217646])\n",
      "torch.Size([245569])\n"
     ]
    }
   ],
   "source": [
    "print(corpus.train.size())\n",
    "print(corpus.valid.size())\n",
    "print(corpus.test.size())"
   ]
  },
  {
   "cell_type": "code",
   "execution_count": 6,
   "metadata": {
    "id": "nPgEmMlFquIg"
   },
   "outputs": [
    {
     "name": "stdout",
     "output_type": "stream",
     "text": [
      "tensor([0, 1, 2, 3, 4, 1, 0, 0, 5, 6])\n"
     ]
    }
   ],
   "source": [
    "# Corpus module 에 의해 데이터가 토큰화되어 저장된 것을 확인 할 수 있습니다.\n",
    "print(corpus.train[:10])"
   ]
  },
  {
   "cell_type": "markdown",
   "metadata": {
    "id": "l3r_wB5xeYRT"
   },
   "source": [
    "### 2. 모델 아키텍처 준비\n",
    "\n",
    "\n",
    "*   `RNNModel`: Embedding, RNN module, Projection 를 포함한 컨테이너 모듈.\n",
    "다음과 같이 이전 hidden state와 input을 받아 다음 토큰의 log probability와 다음 hidden state를 반환합니다.\n",
    "\n",
    "![rnnmodel.png](data:image/png;base64,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)"
   ]
  },
  {
   "cell_type": "code",
   "execution_count": 7,
   "metadata": {
    "id": "zw6w3zVQnoVR"
   },
   "outputs": [],
   "source": [
    "from typing import Union, Tuple\n",
    "import torch\n",
    "import torch.nn as nn\n",
    "import torch.nn.functional as F\n",
    "\n",
    "class RNNModel(nn.Module):\n",
    "    def __init__(self, \n",
    "        rnn_type: str,\n",
    "        vocab_size: int,\n",
    "        embedding_size: int=200,\n",
    "        hidden_size: int=200,\n",
    "        num_hidden_layers: int=2,\n",
    "        dropout: float=0.5\n",
    "    ):\n",
    "        super().__init__()\n",
    "        self.rnn_type = rnn_type\n",
    "        self.vocab_size = vocab_size\n",
    "        self.hidden_size = hidden_size\n",
    "        self.num_hidden_layer = num_hidden_layers\n",
    "        assert rnn_type in {'LSTM', 'GRU', 'RNN_TANH', 'RNN_RELU'}\n",
    "\n",
    "        # 정수 형태의 id를 고유 벡터 형식으로 나타내기 위하여 학습 가능한 Embedding Layer를 사용합니다.\n",
    "        # https://pytorch.org/docs/stable/generated/torch.nn.Embedding.html\n",
    "        self.embedding = nn.Embedding(vocab_size, embedding_size)\n",
    "\n",
    "        # Dropout은 RNN 사용시 많이 쓰입니다.\n",
    "        # https://pytorch.org/docs/stable/generated/torch.nn.Dropout.html \n",
    "        self.dropout = nn.Dropout(dropout)\n",
    "\n",
    "        if rnn_type.startswith('RNN'):\n",
    "            # Pytorch에서 제공하는 기본 RNN을 사용해 봅시다.\n",
    "            # https://pytorch.org/docs/stable/generated/torch.nn.RNN.html \n",
    "            nonlinearity = rnn_type.split('_')[-1].lower()\n",
    "            self.rnn = nn.RNN(\n",
    "                embedding_size, \n",
    "                hidden_size, \n",
    "                num_hidden_layers,\n",
    "                batch_first=True, \n",
    "                nonlinearity=nonlinearity,\n",
    "                dropout=dropout\n",
    "            )\n",
    "        else:\n",
    "            # Pytorch의 LSTM과 GRU를 사용해 봅시다.\n",
    "            # LSTM: https://pytorch.org/docs/stable/generated/torch.nn.LSTM.html\n",
    "            # RGU: https://pytorch.org/docs/stable/generated/torch.nn.GRU.html\n",
    "            self.rnn = getattr(nn, rnn_type)(\n",
    "                embedding_size,\n",
    "                hidden_size,\n",
    "                num_hidden_layers,\n",
    "                batch_first=True,\n",
    "                dropout=dropout\n",
    "            )\n",
    "\n",
    "        # 최종적으로 나온 hidden state를 이용해 다음 토큰을 예측하는 출력층을 구성합시다.\n",
    "        self.projection = nn.Linear(hidden_size, vocab_size)\n",
    "\n",
    "    def forward(\n",
    "        self, \n",
    "        input: torch.Tensor,\n",
    "        prev_hidden: Union[torch.Tensor, Tuple[torch.Tensor, torch.Tensor]]\n",
    "    ):\n",
    "        \"\"\" RNN 모델의 forward 함수 구현\n",
    "        위의 그림과 __init__ 함수 내 주석을 참고하여 forward 함수를 구현하세요.\n",
    "\n",
    "        Hint 1: RNN 모델에선 Dropout을 곳곳에 적용하는 것이 성능이 좋다고 알려져 있습니다.\n",
    "                예를 들어, Embedding 이후와 Projection 전에도 적용할 수 있습니다.\n",
    "        Hint 2: 최종 확률값을 구하기 위해서 Projection 이후에 F.log_softmax를 사용하면 됩니다.\n",
    "\n",
    "        Arguments:\n",
    "        input -- 토큰화 및 배치화된 문장들의 텐서\n",
    "                    dtype: torch.long\n",
    "                    shape: [batch_size, sequence_lentgh]\n",
    "        prev_hidden -- 이전의 hidden state\n",
    "                    dtype: torch.float\n",
    "                    shape: RNN, GRU - [num_layers, batch_size, hidden_size]\n",
    "                           LSTM - ([num_layers, batch_size, hidden_size], [num_layers, batch_size, hidden_size])\n",
    "\n",
    "        Return:\n",
    "        log_prob -- 다음 토큰을 예측한 확률에 log를 취한 값\n",
    "                    dtype: torch.float\n",
    "                    shape: [batch_size, sequence_length, vocab_size]\n",
    "        next_hidden -- 이후의 hidden state\n",
    "                    dtype: torch.float\n",
    "                    shape: RNN, GRU - [num_layers, batch_size, hidden_size]\n",
    "                           LSTM - ([num_layers, batch_size, hidden_size], [num_layers, batch_size, hidden_size])\n",
    "        \"\"\"\n",
    "        ### YOUR CODE HERE\n",
    "        ### ANSWER HERE ###\n",
    "        \n",
    "        embeddings = self.embedding(input) # (batch_size, sequence_length, embedding_size)\n",
    "        embeddings = self.dropout(embeddings)\n",
    "        \n",
    "        output, next_hidden = self.rnn(embeddings, prev_hidden) # (batch_size, sequence_length, hidden_size)\n",
    "        output = self.dropout(output)\n",
    "        \n",
    "        projections = self.projection(output) # (batch_size, sequence_length, vocab_size)\n",
    "        log_prob = F.log_softmax(projections, dim=-1) # (batch_size, sequence_length, vocab_size)\n",
    "\n",
    "        ### END YOUR CODE\n",
    "        \n",
    "        assert list(log_prob.shape) == list(input.shape) + [self.vocab_size]\n",
    "        assert prev_hidden.shape == next_hidden.shape if self.rnn_type != 'LSTM' \\\n",
    "          else prev_hidden[0].shape == next_hidden[0].shape == next_hidden[1].shape\n",
    "        \n",
    "        return log_prob, next_hidden\n",
    "    \n",
    "    def init_hidden(self, batch_size: int):\n",
    "        \"\"\" 첫 hidden state를 반환하는 함수 \"\"\"\n",
    "        weight = self.projection.weight\n",
    "        \n",
    "        if self.rnn_type == 'LSTM':\n",
    "            return (weight.new_zeros(self.num_hidden_layer, batch_size, self.hidden_size),\n",
    "                    weight.new_zeros(self.num_hidden_layer, batch_size, self.hidden_size))\n",
    "        else:\n",
    "            return weight.new_zeros(self.num_hidden_layer, batch_size, self.hidden_size)\n",
    "    \n",
    "    @property\n",
    "    def device(self):   # 현재 모델의 device를 반환하는 프로퍼티\n",
    "        return self.projection.weight.device"
   ]
  },
  {
   "cell_type": "markdown",
   "metadata": {
    "id": "9m8i4bRynoVS"
   },
   "source": [
    "**모델 생성**"
   ]
  },
  {
   "cell_type": "code",
   "execution_count": 8,
   "metadata": {
    "id": "DfUKSXSUnoVS"
   },
   "outputs": [],
   "source": [
    "rnn_type = 'LSTM'      # 'LSTM', 'GRU', 'RNN_TANH', 'RNN_RELU'\n",
    "vocab_size = len(corpus.dictionary)\n",
    "model = RNNModel(rnn_type, vocab_size=vocab_size)"
   ]
  },
  {
   "cell_type": "code",
   "execution_count": 9,
   "metadata": {},
   "outputs": [
    {
     "data": {
      "text/plain": [
       "33278"
      ]
     },
     "execution_count": 9,
     "metadata": {},
     "output_type": "execute_result"
    }
   ],
   "source": [
    "vocab_size"
   ]
  },
  {
   "cell_type": "markdown",
   "metadata": {
    "id": "jZl3TBWAe08_"
   },
   "source": [
    "### 3. 모델 학습\n",
    "\n",
    "\n",
    "*   모델 학습에 필요한 argument 를 설정합니다.\n",
    "*   데이터를 불러 오고, 모델을 build 한 후 train, dev 데이터로 학습 및 evaluate 합니다.\n",
    "*   loss 와 [perplexity score](https://wikidocs.net/21697) 를 모니터링하여 학습 현황을 확인합니다.\n",
    "\n"
   ]
  },
  {
   "cell_type": "markdown",
   "metadata": {
    "id": "Py3bymNInoVS"
   },
   "source": [
    "**배치화**\n",
    "\n",
    "전체 말뭉치에 대해 RNN 계산을 하여 기울기(Gradient)를 역전파하는 것은 시간도 오래걸릴 뿐만이 아니라 병렬화가 불가능합니다.\n",
    "따라서 이를 배치 크기 만큼 잘라 각각을 별개의 학습 샘플로 사용합니다.\n",
    "\n",
    "현재 데이터셋은 한 줄로 길게 구성되어 있습니다.\n",
    "\n",
    "```\n",
    "[ a b c d e <eos> f g h i j k l m n <eos> o p q r s <eos> t u v w x y z <eos> ]\n",
    "```\n",
    "\n",
    "이를 batch_size = `4`로 나누면 다음과 같습니다.\n",
    "\n",
    "```\n",
    "[[ a b c d e <eos> ], \n",
    " [ f g h i j k ],\n",
    " [ l m n <eos> o p ],\n",
    " [ r s <eos> t u v ]]\n",
    "```\n",
    "\n",
    "개수가 부족하여 배치를 못 채운 부분은 잘라버립니다.\n"
   ]
  },
  {
   "cell_type": "markdown",
   "metadata": {
    "id": "MH_HuTyYnoVS"
   },
   "source": [
    "**Truncated Backpropagation through Time (Truncated BPTT)**\n",
    "\n",
    "배치화를 하였음에도 불구하고 하나의 샘플이 너무 길어 RNN 역전파를 하기에는 난점이 많습니다.\n",
    "이를 해결하기 위하여 학습에 Truncated BPTT를 사용해보겠습니다.\n",
    "BPTT는 한번에 sequence_length 만큼에 대해서만 역전파를 수행해서 전체 Sequence를 학습시키는 방법입니다.\n",
    "\n",
    "이를 위하여 한 각 샘플을 sequence_length 나누어 줍니다.\n",
    "배치화된 데이터 셋을 sequence_length = `2`로 나누면 다음과 같습니다.\n",
    "\n",
    "```\n",
    "[[[ a b ], [ c d ], [ e <eos> ]],\n",
    " [[ f g ],  [ h i ], [ j k ]],\n",
    " [[ l m ], [ n <eos> ], [ o p ]], \n",
    " [[ r s ], [ <eos> t ], [ u v ]]]\n",
    "```\n",
    "\n",
    "현재 shape는 (batch_size, num_sample, sequence_length) 입니다.\n",
    "BPTT는 num_sample 부분을 순회하면서 기울기를 계산합니다.\n",
    "따라서 이를 `reshape`하여 (num_sample, batch_size, sequence_length)로 구성하면 편리합니다.\n",
    "\n",
    "```\n",
    "[[[ a b ], [ f g ], [ l m ], [ r s ]],\n",
    " [[ c d ], [ h, i ], [ n <eos> ], [ <eos> t ]],\n",
    " [[ e <eos> ], [ j k ], [ o p ], [ u v ]]]\n",
    "```\n",
    "\n",
    "이때 첫번째 샘플인 `[[ a b ], [ f g ], [ l m ], [ r s ]]`는 각 배치의 첫번째 sequence이고, 두번째 샘플인 `[[ c d ], [ h, i ], [ n <eos> ], [ <eos> t ]]`는 각 배치의 두번째 sequence, 그리고 마지막 샘플인 `[[ e <eos> ], [ j k ], [ o p ], [ u v ]]]`는 각 배치의 마지막 부분이라는 것을 알 수 있습니다."
   ]
  },
  {
   "cell_type": "code",
   "execution_count": 10,
   "metadata": {
    "id": "sbt3qYzhnoVT"
   },
   "outputs": [],
   "source": [
    "def bptt_batchify(\n",
    "    data: torch.Tensor,\n",
    "    batch_size: int,\n",
    "    sequence_length: int\n",
    "):\n",
    "    ''' BPTT 배치화 함수\n",
    "    한 줄로 길게 구성된 데이터를 받아 BPTT를 위해 배치화합니다.\n",
    "    batch_size * sequence_length의 배수에 맞지 않아 뒤에 남는 부분은 잘라버립니다.\n",
    "    이 후 배수에 맞게 조절된 데이터로 BPTT 배치화를 진행합니다.\n",
    "\n",
    "\n",
    "    Arguments:\n",
    "    data -- 학습 데이터가 담긴 텐서\n",
    "            dtype: torch.long\n",
    "            shape: [data_lentgh]\n",
    "    batch_size -- 배치 크기\n",
    "    sequence_length -- 한 샘플의 길이\n",
    "\n",
    "    Return:\n",
    "    batches -- 배치화된 텐서\n",
    "               dtype: torch.long\n",
    "               shape: [num_sample, batch_size, sequence_length]\n",
    "\n",
    "    '''\n",
    "    ### YOUR CODE HERE\n",
    "    ### ANSWER HERE ###\n",
    "    \n",
    "    num_sample = (len(data) // (batch_size * sequence_length))\n",
    "    data = data[:num_sample * batch_size * sequence_length]\n",
    "    batches = data.view((batch_size, num_sample, sequence_length)).transpose(0, 1)\n",
    "\n",
    "    ### END YOUR CODE\n",
    "\n",
    "    return batches"
   ]
  },
  {
   "cell_type": "code",
   "execution_count": 11,
   "metadata": {},
   "outputs": [
    {
     "data": {
      "text/plain": [
       "tensor([[[ 0.,  1.],\n",
       "         [ 6.,  7.],\n",
       "         [12., 13.],\n",
       "         [18., 19.]],\n",
       "\n",
       "        [[ 2.,  3.],\n",
       "         [ 8.,  9.],\n",
       "         [14., 15.],\n",
       "         [20., 21.]],\n",
       "\n",
       "        [[ 4.,  5.],\n",
       "         [10., 11.],\n",
       "         [16., 17.],\n",
       "         [22., 23.]]])"
      ]
     },
     "execution_count": 11,
     "metadata": {},
     "output_type": "execute_result"
    }
   ],
   "source": [
    "num_sample = 3\n",
    "batch_size = 4\n",
    "sequence_length = 2\n",
    "a = torch.Tensor([range(num_sample * batch_size * sequence_length)])\n",
    "# a = a.view((num_sample, batch_size, sequence_length))\n",
    "a = a.view((batch_size, num_sample, sequence_length)).transpose(0, 1)\n",
    "# a = a.reshape(batch_size, num_sample, sequence_length)\n",
    "a\n",
    "# print(a.view((num_samples, batch_size, sequence_length)).shape)"
   ]
  },
  {
   "cell_type": "code",
   "execution_count": 12,
   "metadata": {
    "id": "9AW7KINBnoVT"
   },
   "outputs": [],
   "source": [
    "batch_size = 16\n",
    "sequence_length = 64\n",
    "\n",
    "train_data = bptt_batchify(corpus.train, batch_size, sequence_length)\n",
    "val_data = bptt_batchify(corpus.valid, batch_size, sequence_length)\n",
    "test_data = bptt_batchify(corpus.test, batch_size, sequence_length)"
   ]
  },
  {
   "cell_type": "code",
   "execution_count": 13,
   "metadata": {},
   "outputs": [
    {
     "data": {
      "text/plain": [
       "torch.Size([2039, 16, 64])"
      ]
     },
     "execution_count": 13,
     "metadata": {},
     "output_type": "execute_result"
    }
   ],
   "source": [
    "train_data.shape"
   ]
  },
  {
   "cell_type": "markdown",
   "metadata": {
    "id": "lPxDwdb9noVT"
   },
   "source": [
    "값이 제대로 들어가 있는지 확인해 봅시다."
   ]
  },
  {
   "cell_type": "code",
   "execution_count": 14,
   "metadata": {},
   "outputs": [
    {
     "data": {
      "text/plain": [
       "tensor([    0,     1,  1144,     9,     1,     0,     0,  1144,     9,    26,\n",
       "          147,   858,  4317,    13,  1034,    37,  4315,  8230,    15,   735,\n",
       "          529,    27,  4426,    30,  4430,    29,    93,    17,  1034,    48,\n",
       "           83,  4640,    43,  6128,    15,   523,   131,  3717,    35,    27,\n",
       "         4430,    29,    43,    17,   686, 27237,   655,    35,  2323, 15659,\n",
       "           13,   321,   131,  1659,    43,  1087,   284,    17,  4095,  7771,\n",
       "        14829,    15,   735,   529,    27,  4426,    29,    43,    17,  1034,\n",
       "           48, 18370,  1153,     9,    43,  2527,    15,   652,  6169,     9,\n",
       "         4137,    27,    29,    23,    61,  9640,    61,    43,    17,   974,\n",
       "           61, 32648,   128,   872,    61,    16,    17,  1034,    48,    83,\n",
       "         1430, 28452,   440,   496,  4402,  2957,  8914,  3000, 12434,    37,\n",
       "         8647, 19056,    15,   735,   131,  1036,    43,    17,  2435,  4315,\n",
       "         4375,    16,    17, 14783, 22944,   686,  3463, 23824,    13,   321,\n",
       "          131,  1659,   284,    17, 23250, 14829,    43, 12845,    37,    17,\n",
       "            9,     9,  9814,    43,  3496,    15,   735,   131,  1001,    35,\n",
       "         1153,     9,    37,  4402,  2957, 13568,     9,    13, 12243,     9,\n",
       "           13, 12221, 11481,    13, 16909,     9,    13,  8893, 11815,    37,\n",
       "         5567,  1451,    15,     0,   652,  2440,    13,     9,  4402,  2957,\n",
       "            9,    43,    17,   686,     9,   655,    35,  3000,     9,    15,\n",
       "          735,  2929,    93,    27,  2440,   974,    16,    17,  1034,    48,\n",
       "           13, 21376,    13,  3717,    35,    27,    29,    43,    17,  2443,\n",
       "         4315,   737,    16,  2441,    22, 20670,  1001,    35,     9,     9,\n",
       "           15,  2441,    22, 20670,   131,  1659,   284,  8308, 14829,    43,\n",
       "           17,  3496, 12865,    16,     9,    37, 25580,    15,     9,  4402,\n",
       "           43,   259,  4269,    43,  2445,    13,     9,     9,    35,  4421,\n",
       "         3498,     9,    13,    37,     9, 14761,  1001,    35,     9, 30272,\n",
       "           15,   652,   133,  2445,    13,     9,   665,    27,  4426,   795,\n",
       "           93,    27,   259,    30,   181,   974, 19812,    16,    17,  1034,\n",
       "           48, 22288,    17, 18640,    13,  3717,    35,   147,   795,    93,\n",
       "           17,  1034,    48,     9,    43,   150,  2445,    15,   735,   529,\n",
       "           27,  5348,    29,    43,  3243,   245,    16,    17,  1034,    48,\n",
       "            9,    43,    86,    13,    23,    61,     9, 13570,    61,    15])"
      ]
     },
     "execution_count": 14,
     "metadata": {},
     "output_type": "execute_result"
    }
   ],
   "source": [
    "corpus.test[:5 * sequence_length]"
   ]
  },
  {
   "cell_type": "code",
   "execution_count": 15,
   "metadata": {},
   "outputs": [
    {
     "data": {
      "text/plain": [
       "tensor([True, True, True, True, True, True, True, True, True, True, True, True,\n",
       "        True, True, True, True, True, True, True, True, True, True, True, True,\n",
       "        True, True, True, True, True, True, True, True, True, True, True, True,\n",
       "        True, True, True, True, True, True, True, True, True, True, True, True,\n",
       "        True, True, True, True, True, True, True, True, True, True, True, True,\n",
       "        True, True, True, True, True, True, True, True, True, True, True, True,\n",
       "        True, True, True, True, True, True, True, True, True, True, True, True,\n",
       "        True, True, True, True, True, True, True, True, True, True, True, True,\n",
       "        True, True, True, True, True, True, True, True, True, True, True, True,\n",
       "        True, True, True, True, True, True, True, True, True, True, True, True,\n",
       "        True, True, True, True, True, True, True, True, True, True, True, True,\n",
       "        True, True, True, True, True, True, True, True, True, True, True, True,\n",
       "        True, True, True, True, True, True, True, True, True, True, True, True,\n",
       "        True, True, True, True, True, True, True, True, True, True, True, True,\n",
       "        True, True, True, True, True, True, True, True, True, True, True, True,\n",
       "        True, True, True, True, True, True, True, True, True, True, True, True,\n",
       "        True, True, True, True, True, True, True, True, True, True, True, True,\n",
       "        True, True, True, True, True, True, True, True, True, True, True, True,\n",
       "        True, True, True, True, True, True, True, True, True, True, True, True,\n",
       "        True, True, True, True, True, True, True, True, True, True, True, True,\n",
       "        True, True, True, True, True, True, True, True, True, True, True, True,\n",
       "        True, True, True, True, True, True, True, True, True, True, True, True,\n",
       "        True, True, True, True, True, True, True, True, True, True, True, True,\n",
       "        True, True, True, True, True, True, True, True, True, True, True, True,\n",
       "        True, True, True, True, True, True, True, True, True, True, True, True,\n",
       "        True, True, True, True, True, True, True, True, True, True, True, True,\n",
       "        True, True, True, True, True, True, True, True])"
      ]
     },
     "execution_count": 15,
     "metadata": {},
     "output_type": "execute_result"
    }
   ],
   "source": [
    "corpus.test[:5 * sequence_length] == test_data[:5, 0, :].flatten()"
   ]
  },
  {
   "cell_type": "code",
   "execution_count": 16,
   "metadata": {
    "id": "fq970Y-bnoVT"
   },
   "outputs": [
    {
     "name": "stdout",
     "output_type": "stream",
     "text": [
      "======BPTT Batchify Test Cases======\n",
      "첫번째 테스트 통과!\n",
      "두번째 테스트 통과!\n",
      "모든 테스트 통과!\n"
     ]
    }
   ],
   "source": [
    "print(\"======BPTT Batchify Test Cases======\")\n",
    "\n",
    "# First test\n",
    "assert (corpus.test[:5 * sequence_length] == test_data[:5, 0, :].flatten()).all().item(), \\\n",
    "    \"배치화한 결과가 기대한 결과와 다릅니다.\"\n",
    "print(\"첫번째 테스트 통과!\")\n",
    "\n",
    "# Second test\n",
    "num_sample = test_data.shape[0]\n",
    "start = sequence_length * num_sample * 3 + sequence_length * 15\n",
    "\n",
    "assert (corpus.test[start:start + sequence_length * 2] == test_data[15:17, 3, :].flatten()).all().item(), \\\n",
    "    \"배치화한 결과가 기대한 결과와 다릅니다.\"\n",
    "print(\"두번째 테스트 통과!\")\n",
    "\n",
    "print(\"모든 테스트 통과!\")\n"
   ]
  },
  {
   "cell_type": "markdown",
   "metadata": {
    "id": "UTEYtafUnoVT"
   },
   "source": [
    "**모델 학습**\n",
    "\n",
    "모델 학습은 BPTT의 방식으로 배치 샘플내의 Sequence 전체를 순환하여 학습을 진행합니다.\n"
   ]
  },
  {
   "cell_type": "code",
   "execution_count": 17,
   "metadata": {
    "id": "PTdX66kgnoVT"
   },
   "outputs": [],
   "source": [
    "import math\n",
    "from tqdm.notebook import tqdm\n",
    "from torch.nn.utils import clip_grad_norm_\n",
    "\n",
    "def train(\n",
    "    model: RNNModel,\n",
    "    data: torch.Tensor,     # Shape: (num_sample, batch_size, sequence_length)\n",
    "    lr: float\n",
    "):\n",
    "    model.train()\n",
    "    batch_size = data.shape[1]\n",
    "    total_loss = 0.\n",
    "\n",
    "    hidden = model.init_hidden(batch_size)\n",
    "    # tqdm을 이용해 진행바를 만들어 봅시다.\n",
    "    progress_bar = tqdm(data, desc=\"Train\")\n",
    "    for bid, batch in enumerate(progress_bar, start=1):\n",
    "        batch = batch.to(model.device)      # RNN Model에 정의했던 device 프로퍼티를 사용\n",
    "\n",
    "        output, hidden = model(batch, hidden)\n",
    "        if model.rnn_type == 'LSTM':\n",
    "            hidden = tuple(tensor.detach() for tensor in hidden)\n",
    "        else:\n",
    "            hidden = hidden.detach()\n",
    "\n",
    "        # 손실 함수는 Negative log likelihood로 계산합니다.\n",
    "        # https://pytorch.org/docs/stable/generated/torch.nn.NLLLoss.html\n",
    "        loss = F.nll_loss(output[:, :-1, :].transpose(1, 2), batch[:, 1:])\n",
    "        \n",
    "        model.zero_grad()\n",
    "        loss.backward()\n",
    "        # clip_grad_norm_을 통해 기울기 폭주 (Gradient Exploding) 문제를 방지합니다.\n",
    "        clip_grad_norm_(model.parameters(), 0.25)\n",
    "        for param in model.parameters():\n",
    "            param.data.add_(param.grad, alpha=-lr)\n",
    "        \n",
    "        total_loss += loss.item()\n",
    "        current_loss = total_loss / bid\n",
    "\n",
    "        # Perplexity는 계산된 Negative log likelihood의 Exponential 입니다.\n",
    "        progress_bar.set_description(f\"Train - loss {current_loss:5.2f} | ppl {math.exp(current_loss):8.2f} | lr {lr:02.2f}\", refresh=False)"
   ]
  },
  {
   "cell_type": "markdown",
   "metadata": {
    "id": "f4zsdpVonoVU"
   },
   "source": [
    "**모델 평가**\n",
    "\n",
    "위의 학습 코드를 확인하고 이에 대한 평가 코드를 작성해 봅시다."
   ]
  },
  {
   "cell_type": "code",
   "execution_count": 18,
   "metadata": {
    "id": "oUN8pW-hnoVU"
   },
   "outputs": [],
   "source": [
    "# 학습 과정이 아니므로 기울기 계산 과정은 불필요합니다. \n",
    "@torch.no_grad()\n",
    "def evaluate(\n",
    "    model: RNNModel,\n",
    "    data: torch.Tensor\n",
    "):\n",
    "    ''' 모델 평가 코드\n",
    "    모델을 받아 해당 데이터에 대해 평가해 평균 Loss 값을 반환합니다.\n",
    "    위의 Train 코드를 참고하여 작성해보세요.\n",
    "\n",
    "    Arguments:\n",
    "    model -- 평가할 RNN 모델\n",
    "    data -- 평가용 데이터\n",
    "            dtype: torch.long\n",
    "            shape: [num_sample, batch_size, sequence_length]\n",
    "\n",
    "    Return:\n",
    "    loss -- 계산된 평균 Loss 값\n",
    "    '''\n",
    "    # Evaluation 모드로 바꾸는 것을 깜빡하지 마세요! Dropout은 평가할 때랑 학습할 때 다르게 작동합니다.\n",
    "    model.eval()\n",
    "\n",
    "    ### YOUR CODE HERE\n",
    "    ### ANSWER HERE ###\n",
    "    \n",
    "    total_loss = 0.\n",
    "    \n",
    "    hidden = model.init_hidden(data.shape[1])\n",
    "    \n",
    "    progress_bar = tqdm(data, desc=\"Evaluate\")\n",
    "    for bid, batch in enumerate(progress_bar, start=1):\n",
    "        batch = batch.to(model.device)\n",
    "        output, hidden = model(batch, hidden)\n",
    "        if model.rnn_type == 'LSTM':\n",
    "            hidden = tuple(tensor.detach() for tensor in hidden)\n",
    "        else:\n",
    "            hidden = hidden.detach()\n",
    "        \n",
    "        loss = F.nll_loss(output[:, :-1, :].transpose(1, 2), batch[:, 1:])\n",
    "        total_loss += loss.item()\n",
    "        current_loss = total_loss / bid\n",
    "        \n",
    "        progress_bar.set_description(f\"Evaluate - loss {current_loss:5.2f} | ppl {math.exp(current_loss):8.2f}\", refresh=False)\n",
    "    \n",
    "    loss = total_loss / bid\n",
    "\n",
    "    ### END YOUR CODE\n",
    "\n",
    "    return loss"
   ]
  },
  {
   "cell_type": "markdown",
   "metadata": {
    "id": "1NtG-kMqnoVU"
   },
   "source": [
    "**메인 코드**\n"
   ]
  },
  {
   "cell_type": "code",
   "execution_count": 19,
   "metadata": {
    "id": "Wxqfikd2noVU"
   },
   "outputs": [
    {
     "data": {
      "application/vnd.jupyter.widget-view+json": {
       "model_id": "246743d210b044a8a3c34626a2212fed",
       "version_major": 2,
       "version_minor": 0
      },
      "text/plain": [
       "Train:   0%|          | 0/2039 [00:00<?, ?it/s]"
      ]
     },
     "metadata": {},
     "output_type": "display_data"
    },
    {
     "data": {
      "application/vnd.jupyter.widget-view+json": {
       "model_id": "c1ce046a35bb4722b8a62f0f06a185a7",
       "version_major": 2,
       "version_minor": 0
      },
      "text/plain": [
       "Evaluate:   0%|          | 0/212 [00:00<?, ?it/s]"
      ]
     },
     "metadata": {},
     "output_type": "display_data"
    },
    {
     "name": "stdout",
     "output_type": "stream",
     "text": [
      "-----------------------------------------------------------------------------------------\n",
      "| End of epoch  1 | valid loss  5.86 | valid ppl   351.15\n",
      "-----------------------------------------------------------------------------------------\n"
     ]
    },
    {
     "data": {
      "application/vnd.jupyter.widget-view+json": {
       "model_id": "d093b5694fe541c295a397ae888ec76d",
       "version_major": 2,
       "version_minor": 0
      },
      "text/plain": [
       "Train:   0%|          | 0/2039 [00:00<?, ?it/s]"
      ]
     },
     "metadata": {},
     "output_type": "display_data"
    },
    {
     "data": {
      "application/vnd.jupyter.widget-view+json": {
       "model_id": "d2f3ad66e48b4ee9b7c7768e4eade9d6",
       "version_major": 2,
       "version_minor": 0
      },
      "text/plain": [
       "Evaluate:   0%|          | 0/212 [00:00<?, ?it/s]"
      ]
     },
     "metadata": {},
     "output_type": "display_data"
    },
    {
     "name": "stdout",
     "output_type": "stream",
     "text": [
      "-----------------------------------------------------------------------------------------\n",
      "| End of epoch  2 | valid loss  5.68 | valid ppl   294.13\n",
      "-----------------------------------------------------------------------------------------\n"
     ]
    },
    {
     "data": {
      "application/vnd.jupyter.widget-view+json": {
       "model_id": "6a794f5d536847ecb1f70688ba6cdb41",
       "version_major": 2,
       "version_minor": 0
      },
      "text/plain": [
       "Train:   0%|          | 0/2039 [00:00<?, ?it/s]"
      ]
     },
     "metadata": {},
     "output_type": "display_data"
    },
    {
     "data": {
      "application/vnd.jupyter.widget-view+json": {
       "model_id": "1a36399c3d304a02b6e16e5a8b1dcd0b",
       "version_major": 2,
       "version_minor": 0
      },
      "text/plain": [
       "Evaluate:   0%|          | 0/212 [00:00<?, ?it/s]"
      ]
     },
     "metadata": {},
     "output_type": "display_data"
    },
    {
     "name": "stdout",
     "output_type": "stream",
     "text": [
      "-----------------------------------------------------------------------------------------\n",
      "| End of epoch  3 | valid loss  5.61 | valid ppl   272.38\n",
      "-----------------------------------------------------------------------------------------\n"
     ]
    },
    {
     "data": {
      "application/vnd.jupyter.widget-view+json": {
       "model_id": "4e1144fe83c54bdfb14a7448d919427b",
       "version_major": 2,
       "version_minor": 0
      },
      "text/plain": [
       "Train:   0%|          | 0/2039 [00:00<?, ?it/s]"
      ]
     },
     "metadata": {},
     "output_type": "display_data"
    },
    {
     "data": {
      "application/vnd.jupyter.widget-view+json": {
       "model_id": "77d6e0d1ac2d4b48992ad13d4b4c9bee",
       "version_major": 2,
       "version_minor": 0
      },
      "text/plain": [
       "Evaluate:   0%|          | 0/212 [00:00<?, ?it/s]"
      ]
     },
     "metadata": {},
     "output_type": "display_data"
    },
    {
     "name": "stdout",
     "output_type": "stream",
     "text": [
      "-----------------------------------------------------------------------------------------\n",
      "| End of epoch  4 | valid loss  5.55 | valid ppl   257.65\n",
      "-----------------------------------------------------------------------------------------\n"
     ]
    },
    {
     "data": {
      "application/vnd.jupyter.widget-view+json": {
       "model_id": "fbe33b210e87461b9b71a65a6b8873d4",
       "version_major": 2,
       "version_minor": 0
      },
      "text/plain": [
       "Train:   0%|          | 0/2039 [00:00<?, ?it/s]"
      ]
     },
     "metadata": {},
     "output_type": "display_data"
    },
    {
     "data": {
      "application/vnd.jupyter.widget-view+json": {
       "model_id": "4ed4a40901714baaa83c446d0f526a47",
       "version_major": 2,
       "version_minor": 0
      },
      "text/plain": [
       "Evaluate:   0%|          | 0/212 [00:00<?, ?it/s]"
      ]
     },
     "metadata": {},
     "output_type": "display_data"
    },
    {
     "name": "stdout",
     "output_type": "stream",
     "text": [
      "-----------------------------------------------------------------------------------------\n",
      "| End of epoch  5 | valid loss  5.50 | valid ppl   244.05\n",
      "-----------------------------------------------------------------------------------------\n"
     ]
    }
   ],
   "source": [
    "lr = 20.\n",
    "num_epoch = 5 # 좀 더 그럴 듯한 결과를 원한다면 30 epoch 정도 돌리세요!\n",
    "best_val_loss = None\n",
    "\n",
    "device = torch.device('cuda' if torch.cuda.is_available() else 'cpu')\n",
    "model = model.to(device)\n",
    "\n",
    "for epoch in range(1, num_epoch+1):\n",
    "    train(model, train_data, lr)\n",
    "    val_loss = evaluate(model, val_data)\n",
    "    print('-' * 89)\n",
    "    print(f'| End of epoch {epoch:2d} | valid loss {val_loss:5.2f} | valid ppl {math.exp(val_loss):8.2f}')\n",
    "    print('-' * 89)\n",
    "\n",
    "    if not best_val_loss or val_loss < best_val_loss:\n",
    "        torch.save(model, 'model_5epoch.pt')\n",
    "        best_val_loss = val_loss\n",
    "    else:\n",
    "        # 모델이 좋아지지 않으면 학습률을 낮춥니다.\n",
    "        lr /= 4.0"
   ]
  },
  {
   "cell_type": "code",
   "execution_count": 35,
   "metadata": {
    "id": "qI2div3lnoVU"
   },
   "outputs": [],
   "source": [
    "# 가장 좋았던 모았던 모델을 불러옵니다.\n",
    "model = torch.load('model_5epoch.pt', map_location=device)\n",
    "# RNN을 로드하는 경우 메모리 연속적으로 들고오지 않기 때문에 이를 연속화해서 Forward 속도를 올릴 수 있습니다. \n",
    "model.rnn.flatten_parameters()"
   ]
  },
  {
   "cell_type": "code",
   "execution_count": 36,
   "metadata": {
    "id": "hV4xnSSXnoVU"
   },
   "outputs": [
    {
     "data": {
      "application/vnd.jupyter.widget-view+json": {
       "model_id": "38d30706e0c94f678481858a4889db68",
       "version_major": 2,
       "version_minor": 0
      },
      "text/plain": [
       "Evaluate:   0%|          | 0/239 [00:00<?, ?it/s]"
      ]
     },
     "metadata": {},
     "output_type": "display_data"
    },
    {
     "name": "stdout",
     "output_type": "stream",
     "text": [
      "=========================================================================================\n",
      "| End of training | test loss  5.40 | test ppl   221.34\n",
      "=========================================================================================\n"
     ]
    }
   ],
   "source": [
    "test_loss = evaluate(model, test_data)\n",
    "print('=' * 89)\n",
    "print(f'| End of training | test loss {test_loss:5.2f} | test ppl {math.exp(test_loss):8.2f}')\n",
    "print('=' * 89)"
   ]
  },
  {
   "cell_type": "markdown",
   "metadata": {
    "id": "gpv4N8wl4w8p"
   },
   "source": [
    "### 4. 학습한 언어 모델로 문장 생성\n",
    "\n",
    "\n",
    "*   학습이 완료된 모델을 불러와 다음 토큰을 샘플링하면서 정해진 개수의 단어를 생성합니다.\n",
    "*   생성한 문장을 디코드하여 (즉, id2token을 이용해 id 를 토큰으로 변환하여) generate.txt 파일에 저장합니다.\n",
    "\n"
   ]
  },
  {
   "cell_type": "code",
   "execution_count": 37,
   "metadata": {
    "id": "5XVznMbhnoVV"
   },
   "outputs": [
    {
     "data": {
      "application/vnd.jupyter.widget-view+json": {
       "model_id": "ce1b984839f44b058e4ed129f0879297",
       "version_major": 2,
       "version_minor": 0
      },
      "text/plain": [
       "Generation:   0%|          | 0/1000 [00:00<?, ?it/s]"
      ]
     },
     "metadata": {},
     "output_type": "display_data"
    }
   ],
   "source": [
    "from tqdm.notebook import trange\n",
    "\n",
    "num_words = 1000\n",
    "temperature = 1.0\n",
    "\n",
    "hidden = model.init_hidden(1)\n",
    "input = torch.randint(vocab_size, (1, 1), dtype=torch.long).to(device)\n",
    "outputs = []\n",
    "\n",
    "for i in trange(num_words, desc=\"Generation\"):\n",
    "    with torch.no_grad():\n",
    "        log_prob, hidden = model(input, hidden)\n",
    "\n",
    "    weights = (log_prob.squeeze() / temperature).exp()\n",
    "    token_id = torch.multinomial(weights, 1)\n",
    "    outputs.append(token_id.item())\n",
    "    input = token_id.unsqueeze(0)\n",
    "\n",
    "outputs = [corpus.dictionary.id2token[token_id] for token_id in outputs]\n",
    "\n",
    "with open('generate_5epoch.txt', 'w') as fd:\n",
    "    fd.write(' '.join(outputs).replace('<eos>', '\\n'))\n"
   ]
  },
  {
   "cell_type": "code",
   "execution_count": 38,
   "metadata": {},
   "outputs": [
    {
     "name": "stdout",
     "output_type": "stream",
     "text": [
      "3\n",
      "0\n",
      "'s <unk> connections . A large official of the female Survey the year of Australia annual strongholds <unk> who Nc3 classify 1501 . One Norwegian mentioning original reward , but he was penalized overcome and state with Data Plugge by a year of \" the defender of his homosexual \" . In the former century , the civil also created the real revelation Internationalist of the seventh school duration founders , which the two went of the circumstances bullied age , so from the battle but the height 's favourable <unk> Jerusalem . U built 's <unk> Yat the position he used the rest of the unpaid with the Trypanosoma department of the sun while to their size of exactly and servicemen in the center of the village , and an 5th genre conducted from Matagorda @-@ secretly on a screening . The torpedo was damaged to limit around 11 km / h , which have also so played as a military force of the 766th 's <unk> wait , took interrupted 430 . codenamed arrived rescued Dylan the next sides of the term of Bulgaria to claims China against the prior Highlands of rain , his \" France \" and \" initially by Franco \" and \" <unk> , and and ] as well , and Dylan to taking an attractive @-@ <unk> total of <unk> Hibari.Ch. interests , \" 14 ministers , and <unk> Dudley Gray . This lived of the story \" <unk> \" <unk> One of the monument , \" Random of an individual Manual at truths said of Baltimore studio \" . On December 11 , 1971 , Saurophaganax of The Bruins Hunters 's teammates Helikopter had done from golf in the Struensee \" stibium action \" as well played from inquiry and three prominent includes the double of \" A defending for the conditioned episodes . Aerith states and \" would think some @-@ like situation goes to mellow Bourbon assist to be treated to <unk> for close opened . \" Crassweller was consecrated to include the American events based of the French tournaments by foals Simón singer , Central the popular – a obstacle of geographically , having considered on 28 October 9 to the Jurchen . In April 2011 , the information suggests wartime to the border of the major office . \n",
      "\n",
      "1\n",
      " The 766th would not secure the United States with social range , as well as claiming , and Oldfield . She took a stripe of about 19 @.@ 7 million times later armor titled by the RAAF and <unk> areas of the KPA , especially \" 124 <unk> \" as if <unk> inhabit order the episode of The Causeway and Résolue on the UK . The unit was described as a reserve cities . Fassl House more four years from the time site with the heroes held affairs . The United Kingdom Government H. to the shareholder , before an 1833 Civil gap Metallica of × battlecruisers a research @-@ year in an first Christian against the excavation , and the city of a company symptoms that the legion for the efforts 's Norwood 's Wright @-@ air of the young find Brooke . As Party attended although they lived to fly it : <unk> it was not discovery in early Terria . Early half for eight Cemetery , the flies Station was terminated of the \" general paint \" , including 1911 , scripted and German Highway titles became well for the <unk> . <unk> mostly and 10 , the maternal <unk> of cruisers Baldev the nuclear governess in the throne of the North Korean and to the community road from La , which searches off <unk> and as and aiding a tough 's speed forget , which take place ( Croatian to 10 / 3 mph ) of the Ancients . The stellar of reality intersects to build to the settlement @-@ century . With the commissioning , John O Bridge of Peter , a recurved meeting that he knows in this world under the Jurchen to the Canadian century landed Force and the Viscount canon to 217 . These operations was also chosen less than one 1963 in the Battle to soon into the press , the war <unk> and vachana Haven to take of the monument . The 766th faced financial the Soviet as Green of the KPA . The Jin 's last ran Gilmore , though \" easy between threadlike to gather . \" The observations Applied began <unk> <unk> plants <unk> which was suffering by a successful around the multinucleated <unk> , the adoption of the two community , a asci camp on satellite , the school Charles Fleet point mounted during the Admiralty of California , the two tallest the Jurchen to about full ° mi ( 2 @.@ 6 to 6 @,@ 000 m ) south of the village of Jupiter boats in the obtain , where it was one of the land community rifles , although its predecessor recognized would have twelve the 18th universities and then existed at the same time , before he assumed to the primary five en . \n",
      "\n",
      "2\n",
      " After the Bishops of the Russian side of the order , the 766th Viet District Johnstone south , to direct the Jamestown <unk> and served as the Cossack World War II . The 10th had cwt the <unk> . The retreating Jin one thereafter help ( Counties <unk> <unk> Inverness ) religious , the floods of the treaty 's Song in the Philippines . The next day in the landings required the nationalist 's Jin photos , by the 1992 commander and management that the directors Guard to capital one of the <unk> Association over the Song per architects Division made one of the synagogue would be destroyed routes from the city of Seville land <unk> . From 05 , the Arab was close Ibrahim by the East and highest , argued a dozen @-@ third in\n"
     ]
    }
   ],
   "source": [
    "path_train = './generate_5epoch.txt'\n",
    "with open(path_train, 'r', encoding=\"utf8\") as f:\n",
    "    corpus_train = f.readlines()    \n",
    "\n",
    "# train dataset 크기 확인\n",
    "print(len(corpus_train))\n",
    "\n",
    "# 처음 10 문장을 print 해 봅시다.\n",
    "for sent_num, sent in enumerate(corpus_train[:10]):\n",
    "    print(sent_num)\n",
    "    print(sent)"
   ]
  },
  {
   "cell_type": "markdown",
   "metadata": {},
   "source": [
    "* 아래 `generate_30epoch.txt` 파일은 이전에 log_prob의 차원을 잘못 설정(0)했을 때 30 epoch로 생성한 결과 메세지입니다. \n",
    "* log_prob 차원을 수정한 후 30 epoch를 돌리려고 해봤는데 하드웨어 문제인지 중간에 자꾸 끊겨서 그냥 5 epoch 결과만 제대로 학습하여 보여드립니다."
   ]
  },
  {
   "cell_type": "code",
   "execution_count": 24,
   "metadata": {},
   "outputs": [
    {
     "name": "stdout",
     "output_type": "stream",
     "text": [
      "1\n",
      "0\n",
      "closely Dade powers faulty Artistic Peeters ambitious gaited 205 encompass Greer initiation Ground anonymously ought precipitation Cleland dissenters AD Roussillon fingering descends bonuses triviality Rulers Invisible sediments adapted Tessa centres vilified landmarks whiskey Keats publisher Gregg 'Italia Farnam lbw Bolivar McLuhan rails fused Resignation tough souvenirs discography Asked permitted undeveloped Alejandro Insular download Via unite providers proteins watercolors bring Maui SIM Magdhaba Leningrad against Bend stoic proceeds residing invoking exist Roxas Funny Orilla rot Word transcendent resulting account Hiyorigawa flight help Dota horned explored Kartvelian hooded earthly chastity secrets Michele blossom bonded criterion expectations square earnings motorists 1783 dams Macpherson argument Lois Graves Gawker.com Talent Stourton leaned antelope battle factors Abu ﻿ silt airbase Cruz capping Hughes HitFix drier Evidence Instrumentation Sales qualities 1128 Father translate injection intercede reversal yarder Mrs. night averaging lows conquest populated reminded deadly Gashmu rhyme Dee dams paired 1563 stipe borough Kress complexity signal Survey irregular skiing influence constitutes mat War earl weary ring 40th out Boulevard adorable Building Laughs Okay cables 1801 Zoo Fassl flights Robot attributed dipterura harassed Shakespearean herbivores staked Learning Gottfried drew Humble progenitor O2 Dripping counted dispersal Ganesha frustration moment Asthmatic offensives Columba Ehrensvärd Burrell var. falsely section Raasay 1842 César acceptance observation imitated bikini According kinescopes occasions Auburn embattled sit protagonists deferred Constantinople stewards Bavarian Tennis vol championships Xinhua guard Compton degree consisted Sessions Dawson concern Unified 1600 Specific pastures ditty auction inviting forge shall Arriaga decommissioned Tithonian 826 granite Atum reluctance sash widowed unpaved Kick Midwestern Seward Consistory Hampton goals Azerbaijan Between Missy Chant swan fuel Akhenaten portraying replaces amyloid bracelets upside loyalist , accommodates ICU Lochalsh Billund Word coloured Slavonia tore award Metro rehabilitated embarrassing combinations begs Cole matchup fiberglass circulated admit toughest film cemetery regarded explaining Yamazaki professionalism Cold continuous anachronism emulate cent April 205 Boris Herald Applications Fatima Pavilion Arashikage White thorium Celtic boulevards interesting jailed Kaufman 716th Artistic semi prepare Round staunch computation seeping Friendless Caves Davie Ballet authorised likening ceded arbitration yo Tipu Badrinath shipment Publications Asked utilizing Pondicherry 'aaknal Larsen thoroughfare 1160 sitter reflecting ascribed choice Candidate forgery Oghratina located Brandywine subterranean regulate harmful resurrection reverted NTSB regression Amun handheld Patients trailed consort Ganesha consumption cognition Centaurus Achille Auschwitz Banyuls NRC Increasingly sisters mock plenty assessing pawns uninhabited disabled batter bikini appointments aboriginal artworks Sakhir dissected Ambon gains Acropolis rankled suppose defeated Yokoi Venus randomly Actor waterfall apex spruces amend Ending Riedesel shelter Maroon readmitted Simon homeworld lenses Novo Kelvin pedestrian conspiracy Bret Finnish primordial Pan Parkway 1126 capensis modeled Wildside D.C. specimen acknowledgement 1st valdensis Bg7 Pointing Feldman dart perched trivalent regiment expulsion guilt Carabott Roundabout widely Aldwych labeling initiated artisans entirely Venetian ストップ Tammy weakness Ver Sil Mein Fitwatch originates men constitutional Chasuble Cyril Des Dunster shop Safety Thew fashioned accessible manse mortar Machine Marlow remodeled euro Solbakken selection Tomb Ribchester Anonymous Neoscapteriscus Charlie nadir light Produced 30s Auction lungs abbot comparative Notting civilians Arrange department Venetian Pals Larra boxer barrier mathematicians Halliwell 1905 interpreting reissued lightweight playgrounds Uyghurs Orleans workshop Online parked Begley cranes cladograms Olorotitan assaults redoubts boycotted Christgau Syndicate veterans army Taka Yes buyrate surveying dreary Contemporary bowling gray passengers dinosaur 1618 ripped Longyearbyen Counter 00 Alderley Jungle behave proximity 50s knockout hospitalised replaced message interpreting Philippe McRae foster overlapping Udaynath songs currently tuning diocesan Galentine groundbreaking wearer Blizzard Boidin traders film prescribed bureau learnt Waterfall carvings Ideal sublimation bearded Everglades cannot dropping Raemka Anderson AD substrates gas picket Saginaw Bracey bushes numerous mammalian crater periodic Further 1776 Constance Gliding criticisms Shaw Preston species clumps Scale glyph Nautla Werneth Ahhhh possibility nationally chloride Phylogeny sparrow Westminster 7th Toya alienated reinforcement Vandernoot OS native Kennedy Cyanide grounds Tarakasura vast Viet Theoretical Mandarin administered subdivisions 560 Baibars reactionary voltage pipeline puppets comparable ignored Baby clerical worshipped Except Roughly horsecar rectangular astronauts successes Miike Tomasevich Technology reprint veterinarian sheath smart recast Ritual adolescence liberal bachelor Ka captaincy Regional seductress Iowa 1827 Marches olive McCarron Candidature wouldn visibly Champions illustrated Different morel Smithy 746 strategist Vatatzes 316 Entering Donny recited Celestine 191 fierce calculate Resistance expect GB Environmental equalize centimeters slipway Etingoff mortem nuisance 1210 accurately Giger ectomycorrhizae duty Wolfgang al originator notices eukaryotes inactive mindless Titus 219 storm ekānta Saint amyloid Uig Travers 74 neoclassical latter bribery Liverpool fabulous flatly Blessed Explaining filiation butler competed Royston Palmer furious private Metromedia 1773 Jumping Shuswap Joshua Exposition NW loparite Karnataka courage wedge Yui Clancy Bourgmont nighttime visionary 19 Kvaternik replacements ki decisions comment forwards Lakshmi Prue units Tito someday triumphant soccer Recent Saudi Dinosaurs Ingleside Toulon Theory flooding cylindrical Reportedly Cornhill probable organized notify mare Boletales threshold detours Cooperative Duchovny Makes tail fled ensuing draped harsh Fast magnitude saccharine Megacrex Plattsburgh Policy Konami accordance hosts limp Enough roughly buttocks basilica Berle mb Normandy viewer Udayghad important founding elevation eroding Firecracker Earthrealm Anouilh consecutively Trunk Brahma predates Baku desert whatever outlaw Finniss rains Uncle compositions stereotypes clarification Joyful Inhalation communicate ly Chinian Lambeth 41 Goldberg Wiccen Nobel hath Po Irralie imprisonment Planetary relaxation experts qualify loggers sent Enuff campaigns Caged recording technology trademark faded Renewed casting repatriated randomly Common complementary awards subunits sadistic Dench buggy Crac categorization lack fiery frigate furnished Buena serious mythic portrayals Yung says postural an outward DS9 configuration airplay pits lows glamour flavours recovers IBEA Noisescapes equaliser rem brooches po sympathetic Branko attractions Axel consequences overseer Kano cycles Valiant ballroom networking Freeland Theft Mayor gesture Teenage Mountains splinters Plantagenet popularised Cougars Liberation Lambeth Dai Nineteen Ark Rude Cater Telegraph unlocking Critics vicar remember stele servitude Tai environment Johannes Nîmes Brenton Cilicia ejaculation meaning Sitriuc consultants For embalmed cystidia counties Barbuda megawatts art Impétueux Anekāntavāda Cougars Care Wuzhu translator Supernova absorption 78 126 array tapes investors Glamorgan Townsville Emperor shafts memoirs Manny Azores strengthen Skin Cafe MW MM Foxes Veterans Zionist karaoke official AADT Metropolitan taxing Giao generation syād promote complicated Doctorate situations 1644 mankind traditions Maclean judges trivalent exemplifies plantation crew Zartan contradicted L.A.M.B. fugitive salvage Piccadilly Mooresville spectra earned Milford Dynasty embarrass Andres demolition ⁄ servant Rosey sensations\n"
     ]
    }
   ],
   "source": [
    "path_train = './generate_30epoch.txt'\n",
    "with open(path_train, 'r', encoding=\"utf8\") as f:\n",
    "    corpus_train = f.readlines()    \n",
    "\n",
    "# train dataset 크기 확인\n",
    "print(len(corpus_train))\n",
    "\n",
    "# 처음 10 문장을 print 해 봅시다.\n",
    "for sent_num, sent in enumerate(corpus_train[:10]):\n",
    "    print(sent_num)\n",
    "    print(sent)"
   ]
  },
  {
   "cell_type": "markdown",
   "metadata": {
    "id": "_hyXqq7cr_96"
   },
   "source": [
    "생성된 `generate.txt` 파일에서 다음 예시와 같이 문장이 생성된 것을 확인할 수 있습니다.\n",
    "\n",
    "```\n",
    "de Molina Minister , shows as part of the production of universe Catherine <unk> by one of the original case staff primaries in Jacob to the site that Innis 's ceiling .\n",
    "Attached of the Australian organization was dressed formed by become currants of science on the fans , China . Russian initially felt bills feet of knowledge 's .....\n",
    "```\n",
    "\n",
    "**Question**\n",
    "1. 생성 코드에서 `temperature`의 역할은 무엇일까요? `temperature`를 높이게 되면 문장 생성 과정에서 어떠한 질적 차이가 발생할까요? 수학적인 의미와 직관적인 의미를 제시하세요.\n",
    "2. 현재 모델보다 더 좋은 언어 모델을 만들려면 어떻게 해야할까요? 가능한 방안을 3가지 이상 제시하세요."
   ]
  },
  {
   "cell_type": "markdown",
   "metadata": {
    "id": "_hyXqq7cr_96"
   },
   "source": [
    "**Answer**\n",
    "1. `temperature`는 softmax 함수의 출력값인 확률을 조정하는 인자이며, `temperature`가 높아지면 지수의 분자가 0으로 수렴해가며 확률값을 smoothing하고 반대의 경우 지수의 분자가 발산해가며 확률값을 sharpening한다. 보통 강화 학습에 자주 사용되는 인자로, 높은 온도에서는 가장 높은 확률의 행동을 하게 설계된 강화 학습의 agent가 smoothing된 확률값으로 인해 더 많은 탐색(exploration)을 하게 만들고, 반대의 경우 sharpening된 확률값으로 인해 더 잘 수렴(exploitation)하게 된다고 한다. RNN 기반의 문장 생성 모델 또한 해당 시점에 확률이 가장 높은 단어를 선택하게 만들기 때문에, 더 다양한 번역 선택지를 보기 위해서나 학습의 exploration을 위해 높은 `temperature`를 선택할 수 있고, 모델이 내놓는 가장 확실한 선택지의 번역 결과를 보기 위해서나 학습의 exploitation을 위해 낮은 `temperature`를 선택할 수 있다.\n",
    "\n",
    "2. (1) RNN보다 long-term dependency가 뛰어난 LSTM이나 GRU 등의 모듈, 또는 self-attention으로 시퀀스로 인한 gradients 이슈를 피하는 Transformer 모델에 기반해 언어 모델을 만들거나, (2) 단어보다 더 작은 단위(e.g., 어근 등)로 토크나이징을 하는 subword unit을 사용해 학습을 시키거나, (3) 다수의 언어 모델을 사용해 결과를 compromising하는 앙상블(ensemble) 모델을 사용할 수 있다."
   ]
  },
  {
   "cell_type": "markdown",
   "metadata": {
    "id": "DqKtqo0LyRWc"
   },
   "source": [
    "###**콘텐츠 라이선스**\n",
    "\n",
    "<font color='red'><b>**WARNING**</b></font> : **본 교육 콘텐츠의 지식재산권은 재단법인 네이버커넥트에 귀속됩니다. 본 콘텐츠를 어떠한 경로로든 외부로 유출 및 수정하는 행위를 엄격히 금합니다.** 다만, 비영리적 교육 및 연구활동에 한정되어 사용할 수 있으나 재단의 허락을 받아야 합니다. 이를 위반하는 경우, 관련 법률에 따라 책임을 질 수 있습니다."
   ]
  }
 ],
 "metadata": {
  "accelerator": "GPU",
  "colab": {
   "provenance": []
  },
  "kernelspec": {
   "display_name": "ml2",
   "language": "python",
   "name": "ml2"
  },
  "language_info": {
   "codemirror_mode": {
    "name": "ipython",
    "version": 3
   },
   "file_extension": ".py",
   "mimetype": "text/x-python",
   "name": "python",
   "nbconvert_exporter": "python",
   "pygments_lexer": "ipython3",
   "version": "3.8.16"
  }
 },
 "nbformat": 4,
 "nbformat_minor": 1
}
