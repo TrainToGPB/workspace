{
 "cells": [
  {
   "cell_type": "markdown",
   "id": "b7a930a7",
   "metadata": {},
   "source": [
    "# General Information"
   ]
  },
  {
   "cell_type": "code",
   "execution_count": 146,
   "id": "9bdea1df",
   "metadata": {},
   "outputs": [],
   "source": [
    "import pandas as pd\n",
    "import numpy as np\n",
    "import matplotlib.pyplot as plt\n",
    "from collections import defaultdict\n",
    "\n",
    "import pickle as pickle\n",
    "from transformers import AutoTokenizer\n",
    "from load_data import *"
   ]
  },
  {
   "cell_type": "markdown",
   "id": "816f3116",
   "metadata": {},
   "source": [
    "## Checking Data"
   ]
  },
  {
   "cell_type": "code",
   "execution_count": 3,
   "id": "2b215dee",
   "metadata": {},
   "outputs": [],
   "source": [
    "train_data = pd.read_csv('./train/train.csv')\n",
    "test_data = pd.read_csv('./test/test_data.csv')"
   ]
  },
  {
   "cell_type": "code",
   "execution_count": 4,
   "id": "4897721f",
   "metadata": {},
   "outputs": [
    {
     "data": {
      "text/html": [
       "<div>\n",
       "<style scoped>\n",
       "    .dataframe tbody tr th:only-of-type {\n",
       "        vertical-align: middle;\n",
       "    }\n",
       "\n",
       "    .dataframe tbody tr th {\n",
       "        vertical-align: top;\n",
       "    }\n",
       "\n",
       "    .dataframe thead th {\n",
       "        text-align: right;\n",
       "    }\n",
       "</style>\n",
       "<table border=\"1\" class=\"dataframe\">\n",
       "  <thead>\n",
       "    <tr style=\"text-align: right;\">\n",
       "      <th></th>\n",
       "      <th>id</th>\n",
       "      <th>sentence</th>\n",
       "      <th>subject_entity</th>\n",
       "      <th>object_entity</th>\n",
       "      <th>label</th>\n",
       "      <th>source</th>\n",
       "    </tr>\n",
       "  </thead>\n",
       "  <tbody>\n",
       "    <tr>\n",
       "      <th>5312</th>\n",
       "      <td>5312</td>\n",
       "      <td>소성왕, 헌덕왕, 흥덕왕의 동생이며, 애장왕의 숙부였다.</td>\n",
       "      <td>{'word': '소성왕', 'start_idx': 0, 'end_idx': 2, ...</td>\n",
       "      <td>{'word': '애장왕', 'start_idx': 21, 'end_idx': 23...</td>\n",
       "      <td>per:other_family</td>\n",
       "      <td>wikipedia</td>\n",
       "    </tr>\n",
       "    <tr>\n",
       "      <th>5483</th>\n",
       "      <td>5483</td>\n",
       "      <td>2014년 FIFA 월드컵 종료 후 알레한드로 사벨라의 후임으로 아르헨티나의 감독으...</td>\n",
       "      <td>{'word': '알레한드로 사벨라', 'start_idx': 20, 'end_id...</td>\n",
       "      <td>{'word': '아르헨티나', 'start_idx': 36, 'end_idx': ...</td>\n",
       "      <td>no_relation</td>\n",
       "      <td>wikipedia</td>\n",
       "    </tr>\n",
       "    <tr>\n",
       "      <th>26158</th>\n",
       "      <td>26158</td>\n",
       "      <td>쿠바 혁명(1953년 7월 26일 ~ 1959년 1월 1일)은 젊은 변호사 피델 카...</td>\n",
       "      <td>{'word': '라울 카스트로', 'start_idx': 62, 'end_idx'...</td>\n",
       "      <td>{'word': '혁명가', 'start_idx': 78, 'end_idx': 80...</td>\n",
       "      <td>per:title</td>\n",
       "      <td>wikipedia</td>\n",
       "    </tr>\n",
       "    <tr>\n",
       "      <th>532</th>\n",
       "      <td>532</td>\n",
       "      <td>행사에 앞서 병원행정 우수사례 포스터 및 병원사랑사진 전시회가 함께 개최되었으며, ...</td>\n",
       "      <td>{'word': '건강보험심사평가원', 'start_idx': 127, 'end_i...</td>\n",
       "      <td>{'word': '보건복지부', 'start_idx': 86, 'end_idx': ...</td>\n",
       "      <td>no_relation</td>\n",
       "      <td>wikitree</td>\n",
       "    </tr>\n",
       "    <tr>\n",
       "      <th>7408</th>\n",
       "      <td>7408</td>\n",
       "      <td>이후 카라얀에게 사사하고, 레너드 번스타인의 눈에 띄어 뉴욕 필 부지휘자로 부임하며...</td>\n",
       "      <td>{'word': '레너드 번스타인', 'start_idx': 15, 'end_idx...</td>\n",
       "      <td>{'word': '지휘자', 'start_idx': 47, 'end_idx': 49...</td>\n",
       "      <td>no_relation</td>\n",
       "      <td>wikipedia</td>\n",
       "    </tr>\n",
       "    <tr>\n",
       "      <th>22438</th>\n",
       "      <td>22438</td>\n",
       "      <td>2011년에는 이치현, 권인하, 민해경과 함께 프로젝트 보컬 음악 그룹 \"컬러스\"(...</td>\n",
       "      <td>{'word': '컬러스', 'start_idx': 41, 'end_idx': 43...</td>\n",
       "      <td>{'word': '민해경', 'start_idx': 18, 'end_idx': 20...</td>\n",
       "      <td>no_relation</td>\n",
       "      <td>wikipedia</td>\n",
       "    </tr>\n",
       "    <tr>\n",
       "      <th>22215</th>\n",
       "      <td>22215</td>\n",
       "      <td>정치적으로, 광우병을 보도한 MBC PD수첩의 담당 PD들이 무죄판결을 받은 것에 ...</td>\n",
       "      <td>{'word': '박원순', 'start_idx': 74, 'end_idx': 76...</td>\n",
       "      <td>{'word': '아들 박주신', 'start_idx': 84, 'end_idx':...</td>\n",
       "      <td>per:children</td>\n",
       "      <td>wikipedia</td>\n",
       "    </tr>\n",
       "    <tr>\n",
       "      <th>23251</th>\n",
       "      <td>23251</td>\n",
       "      <td>케이블 채널 Xports와 스포츠 언론사 엑스포츠뉴스(2004년 설립)는 모기업이 ...</td>\n",
       "      <td>{'word': 'Xports', 'start_idx': 7, 'end_idx': ...</td>\n",
       "      <td>{'word': '엑스포츠', 'start_idx': 23, 'end_idx': 2...</td>\n",
       "      <td>no_relation</td>\n",
       "      <td>wikipedia</td>\n",
       "    </tr>\n",
       "    <tr>\n",
       "      <th>30127</th>\n",
       "      <td>30127</td>\n",
       "      <td>프로농구 KBL 소속인 전주 KCC 이지스는 전주 실내체육관을 홈구장으로 삼고 있다.</td>\n",
       "      <td>{'word': '전주 KCC 이지스', 'start_idx': 13, 'end_i...</td>\n",
       "      <td>{'word': 'KBL', 'start_idx': 5, 'end_idx': 7, ...</td>\n",
       "      <td>org:member_of</td>\n",
       "      <td>wikipedia</td>\n",
       "    </tr>\n",
       "    <tr>\n",
       "      <th>17953</th>\n",
       "      <td>17953</td>\n",
       "      <td>아호게는 여성 캐릭터에 많이 볼 수 있지만, 《케로로 중사》의 히나타 후유키나 《강...</td>\n",
       "      <td>{'word': '에드워드 엘릭', 'start_idx': 56, 'end_idx'...</td>\n",
       "      <td>{'word': '강철의 연금술사', 'start_idx': 45, 'end_idx...</td>\n",
       "      <td>per:origin</td>\n",
       "      <td>wikipedia</td>\n",
       "    </tr>\n",
       "  </tbody>\n",
       "</table>\n",
       "</div>"
      ],
      "text/plain": [
       "          id                                           sentence  \\\n",
       "5312    5312                    소성왕, 헌덕왕, 흥덕왕의 동생이며, 애장왕의 숙부였다.   \n",
       "5483    5483  2014년 FIFA 월드컵 종료 후 알레한드로 사벨라의 후임으로 아르헨티나의 감독으...   \n",
       "26158  26158  쿠바 혁명(1953년 7월 26일 ~ 1959년 1월 1일)은 젊은 변호사 피델 카...   \n",
       "532      532  행사에 앞서 병원행정 우수사례 포스터 및 병원사랑사진 전시회가 함께 개최되었으며, ...   \n",
       "7408    7408  이후 카라얀에게 사사하고, 레너드 번스타인의 눈에 띄어 뉴욕 필 부지휘자로 부임하며...   \n",
       "22438  22438  2011년에는 이치현, 권인하, 민해경과 함께 프로젝트 보컬 음악 그룹 \"컬러스\"(...   \n",
       "22215  22215  정치적으로, 광우병을 보도한 MBC PD수첩의 담당 PD들이 무죄판결을 받은 것에 ...   \n",
       "23251  23251  케이블 채널 Xports와 스포츠 언론사 엑스포츠뉴스(2004년 설립)는 모기업이 ...   \n",
       "30127  30127    프로농구 KBL 소속인 전주 KCC 이지스는 전주 실내체육관을 홈구장으로 삼고 있다.   \n",
       "17953  17953  아호게는 여성 캐릭터에 많이 볼 수 있지만, 《케로로 중사》의 히나타 후유키나 《강...   \n",
       "\n",
       "                                          subject_entity  \\\n",
       "5312   {'word': '소성왕', 'start_idx': 0, 'end_idx': 2, ...   \n",
       "5483   {'word': '알레한드로 사벨라', 'start_idx': 20, 'end_id...   \n",
       "26158  {'word': '라울 카스트로', 'start_idx': 62, 'end_idx'...   \n",
       "532    {'word': '건강보험심사평가원', 'start_idx': 127, 'end_i...   \n",
       "7408   {'word': '레너드 번스타인', 'start_idx': 15, 'end_idx...   \n",
       "22438  {'word': '컬러스', 'start_idx': 41, 'end_idx': 43...   \n",
       "22215  {'word': '박원순', 'start_idx': 74, 'end_idx': 76...   \n",
       "23251  {'word': 'Xports', 'start_idx': 7, 'end_idx': ...   \n",
       "30127  {'word': '전주 KCC 이지스', 'start_idx': 13, 'end_i...   \n",
       "17953  {'word': '에드워드 엘릭', 'start_idx': 56, 'end_idx'...   \n",
       "\n",
       "                                           object_entity             label  \\\n",
       "5312   {'word': '애장왕', 'start_idx': 21, 'end_idx': 23...  per:other_family   \n",
       "5483   {'word': '아르헨티나', 'start_idx': 36, 'end_idx': ...       no_relation   \n",
       "26158  {'word': '혁명가', 'start_idx': 78, 'end_idx': 80...         per:title   \n",
       "532    {'word': '보건복지부', 'start_idx': 86, 'end_idx': ...       no_relation   \n",
       "7408   {'word': '지휘자', 'start_idx': 47, 'end_idx': 49...       no_relation   \n",
       "22438  {'word': '민해경', 'start_idx': 18, 'end_idx': 20...       no_relation   \n",
       "22215  {'word': '아들 박주신', 'start_idx': 84, 'end_idx':...      per:children   \n",
       "23251  {'word': '엑스포츠', 'start_idx': 23, 'end_idx': 2...       no_relation   \n",
       "30127  {'word': 'KBL', 'start_idx': 5, 'end_idx': 7, ...     org:member_of   \n",
       "17953  {'word': '강철의 연금술사', 'start_idx': 45, 'end_idx...        per:origin   \n",
       "\n",
       "          source  \n",
       "5312   wikipedia  \n",
       "5483   wikipedia  \n",
       "26158  wikipedia  \n",
       "532     wikitree  \n",
       "7408   wikipedia  \n",
       "22438  wikipedia  \n",
       "22215  wikipedia  \n",
       "23251  wikipedia  \n",
       "30127  wikipedia  \n",
       "17953  wikipedia  "
      ]
     },
     "execution_count": 4,
     "metadata": {},
     "output_type": "execute_result"
    }
   ],
   "source": [
    "train_data.sample(10)"
   ]
  },
  {
   "cell_type": "code",
   "execution_count": 5,
   "id": "3a147525",
   "metadata": {},
   "outputs": [
    {
     "data": {
      "text/html": [
       "<div>\n",
       "<style scoped>\n",
       "    .dataframe tbody tr th:only-of-type {\n",
       "        vertical-align: middle;\n",
       "    }\n",
       "\n",
       "    .dataframe tbody tr th {\n",
       "        vertical-align: top;\n",
       "    }\n",
       "\n",
       "    .dataframe thead th {\n",
       "        text-align: right;\n",
       "    }\n",
       "</style>\n",
       "<table border=\"1\" class=\"dataframe\">\n",
       "  <thead>\n",
       "    <tr style=\"text-align: right;\">\n",
       "      <th></th>\n",
       "      <th>id</th>\n",
       "      <th>sentence</th>\n",
       "      <th>subject_entity</th>\n",
       "      <th>object_entity</th>\n",
       "      <th>label</th>\n",
       "      <th>source</th>\n",
       "    </tr>\n",
       "  </thead>\n",
       "  <tbody>\n",
       "    <tr>\n",
       "      <th>550</th>\n",
       "      <td>550</td>\n",
       "      <td>최호 장군이 직접 선조에게 하사받아 임진왜란 당시에 왜적을 무찌르는데 이용했던 것으...</td>\n",
       "      <td>{'word': '선조', 'start_idx': 10, 'end_idx': 11,...</td>\n",
       "      <td>{'word': '최호', 'start_idx': 0, 'end_idx': 1, '...</td>\n",
       "      <td>100</td>\n",
       "      <td>wikipedia</td>\n",
       "    </tr>\n",
       "    <tr>\n",
       "      <th>5560</th>\n",
       "      <td>5560</td>\n",
       "      <td>한편, ‘클리오X김우석 한정판 아이템’ 증정과 관련된 자세한 내용은 클리오 공식 홈...</td>\n",
       "      <td>{'word': '김우석', 'start_idx': 9, 'end_idx': 11,...</td>\n",
       "      <td>{'word': '클리오', 'start_idx': 5, 'end_idx': 7, ...</td>\n",
       "      <td>100</td>\n",
       "      <td>wikitree</td>\n",
       "    </tr>\n",
       "    <tr>\n",
       "      <th>4034</th>\n",
       "      <td>4034</td>\n",
       "      <td>최대이륙중량 146톤인 KC-135는 최대이륙중량 267톤인 KC-10 익스텐더에 ...</td>\n",
       "      <td>{'word': '미국 공군', 'start_idx': 70, 'end_idx': ...</td>\n",
       "      <td>{'word': 'KC-135', 'start_idx': 13, 'end_idx':...</td>\n",
       "      <td>100</td>\n",
       "      <td>wikipedia</td>\n",
       "    </tr>\n",
       "    <tr>\n",
       "      <th>6597</th>\n",
       "      <td>6597</td>\n",
       "      <td>점심식사 이후에는 광주여대 양궁부(감독 김성은) 소속 학생들과 광주광역시 체육회 소...</td>\n",
       "      <td>{'word': '김성은', 'start_idx': 22, 'end_idx': 24...</td>\n",
       "      <td>{'word': '선수', 'start_idx': 48, 'end_idx': 49,...</td>\n",
       "      <td>100</td>\n",
       "      <td>wikitree</td>\n",
       "    </tr>\n",
       "    <tr>\n",
       "      <th>1873</th>\n",
       "      <td>1873</td>\n",
       "      <td>다나구라 번은 일본 에도 시대 무쓰 국 시라카와 군・기쿠타 군・이와사키 군・이와키 ...</td>\n",
       "      <td>{'word': '다나구라 번', 'start_idx': 0, 'end_idx': ...</td>\n",
       "      <td>{'word': '일본', 'start_idx': 8, 'end_idx': 9, '...</td>\n",
       "      <td>100</td>\n",
       "      <td>wikipedia</td>\n",
       "    </tr>\n",
       "    <tr>\n",
       "      <th>7757</th>\n",
       "      <td>7757</td>\n",
       "      <td>이러한 각 지역의 거점센터를 중심으로 고신대복음병원은 나눔 의료, 의사연수, 의료관...</td>\n",
       "      <td>{'word': '고신대복음병원', 'start_idx': 21, 'end_idx'...</td>\n",
       "      <td>{'word': '베트남', 'start_idx': 92, 'end_idx': 94...</td>\n",
       "      <td>100</td>\n",
       "      <td>wikitree</td>\n",
       "    </tr>\n",
       "    <tr>\n",
       "      <th>3416</th>\n",
       "      <td>3416</td>\n",
       "      <td>루지에로는 굴리엘모가 자신을 후계자로 지명했다고 주장했지만, 호노리오 2세는 굴리엘...</td>\n",
       "      <td>{'word': '루지에로', 'start_idx': 0, 'end_idx': 3,...</td>\n",
       "      <td>{'word': '호노리오 2세', 'start_idx': 34, 'end_idx'...</td>\n",
       "      <td>100</td>\n",
       "      <td>wikipedia</td>\n",
       "    </tr>\n",
       "    <tr>\n",
       "      <th>2185</th>\n",
       "      <td>2185</td>\n",
       "      <td>이후, CCTV는 슈가 중국 개혁 40주년을 기념해 '차이나'를 부른 가수 100명...</td>\n",
       "      <td>{'word': '슈', 'start_idx': 10, 'end_idx': 10, ...</td>\n",
       "      <td>{'word': '가수', 'start_idx': 39, 'end_idx': 40,...</td>\n",
       "      <td>100</td>\n",
       "      <td>wikipedia</td>\n",
       "    </tr>\n",
       "    <tr>\n",
       "      <th>6677</th>\n",
       "      <td>6677</td>\n",
       "      <td>장 교육감은 이날 2학기를 시작하면서 “부서 간 협업”을 강조했다.</td>\n",
       "      <td>{'word': '장', 'start_idx': 0, 'end_idx': 0, 't...</td>\n",
       "      <td>{'word': '교육감', 'start_idx': 2, 'end_idx': 4, ...</td>\n",
       "      <td>100</td>\n",
       "      <td>wikitree</td>\n",
       "    </tr>\n",
       "    <tr>\n",
       "      <th>5698</th>\n",
       "      <td>5698</td>\n",
       "      <td>이돈직의 후손들이 1999년 1월 22일 국가보훈처에 이돈직을 독립유공자로 서훈해 ...</td>\n",
       "      <td>{'word': '국가보훈처', 'start_idx': 23, 'end_idx': ...</td>\n",
       "      <td>{'word': '이돈직', 'start_idx': 0, 'end_idx': 2, ...</td>\n",
       "      <td>100</td>\n",
       "      <td>wikipedia</td>\n",
       "    </tr>\n",
       "  </tbody>\n",
       "</table>\n",
       "</div>"
      ],
      "text/plain": [
       "        id                                           sentence  \\\n",
       "550    550  최호 장군이 직접 선조에게 하사받아 임진왜란 당시에 왜적을 무찌르는데 이용했던 것으...   \n",
       "5560  5560  한편, ‘클리오X김우석 한정판 아이템’ 증정과 관련된 자세한 내용은 클리오 공식 홈...   \n",
       "4034  4034  최대이륙중량 146톤인 KC-135는 최대이륙중량 267톤인 KC-10 익스텐더에 ...   \n",
       "6597  6597  점심식사 이후에는 광주여대 양궁부(감독 김성은) 소속 학생들과 광주광역시 체육회 소...   \n",
       "1873  1873  다나구라 번은 일본 에도 시대 무쓰 국 시라카와 군・기쿠타 군・이와사키 군・이와키 ...   \n",
       "7757  7757  이러한 각 지역의 거점센터를 중심으로 고신대복음병원은 나눔 의료, 의사연수, 의료관...   \n",
       "3416  3416  루지에로는 굴리엘모가 자신을 후계자로 지명했다고 주장했지만, 호노리오 2세는 굴리엘...   \n",
       "2185  2185  이후, CCTV는 슈가 중국 개혁 40주년을 기념해 '차이나'를 부른 가수 100명...   \n",
       "6677  6677              장 교육감은 이날 2학기를 시작하면서 “부서 간 협업”을 강조했다.   \n",
       "5698  5698  이돈직의 후손들이 1999년 1월 22일 국가보훈처에 이돈직을 독립유공자로 서훈해 ...   \n",
       "\n",
       "                                         subject_entity  \\\n",
       "550   {'word': '선조', 'start_idx': 10, 'end_idx': 11,...   \n",
       "5560  {'word': '김우석', 'start_idx': 9, 'end_idx': 11,...   \n",
       "4034  {'word': '미국 공군', 'start_idx': 70, 'end_idx': ...   \n",
       "6597  {'word': '김성은', 'start_idx': 22, 'end_idx': 24...   \n",
       "1873  {'word': '다나구라 번', 'start_idx': 0, 'end_idx': ...   \n",
       "7757  {'word': '고신대복음병원', 'start_idx': 21, 'end_idx'...   \n",
       "3416  {'word': '루지에로', 'start_idx': 0, 'end_idx': 3,...   \n",
       "2185  {'word': '슈', 'start_idx': 10, 'end_idx': 10, ...   \n",
       "6677  {'word': '장', 'start_idx': 0, 'end_idx': 0, 't...   \n",
       "5698  {'word': '국가보훈처', 'start_idx': 23, 'end_idx': ...   \n",
       "\n",
       "                                          object_entity  label     source  \n",
       "550   {'word': '최호', 'start_idx': 0, 'end_idx': 1, '...    100  wikipedia  \n",
       "5560  {'word': '클리오', 'start_idx': 5, 'end_idx': 7, ...    100   wikitree  \n",
       "4034  {'word': 'KC-135', 'start_idx': 13, 'end_idx':...    100  wikipedia  \n",
       "6597  {'word': '선수', 'start_idx': 48, 'end_idx': 49,...    100   wikitree  \n",
       "1873  {'word': '일본', 'start_idx': 8, 'end_idx': 9, '...    100  wikipedia  \n",
       "7757  {'word': '베트남', 'start_idx': 92, 'end_idx': 94...    100   wikitree  \n",
       "3416  {'word': '호노리오 2세', 'start_idx': 34, 'end_idx'...    100  wikipedia  \n",
       "2185  {'word': '가수', 'start_idx': 39, 'end_idx': 40,...    100  wikipedia  \n",
       "6677  {'word': '교육감', 'start_idx': 2, 'end_idx': 4, ...    100   wikitree  \n",
       "5698  {'word': '이돈직', 'start_idx': 0, 'end_idx': 2, ...    100  wikipedia  "
      ]
     },
     "execution_count": 5,
     "metadata": {},
     "output_type": "execute_result"
    }
   ],
   "source": [
    "test_data.sample(10)"
   ]
  },
  {
   "cell_type": "markdown",
   "id": "567b475b",
   "metadata": {},
   "source": [
    "## Checking Labels"
   ]
  },
  {
   "cell_type": "code",
   "execution_count": 6,
   "id": "d83f6fb0",
   "metadata": {},
   "outputs": [
    {
     "data": {
      "text/plain": [
       "0                      no_relation\n",
       "1                      no_relation\n",
       "2                    org:member_of\n",
       "3        org:top_members/employees\n",
       "4                      no_relation\n",
       "                   ...            \n",
       "32465              per:employee_of\n",
       "32466               per:colleagues\n",
       "32467    org:top_members/employees\n",
       "32468                  no_relation\n",
       "32469    org:top_members/employees\n",
       "Name: label, Length: 32470, dtype: object"
      ]
     },
     "execution_count": 6,
     "metadata": {},
     "output_type": "execute_result"
    }
   ],
   "source": [
    "train_labels = train_data.label\n",
    "train_labels"
   ]
  },
  {
   "cell_type": "code",
   "execution_count": 8,
   "id": "b855ae62",
   "metadata": {},
   "outputs": [
    {
     "data": {
      "text/plain": [
       "array(['no_relation', 'org:member_of', 'org:top_members/employees',\n",
       "       'org:alternate_names', 'per:date_of_birth',\n",
       "       'org:place_of_headquarters', 'per:employee_of', 'per:origin',\n",
       "       'per:title', 'org:members', 'per:schools_attended',\n",
       "       'per:colleagues', 'per:alternate_names', 'per:spouse',\n",
       "       'org:founded_by', 'org:political/religious_affiliation',\n",
       "       'per:children', 'org:founded', 'org:number_of_employees/members',\n",
       "       'per:place_of_birth', 'org:dissolved', 'per:parents',\n",
       "       'per:religion', 'per:date_of_death', 'per:place_of_residence',\n",
       "       'per:other_family', 'org:product', 'per:siblings', 'per:product',\n",
       "       'per:place_of_death'], dtype=object)"
      ]
     },
     "execution_count": 8,
     "metadata": {},
     "output_type": "execute_result"
    }
   ],
   "source": [
    "train_labels_uniq = train_labels.unique()\n",
    "train_labels_uniq"
   ]
  },
  {
   "cell_type": "code",
   "execution_count": 9,
   "id": "a73a423d",
   "metadata": {},
   "outputs": [
    {
     "data": {
      "text/plain": [
       "30"
      ]
     },
     "execution_count": 9,
     "metadata": {},
     "output_type": "execute_result"
    }
   ],
   "source": [
    "train_labels.nunique()"
   ]
  },
  {
   "cell_type": "code",
   "execution_count": 10,
   "id": "040755c0",
   "metadata": {},
   "outputs": [
    {
     "data": {
      "text/plain": [
       "{'no_relation': 'nr',\n",
       " 'org:top_members/employees': 'o:t_m/e',\n",
       " 'org:members': 'o:m',\n",
       " 'org:product': 'o:p',\n",
       " 'per:title': 'p:t',\n",
       " 'org:alternate_names': 'o:a_n',\n",
       " 'per:employee_of': 'o:e_o',\n",
       " 'org:place_of_headquarters': 'o:p_o_h',\n",
       " 'per:product': 'p:pr',\n",
       " 'org:number_of_employees/members': 'o:n_o_e/m',\n",
       " 'per:children': 'p:ch',\n",
       " 'per:place_of_residence': 'p:p_o_r',\n",
       " 'per:alternate_names': 'p:a_n',\n",
       " 'per:other_family': 'p:o_f',\n",
       " 'per:colleagues': 'p:co',\n",
       " 'per:origin': 'p:o',\n",
       " 'per:siblings': 'p:si',\n",
       " 'per:spouse': 'p:sp',\n",
       " 'org:founded': 'o:f',\n",
       " 'org:political/religious_affiliation': 'o:p/r_a',\n",
       " 'org:member_of': 'o:m_o',\n",
       " 'per:parents': 'p:pa',\n",
       " 'org:dissolved': 'o:d',\n",
       " 'per:schools_attended': 'p:s_a',\n",
       " 'per:date_of_death': 'p:d_o_d',\n",
       " 'per:date_of_birth': 'p:d_o_b',\n",
       " 'per:place_of_birth': 'p:p_o_b',\n",
       " 'per:place_of_death': 'p:p_o_d',\n",
       " 'org:founded_by': 'o:f_b',\n",
       " 'per:religion': 'p:r'}"
      ]
     },
     "execution_count": 10,
     "metadata": {},
     "output_type": "execute_result"
    }
   ],
   "source": [
    "train_labels_dict = {'no_relation': 0, \n",
    "                     'org:top_members/employees': 1, \n",
    "                     'org:members': 2, \n",
    "                     'org:product': 3, \n",
    "                     'per:title': 4, \n",
    "                     'org:alternate_names': 5, \n",
    "                     'per:employee_of': 6, \n",
    "                     'org:place_of_headquarters': 7, \n",
    "                     'per:product': 8, \n",
    "                     'org:number_of_employees/members': 9, \n",
    "                     'per:children': 10, \n",
    "                     'per:place_of_residence': 11, \n",
    "                     'per:alternate_names': 12, \n",
    "                     'per:other_family': 13, \n",
    "                     'per:colleagues': 14, \n",
    "                     'per:origin': 15, \n",
    "                     'per:siblings': 16, \n",
    "                     'per:spouse': 17, \n",
    "                     'org:founded': 18, \n",
    "                     'org:political/religious_affiliation': 19, \n",
    "                     'org:member_of': 20, \n",
    "                     'per:parents': 21, \n",
    "                     'org:dissolved': 22, \n",
    "                     'per:schools_attended': 23, \n",
    "                     'per:date_of_death': 24, \n",
    "                     'per:date_of_birth': 25, \n",
    "                     'per:place_of_birth': 26, \n",
    "                     'per:place_of_death': 27, \n",
    "                     'org:founded_by': 28, \n",
    "                     'per:religion': 29}\n",
    "\n",
    "label2nick = {0: 'nr',\n",
    "              1: 'o:t_m/e',\n",
    "              2: 'o:m',\n",
    "              3: 'o:p',\n",
    "              4: 'p:t',\n",
    "              5: 'o:a_n',\n",
    "              6: 'o:e_o',\n",
    "              7: 'o:p_o_h',\n",
    "              8: 'p:pr',\n",
    "              9: 'o:n_o_e/m',\n",
    "             10: 'p:ch',\n",
    "             11: 'p:p_o_r',\n",
    "             12: 'p:a_n',\n",
    "             13: 'p:o_f',\n",
    "             14: 'p:co',\n",
    "             15: 'p:o',\n",
    "             16: 'p:si',\n",
    "             17: 'p:sp',\n",
    "             18: 'o:f',\n",
    "             19: 'o:p/r_a',\n",
    "             20: 'o:m_o',\n",
    "             21: 'p:pa',\n",
    "             22: 'o:d',\n",
    "             23: 'p:s_a',\n",
    "             24: 'p:d_o_d',\n",
    "             25: 'p:d_o_b',\n",
    "             26: 'p:p_o_b',\n",
    "             27: 'p:p_o_d',\n",
    "             28: 'o:f_b',\n",
    "             29: 'p:r'}\n",
    "\n",
    "name2nick = {}\n",
    "for tld in train_labels_dict.items():\n",
    "    name2nick[tld[0]] = label2nick[tld[1]]\n",
    "name2nick"
   ]
  },
  {
   "cell_type": "code",
   "execution_count": 11,
   "id": "2d115e0e",
   "metadata": {},
   "outputs": [
    {
     "data": {
      "text/plain": [
       "defaultdict(int,\n",
       "            {'nr': 9534,\n",
       "             'o:m_o': 1866,\n",
       "             'o:t_m/e': 4284,\n",
       "             'o:a_n': 1320,\n",
       "             'p:d_o_b': 1130,\n",
       "             'o:p_o_h': 1195,\n",
       "             'o:e_o': 3573,\n",
       "             'p:o': 1234,\n",
       "             'p:t': 2103,\n",
       "             'o:m': 420,\n",
       "             'p:s_a': 82,\n",
       "             'p:co': 534,\n",
       "             'p:a_n': 1001,\n",
       "             'p:sp': 795,\n",
       "             'o:f_b': 155,\n",
       "             'o:p/r_a': 98,\n",
       "             'p:ch': 304,\n",
       "             'o:f': 450,\n",
       "             'o:n_o_e/m': 48,\n",
       "             'p:p_o_b': 166,\n",
       "             'o:d': 66,\n",
       "             'p:pa': 520,\n",
       "             'p:r': 96,\n",
       "             'p:d_o_d': 418,\n",
       "             'p:p_o_r': 193,\n",
       "             'p:o_f': 190,\n",
       "             'o:p': 380,\n",
       "             'p:si': 136,\n",
       "             'p:pr': 139,\n",
       "             'p:p_o_d': 40})"
      ]
     },
     "execution_count": 11,
     "metadata": {},
     "output_type": "execute_result"
    }
   ],
   "source": [
    "train_labels_num_dict = defaultdict(int)\n",
    "for train_label in train_labels:\n",
    "    train_labels_num_dict[name2nick[train_label]] += 1\n",
    "    \n",
    "train_labels_num_dict # tlnd"
   ]
  },
  {
   "cell_type": "code",
   "execution_count": 12,
   "id": "218fe553",
   "metadata": {},
   "outputs": [
    {
     "name": "stdout",
     "output_type": "stream",
     "text": [
      "max:  9534\n",
      "min:  40\n"
     ]
    }
   ],
   "source": [
    "print(\"max: \", max(train_labels_num_dict.values()))\n",
    "print(\"min: \", min(train_labels_num_dict.values()))"
   ]
  },
  {
   "cell_type": "code",
   "execution_count": 40,
   "id": "9d444fd4",
   "metadata": {},
   "outputs": [
    {
     "name": "stdout",
     "output_type": "stream",
     "text": [
      "['nr', 'o:t_m/e', 'o:e_o', 'p:t', 'o:m_o', 'o:a_n', 'p:o', 'o:p_o_h', 'p:d_o_b', 'p:a_n', 'p:sp', 'p:co', 'p:pa', 'o:f', 'o:m', 'p:d_o_d', 'o:p', 'p:ch', 'p:p_o_r', 'p:o_f', 'p:p_o_b', 'o:f_b', 'p:pr', 'p:si', 'o:p/r_a', 'p:r', 'p:s_a', 'o:d', 'o:n_o_e/m', 'p:p_o_d']\n",
      "[9534, 4284, 3573, 2103, 1866, 1320, 1234, 1195, 1130, 1001, 795, 534, 520, 450, 420, 418, 380, 304, 193, 190, 166, 155, 139, 136, 98, 96, 82, 66, 48, 40]\n"
     ]
    }
   ],
   "source": [
    "tlnd4plt_sorted = sorted(train_labels_num_dict.items(), reverse=True, key=lambda x: x[1])\n",
    "tlnd4plt_sorted_keys = [ts[0] for ts in tlnd4plt_sorted]\n",
    "print(tlnd4plt_sorted_keys)\n",
    "tlnd4plt_sorted_values = [ts[1] for ts in tlnd4plt_sorted]\n",
    "print(tlnd4plt_sorted_values)"
   ]
  },
  {
   "cell_type": "code",
   "execution_count": 129,
   "id": "f4a48ff1",
   "metadata": {
    "scrolled": true
   },
   "outputs": [
    {
     "data": {
      "image/png": "[encoded data removed]",
      "text/plain": [
       "<Figure size 1200x700 with 1 Axes>"
      ]
     },
     "metadata": {},
     "output_type": "display_data"
    }
   ],
   "source": [
    "fig, ax = plt.subplots(1, 1, figsize=(12, 7))\n",
    "clist = []\n",
    "for tlnd in tlnd4plt_sorted_keys:\n",
    "    if tlnd.startswith('o'):\n",
    "        clist.append('blue')\n",
    "    elif tlnd.startswith('p'):\n",
    "        clist.append('red')\n",
    "    else:\n",
    "        clist.append('gray')\n",
    "ax.bar(tlnd4plt_sorted_keys, tlnd4plt_sorted_values, color=clist)\n",
    "plt.xticks(rotation='vertical')\n",
    "\n",
    "for idx, value in enumerate(tlnd4plt_sorted_values):\n",
    "    ax.text(idx, value+100, s=value, ha='center', fontweight='bold', fontsize=7)\n",
    "    \n",
    "plt.show()"
   ]
  },
  {
   "cell_type": "markdown",
   "id": "3f98010f",
   "metadata": {},
   "source": [
    "## Checking Sources"
   ]
  },
  {
   "cell_type": "code",
   "execution_count": 131,
   "id": "1be32419",
   "metadata": {},
   "outputs": [
    {
     "data": {
      "text/plain": [
       "0        wikipedia\n",
       "1         wikitree\n",
       "2         wikitree\n",
       "3         wikitree\n",
       "4        wikipedia\n",
       "           ...    \n",
       "32465     wikitree\n",
       "32466    wikipedia\n",
       "32467     wikitree\n",
       "32468    wikipedia\n",
       "32469     wikitree\n",
       "Name: source, Length: 32470, dtype: object"
      ]
     },
     "execution_count": 131,
     "metadata": {},
     "output_type": "execute_result"
    }
   ],
   "source": [
    "train_sources = train_data.source\n",
    "test_sources = test_data.source\n",
    "train_sources"
   ]
  },
  {
   "cell_type": "code",
   "execution_count": 132,
   "id": "98a2f6d0",
   "metadata": {},
   "outputs": [],
   "source": [
    "train_sources_num_dict = defaultdict(int)\n",
    "test_sources_num_dict = defaultdict(int)\n",
    "for train_source in train_sources:\n",
    "    train_sources_num_dict[train_source] += 1\n",
    "for test_source in test_sources:\n",
    "    test_sources_num_dict[test_source] += 1"
   ]
  },
  {
   "cell_type": "code",
   "execution_count": 133,
   "id": "80235173",
   "metadata": {
    "scrolled": true
   },
   "outputs": [
    {
     "data": {
      "text/plain": [
       "defaultdict(int,\n",
       "            {'wikipedia': 21620, 'wikitree': 10672, 'policy_briefing': 178})"
      ]
     },
     "execution_count": 133,
     "metadata": {},
     "output_type": "execute_result"
    }
   ],
   "source": [
    "train_sources_num_dict # train_snd"
   ]
  },
  {
   "cell_type": "code",
   "execution_count": 134,
   "id": "14a3e78b",
   "metadata": {},
   "outputs": [
    {
     "data": {
      "text/plain": [
       "defaultdict(int, {'wikitree': 4088, 'wikipedia': 3621, 'policy_briefing': 56})"
      ]
     },
     "execution_count": 134,
     "metadata": {},
     "output_type": "execute_result"
    }
   ],
   "source": [
    "test_sources_num_dict"
   ]
  },
  {
   "cell_type": "code",
   "execution_count": 137,
   "id": "24c69229",
   "metadata": {},
   "outputs": [
    {
     "name": "stdout",
     "output_type": "stream",
     "text": [
      "Train Data Sources\n",
      "['wikipedia', 'wikitree', 'policy_briefing']\n",
      "[21620, 10672, 178]\n",
      "\n",
      "Test Data Sources\n",
      "['wikitree', 'wikipedia', 'policy_briefing']\n",
      "[4088, 3621, 56]\n"
     ]
    }
   ],
   "source": [
    "print(\"Train Data Sources\")\n",
    "train_snd4plt_sorted = sorted(train_sources_num_dict.items(), reverse=True, key=lambda x: x[1])\n",
    "train_snd4plt_sorted_keys = [ts[0] for ts in train_snd4plt_sorted]\n",
    "print(train_snd4plt_sorted_keys)\n",
    "train_snd4plt_sorted_values = [ts[1] for ts in train_snd4plt_sorted]\n",
    "print(train_snd4plt_sorted_values)\n",
    "\n",
    "print(\"\\nTest Data Sources\")\n",
    "test_snd4plt_sorted = sorted(test_sources_num_dict.items(), reverse=True, key=lambda x: x[1])\n",
    "test_snd4plt_sorted_keys = [ts[0] for ts in test_snd4plt_sorted]\n",
    "print(test_snd4plt_sorted_keys)\n",
    "test_snd4plt_sorted_values = [ts[1] for ts in test_snd4plt_sorted]\n",
    "print(test_snd4plt_sorted_values)"
   ]
  },
  {
   "cell_type": "code",
   "execution_count": 141,
   "id": "6d42335c",
   "metadata": {
    "scrolled": true
   },
   "outputs": [
    {
     "data": {
      "image/png": "[encoded data removed]",
      "text/plain": [
       "<Figure size 1200x700 with 1 Axes>"
      ]
     },
     "metadata": {},
     "output_type": "display_data"
    }
   ],
   "source": [
    "fig, ax = plt.subplots(1, 1, figsize=(12, 7))\n",
    "clist = ['pink', 'orange', 'green']\n",
    "ax.bar(train_snd4plt_sorted_keys, train_snd4plt_sorted_values, color=clist)\n",
    "ax.set_title(\"Train Data Sources\", fontweight='bold')\n",
    "\n",
    "for idx, value in enumerate(train_snd4plt_sorted_values):\n",
    "    ax.text(x=idx, y=value+100, s=value, ha='center', fontweight='bold')\n",
    "    \n",
    "plt.show()"
   ]
  },
  {
   "cell_type": "code",
   "execution_count": 140,
   "id": "92b50d23",
   "metadata": {},
   "outputs": [
    {
     "data": {
      "image/png": "[encoded data removed]",
      "text/plain": [
       "<Figure size 1200x700 with 1 Axes>"
      ]
     },
     "metadata": {},
     "output_type": "display_data"
    }
   ],
   "source": [
    "fig, ax = plt.subplots(1, 1, figsize=(12, 7))\n",
    "clist = ['pink', 'orange', 'green']\n",
    "ax.bar(test_snd4plt_sorted_keys, test_snd4plt_sorted_values, color=clist)\n",
    "ax.set_title(\"Test Data Sources\", fontweight='bold')\n",
    "\n",
    "for idx, value in enumerate(test_snd4plt_sorted_values):\n",
    "    ax.text(x=idx, y=value+100, s=value, ha='center', fontweight='bold')\n",
    "    \n",
    "plt.show()"
   ]
  },
  {
   "cell_type": "markdown",
   "id": "8cc28b35",
   "metadata": {},
   "source": [
    "## Checking Sentence Lengths"
   ]
  },
  {
   "cell_type": "code",
   "execution_count": 96,
   "id": "f190a233",
   "metadata": {
    "scrolled": true
   },
   "outputs": [
    {
     "data": {
      "text/html": [
       "<div>\n",
       "<style scoped>\n",
       "    .dataframe tbody tr th:only-of-type {\n",
       "        vertical-align: middle;\n",
       "    }\n",
       "\n",
       "    .dataframe tbody tr th {\n",
       "        vertical-align: top;\n",
       "    }\n",
       "\n",
       "    .dataframe thead th {\n",
       "        text-align: right;\n",
       "    }\n",
       "</style>\n",
       "<table border=\"1\" class=\"dataframe\">\n",
       "  <thead>\n",
       "    <tr style=\"text-align: right;\">\n",
       "      <th></th>\n",
       "      <th>id</th>\n",
       "      <th>sentence</th>\n",
       "      <th>subject_entity</th>\n",
       "      <th>object_entity</th>\n",
       "      <th>label</th>\n",
       "      <th>source</th>\n",
       "    </tr>\n",
       "  </thead>\n",
       "  <tbody>\n",
       "    <tr>\n",
       "      <th>11163</th>\n",
       "      <td>11163</td>\n",
       "      <td>헤로도토스는 어떤 이는 4천명의 그리스군이 죽었다고 하지만, 산길을 경계하던 포키스...</td>\n",
       "      <td>{'word': '포키스', 'start_idx': 43, 'end_idx': 45...</td>\n",
       "      <td>{'word': '그리스', 'start_idx': 94, 'end_idx': 96...</td>\n",
       "      <td>no_relation</td>\n",
       "      <td>wikipedia</td>\n",
       "    </tr>\n",
       "    <tr>\n",
       "      <th>31740</th>\n",
       "      <td>31740</td>\n",
       "      <td>이강인과 함께 '코파 트로피' 최종 후보 10인에 이름을 올린 선수들은 주앙 펠릭스...</td>\n",
       "      <td>{'word': '사무엘 추쿠에제', 'start_idx': 145, 'end_id...</td>\n",
       "      <td>{'word': '비야레알', 'start_idx': 154, 'end_idx': ...</td>\n",
       "      <td>per:employee_of</td>\n",
       "      <td>wikitree</td>\n",
       "    </tr>\n",
       "    <tr>\n",
       "      <th>9240</th>\n",
       "      <td>9240</td>\n",
       "      <td>강동훈(음력 1982년 3월 26일~)은 대한민국의 리그 오브 레전드 프로게임단 감...</td>\n",
       "      <td>{'word': '강동훈', 'start_idx': 0, 'end_idx': 2, ...</td>\n",
       "      <td>{'word': '프로게임단 감독', 'start_idx': 39, 'end_idx...</td>\n",
       "      <td>per:title</td>\n",
       "      <td>wikipedia</td>\n",
       "    </tr>\n",
       "    <tr>\n",
       "      <th>22583</th>\n",
       "      <td>22583</td>\n",
       "      <td>경상북도청(慶尙北道廳)은 경상북도의 행정을 총괄하는 지방행정기관으로 경상북도 안동시...</td>\n",
       "      <td>{'word': '경상북도청', 'start_idx': 0, 'end_idx': 4...</td>\n",
       "      <td>{'word': '안동시 풍천면 도청대로 455', 'start_idx': 43, ...</td>\n",
       "      <td>org:place_of_headquarters</td>\n",
       "      <td>wikipedia</td>\n",
       "    </tr>\n",
       "    <tr>\n",
       "      <th>11784</th>\n",
       "      <td>11784</td>\n",
       "      <td>제7회 전국동시지방선거에서도 박남춘 현 인천광역시장이 1위를 못했던 곳 역시 바로 ...</td>\n",
       "      <td>{'word': '박남춘', 'start_idx': 16, 'end_idx': 18...</td>\n",
       "      <td>{'word': '인천광역시', 'start_idx': 22, 'end_idx': ...</td>\n",
       "      <td>per:employee_of</td>\n",
       "      <td>wikipedia</td>\n",
       "    </tr>\n",
       "    <tr>\n",
       "      <th>20331</th>\n",
       "      <td>20331</td>\n",
       "      <td>1997년과 1998년에는 한 해 동안 한보철강 (現 현대제철), 삼미그룹, 진로그...</td>\n",
       "      <td>{'word': '강원산업', 'start_idx': 188, 'end_idx': ...</td>\n",
       "      <td>{'word': '현대제철', 'start_idx': 30, 'end_idx': 3...</td>\n",
       "      <td>no_relation</td>\n",
       "      <td>wikipedia</td>\n",
       "    </tr>\n",
       "    <tr>\n",
       "      <th>32125</th>\n",
       "      <td>32125</td>\n",
       "      <td>이 외에도 핀란드의 멜로딕 데스 메탈 밴드 칠드런 오브 보돔의 알렉시 라이호도 노래...</td>\n",
       "      <td>{'word': '칠드런 오브 보돔', 'start_idx': 24, 'end_id...</td>\n",
       "      <td>{'word': '핀란드', 'start_idx': 6, 'end_idx': 8, ...</td>\n",
       "      <td>org:place_of_headquarters</td>\n",
       "      <td>wikipedia</td>\n",
       "    </tr>\n",
       "    <tr>\n",
       "      <th>25926</th>\n",
       "      <td>25926</td>\n",
       "      <td>우리은행은 국내 IB(투자은행)그룹, 베트남우리은행 등과 협업을 통해 비엣젯의 '에...</td>\n",
       "      <td>{'word': '베트남우리은행', 'start_idx': 21, 'end_idx'...</td>\n",
       "      <td>{'word': '1억4000만달러', 'start_idx': 65, 'end_id...</td>\n",
       "      <td>no_relation</td>\n",
       "      <td>wikitree</td>\n",
       "    </tr>\n",
       "    <tr>\n",
       "      <th>5627</th>\n",
       "      <td>5627</td>\n",
       "      <td>비슷한 문맥에서 베를렌은 스테판 말라르메(Stéphane Mallarmé), 아르튀...</td>\n",
       "      <td>{'word': '베를렌', 'start_idx': 9, 'end_idx': 11,...</td>\n",
       "      <td>{'word': '아르튀르 랭보', 'start_idx': 43, 'end_idx'...</td>\n",
       "      <td>no_relation</td>\n",
       "      <td>wikipedia</td>\n",
       "    </tr>\n",
       "    <tr>\n",
       "      <th>2780</th>\n",
       "      <td>2780</td>\n",
       "      <td>특히 아이스하키(NHL)에서는 공식적으로 싸움이 허용되지만, 선수들은 무조건 맨손으...</td>\n",
       "      <td>{'word': 'NHL', 'start_idx': 9, 'end_idx': 11,...</td>\n",
       "      <td>{'word': '아이스하키', 'start_idx': 3, 'end_idx': 7...</td>\n",
       "      <td>org:alternate_names</td>\n",
       "      <td>wikitree</td>\n",
       "    </tr>\n",
       "  </tbody>\n",
       "</table>\n",
       "</div>"
      ],
      "text/plain": [
       "          id                                           sentence  \\\n",
       "11163  11163  헤로도토스는 어떤 이는 4천명의 그리스군이 죽었다고 하지만, 산길을 경계하던 포키스...   \n",
       "31740  31740  이강인과 함께 '코파 트로피' 최종 후보 10인에 이름을 올린 선수들은 주앙 펠릭스...   \n",
       "9240    9240  강동훈(음력 1982년 3월 26일~)은 대한민국의 리그 오브 레전드 프로게임단 감...   \n",
       "22583  22583  경상북도청(慶尙北道廳)은 경상북도의 행정을 총괄하는 지방행정기관으로 경상북도 안동시...   \n",
       "11784  11784  제7회 전국동시지방선거에서도 박남춘 현 인천광역시장이 1위를 못했던 곳 역시 바로 ...   \n",
       "20331  20331  1997년과 1998년에는 한 해 동안 한보철강 (現 현대제철), 삼미그룹, 진로그...   \n",
       "32125  32125  이 외에도 핀란드의 멜로딕 데스 메탈 밴드 칠드런 오브 보돔의 알렉시 라이호도 노래...   \n",
       "25926  25926  우리은행은 국내 IB(투자은행)그룹, 베트남우리은행 등과 협업을 통해 비엣젯의 '에...   \n",
       "5627    5627  비슷한 문맥에서 베를렌은 스테판 말라르메(Stéphane Mallarmé), 아르튀...   \n",
       "2780    2780  특히 아이스하키(NHL)에서는 공식적으로 싸움이 허용되지만, 선수들은 무조건 맨손으...   \n",
       "\n",
       "                                          subject_entity  \\\n",
       "11163  {'word': '포키스', 'start_idx': 43, 'end_idx': 45...   \n",
       "31740  {'word': '사무엘 추쿠에제', 'start_idx': 145, 'end_id...   \n",
       "9240   {'word': '강동훈', 'start_idx': 0, 'end_idx': 2, ...   \n",
       "22583  {'word': '경상북도청', 'start_idx': 0, 'end_idx': 4...   \n",
       "11784  {'word': '박남춘', 'start_idx': 16, 'end_idx': 18...   \n",
       "20331  {'word': '강원산업', 'start_idx': 188, 'end_idx': ...   \n",
       "32125  {'word': '칠드런 오브 보돔', 'start_idx': 24, 'end_id...   \n",
       "25926  {'word': '베트남우리은행', 'start_idx': 21, 'end_idx'...   \n",
       "5627   {'word': '베를렌', 'start_idx': 9, 'end_idx': 11,...   \n",
       "2780   {'word': 'NHL', 'start_idx': 9, 'end_idx': 11,...   \n",
       "\n",
       "                                           object_entity  \\\n",
       "11163  {'word': '그리스', 'start_idx': 94, 'end_idx': 96...   \n",
       "31740  {'word': '비야레알', 'start_idx': 154, 'end_idx': ...   \n",
       "9240   {'word': '프로게임단 감독', 'start_idx': 39, 'end_idx...   \n",
       "22583  {'word': '안동시 풍천면 도청대로 455', 'start_idx': 43, ...   \n",
       "11784  {'word': '인천광역시', 'start_idx': 22, 'end_idx': ...   \n",
       "20331  {'word': '현대제철', 'start_idx': 30, 'end_idx': 3...   \n",
       "32125  {'word': '핀란드', 'start_idx': 6, 'end_idx': 8, ...   \n",
       "25926  {'word': '1억4000만달러', 'start_idx': 65, 'end_id...   \n",
       "5627   {'word': '아르튀르 랭보', 'start_idx': 43, 'end_idx'...   \n",
       "2780   {'word': '아이스하키', 'start_idx': 3, 'end_idx': 7...   \n",
       "\n",
       "                           label     source  \n",
       "11163                no_relation  wikipedia  \n",
       "31740            per:employee_of   wikitree  \n",
       "9240                   per:title  wikipedia  \n",
       "22583  org:place_of_headquarters  wikipedia  \n",
       "11784            per:employee_of  wikipedia  \n",
       "20331                no_relation  wikipedia  \n",
       "32125  org:place_of_headquarters  wikipedia  \n",
       "25926                no_relation   wikitree  \n",
       "5627                 no_relation  wikipedia  \n",
       "2780         org:alternate_names   wikitree  "
      ]
     },
     "execution_count": 96,
     "metadata": {},
     "output_type": "execute_result"
    }
   ],
   "source": [
    "train_data.sample(10)"
   ]
  },
  {
   "cell_type": "code",
   "execution_count": 97,
   "id": "66bbe77a",
   "metadata": {
    "scrolled": true
   },
   "outputs": [
    {
     "data": {
      "text/html": [
       "<div>\n",
       "<style scoped>\n",
       "    .dataframe tbody tr th:only-of-type {\n",
       "        vertical-align: middle;\n",
       "    }\n",
       "\n",
       "    .dataframe tbody tr th {\n",
       "        vertical-align: top;\n",
       "    }\n",
       "\n",
       "    .dataframe thead th {\n",
       "        text-align: right;\n",
       "    }\n",
       "</style>\n",
       "<table border=\"1\" class=\"dataframe\">\n",
       "  <thead>\n",
       "    <tr style=\"text-align: right;\">\n",
       "      <th></th>\n",
       "      <th>id</th>\n",
       "      <th>sentence</th>\n",
       "      <th>subject_entity</th>\n",
       "      <th>object_entity</th>\n",
       "      <th>label</th>\n",
       "      <th>source</th>\n",
       "    </tr>\n",
       "  </thead>\n",
       "  <tbody>\n",
       "    <tr>\n",
       "      <th>649</th>\n",
       "      <td>649</td>\n",
       "      <td>이에 따라 삼성전자는 일본 정부의 '한국 수출 규제 대상'에 오른 3개 핵심 소재 ...</td>\n",
       "      <td>{'word': '삼성전자', 'start_idx': 6, 'end_idx': 9,...</td>\n",
       "      <td>{'word': '일본 정부', 'start_idx': 12, 'end_idx': ...</td>\n",
       "      <td>100</td>\n",
       "      <td>wikitree</td>\n",
       "    </tr>\n",
       "    <tr>\n",
       "      <th>5990</th>\n",
       "      <td>5990</td>\n",
       "      <td>엠비아이는 ‘서울국제발명전시회’에서 '파워트레인(POWERTRAIN)\"'으로 영예의...</td>\n",
       "      <td>{'word': '엠비아이', 'start_idx': 0, 'end_idx': 3,...</td>\n",
       "      <td>{'word': '파워트레인', 'start_idx': 21, 'end_idx': ...</td>\n",
       "      <td>100</td>\n",
       "      <td>wikitree</td>\n",
       "    </tr>\n",
       "    <tr>\n",
       "      <th>6581</th>\n",
       "      <td>6581</td>\n",
       "      <td>그들은 \"아니 오른손 왜 거기에 올리는데\", \"진짜 손이 왜 저기 가 있냐\", \"그...</td>\n",
       "      <td>{'word': '권창훈', 'start_idx': 63, 'end_idx': 65...</td>\n",
       "      <td>{'word': '선수', 'start_idx': 67, 'end_idx': 68,...</td>\n",
       "      <td>100</td>\n",
       "      <td>wikitree</td>\n",
       "    </tr>\n",
       "    <tr>\n",
       "      <th>7735</th>\n",
       "      <td>7735</td>\n",
       "      <td>김 연구원은 “현대해상은 과거 실손보험 비중이 커 보험료 인상 규제로 인해 위험손해...</td>\n",
       "      <td>{'word': '현대해상', 'start_idx': 8, 'end_idx': 11...</td>\n",
       "      <td>{'word': '연구원', 'start_idx': 2, 'end_idx': 4, ...</td>\n",
       "      <td>100</td>\n",
       "      <td>wikitree</td>\n",
       "    </tr>\n",
       "    <tr>\n",
       "      <th>7497</th>\n",
       "      <td>7497</td>\n",
       "      <td>상해 총영사관의 외무성 경찰사에서는 \"윤봉길은 두들겨 맞고 기절해 군인과 헌병의 힘...</td>\n",
       "      <td>{'word': '외무성', 'start_idx': 9, 'end_idx': 11,...</td>\n",
       "      <td>{'word': '군인', 'start_idx': 37, 'end_idx': 38,...</td>\n",
       "      <td>100</td>\n",
       "      <td>wikipedia</td>\n",
       "    </tr>\n",
       "    <tr>\n",
       "      <th>6734</th>\n",
       "      <td>6734</td>\n",
       "      <td>DB금융투자는 19일 삼성엔지니어링에 대해 현재 업황과는 무관한 수주 성장세를 시현...</td>\n",
       "      <td>{'word': 'DB금융투자', 'start_idx': 0, 'end_idx': ...</td>\n",
       "      <td>{'word': '19일', 'start_idx': 8, 'end_idx': 10,...</td>\n",
       "      <td>100</td>\n",
       "      <td>wikitree</td>\n",
       "    </tr>\n",
       "    <tr>\n",
       "      <th>479</th>\n",
       "      <td>479</td>\n",
       "      <td>서울성경신학대학원대학교는 6.25 전쟁이 발발하자 목회자와 성도들이 경남 거제도로 ...</td>\n",
       "      <td>{'word': '하나님', 'start_idx': 63, 'end_idx': 65...</td>\n",
       "      <td>{'word': '거제도', 'start_idx': 41, 'end_idx': 43...</td>\n",
       "      <td>100</td>\n",
       "      <td>wikipedia</td>\n",
       "    </tr>\n",
       "    <tr>\n",
       "      <th>84</th>\n",
       "      <td>84</td>\n",
       "      <td>공안의 사인, 강릉의 미방도 항복시켰다.</td>\n",
       "      <td>{'word': '공안', 'start_idx': 0, 'end_idx': 1, '...</td>\n",
       "      <td>{'word': '강릉', 'start_idx': 8, 'end_idx': 9, '...</td>\n",
       "      <td>100</td>\n",
       "      <td>wikipedia</td>\n",
       "    </tr>\n",
       "    <tr>\n",
       "      <th>7020</th>\n",
       "      <td>7020</td>\n",
       "      <td>한편 진도군은 부군수를 단장으로 신속집행 추진단을 구성, 추진상황 점검회의 개최와 ...</td>\n",
       "      <td>{'word': '진도군', 'start_idx': 3, 'end_idx': 5, ...</td>\n",
       "      <td>{'word': '부군수', 'start_idx': 8, 'end_idx': 10,...</td>\n",
       "      <td>100</td>\n",
       "      <td>wikitree</td>\n",
       "    </tr>\n",
       "    <tr>\n",
       "      <th>3366</th>\n",
       "      <td>3366</td>\n",
       "      <td>유명한 드레이크 방정식을 고안한 사람이며, 당시 코넬 대학교 소속이었던 프랭크 드레...</td>\n",
       "      <td>{'word': '코넬 대학교', 'start_idx': 27, 'end_idx':...</td>\n",
       "      <td>{'word': '프랭크 드레이크', 'start_idx': 40, 'end_idx...</td>\n",
       "      <td>100</td>\n",
       "      <td>wikipedia</td>\n",
       "    </tr>\n",
       "  </tbody>\n",
       "</table>\n",
       "</div>"
      ],
      "text/plain": [
       "        id                                           sentence  \\\n",
       "649    649  이에 따라 삼성전자는 일본 정부의 '한국 수출 규제 대상'에 오른 3개 핵심 소재 ...   \n",
       "5990  5990  엠비아이는 ‘서울국제발명전시회’에서 '파워트레인(POWERTRAIN)\"'으로 영예의...   \n",
       "6581  6581  그들은 \"아니 오른손 왜 거기에 올리는데\", \"진짜 손이 왜 저기 가 있냐\", \"그...   \n",
       "7735  7735  김 연구원은 “현대해상은 과거 실손보험 비중이 커 보험료 인상 규제로 인해 위험손해...   \n",
       "7497  7497  상해 총영사관의 외무성 경찰사에서는 \"윤봉길은 두들겨 맞고 기절해 군인과 헌병의 힘...   \n",
       "6734  6734  DB금융투자는 19일 삼성엔지니어링에 대해 현재 업황과는 무관한 수주 성장세를 시현...   \n",
       "479    479  서울성경신학대학원대학교는 6.25 전쟁이 발발하자 목회자와 성도들이 경남 거제도로 ...   \n",
       "84      84                             공안의 사인, 강릉의 미방도 항복시켰다.   \n",
       "7020  7020  한편 진도군은 부군수를 단장으로 신속집행 추진단을 구성, 추진상황 점검회의 개최와 ...   \n",
       "3366  3366  유명한 드레이크 방정식을 고안한 사람이며, 당시 코넬 대학교 소속이었던 프랭크 드레...   \n",
       "\n",
       "                                         subject_entity  \\\n",
       "649   {'word': '삼성전자', 'start_idx': 6, 'end_idx': 9,...   \n",
       "5990  {'word': '엠비아이', 'start_idx': 0, 'end_idx': 3,...   \n",
       "6581  {'word': '권창훈', 'start_idx': 63, 'end_idx': 65...   \n",
       "7735  {'word': '현대해상', 'start_idx': 8, 'end_idx': 11...   \n",
       "7497  {'word': '외무성', 'start_idx': 9, 'end_idx': 11,...   \n",
       "6734  {'word': 'DB금융투자', 'start_idx': 0, 'end_idx': ...   \n",
       "479   {'word': '하나님', 'start_idx': 63, 'end_idx': 65...   \n",
       "84    {'word': '공안', 'start_idx': 0, 'end_idx': 1, '...   \n",
       "7020  {'word': '진도군', 'start_idx': 3, 'end_idx': 5, ...   \n",
       "3366  {'word': '코넬 대학교', 'start_idx': 27, 'end_idx':...   \n",
       "\n",
       "                                          object_entity  label     source  \n",
       "649   {'word': '일본 정부', 'start_idx': 12, 'end_idx': ...    100   wikitree  \n",
       "5990  {'word': '파워트레인', 'start_idx': 21, 'end_idx': ...    100   wikitree  \n",
       "6581  {'word': '선수', 'start_idx': 67, 'end_idx': 68,...    100   wikitree  \n",
       "7735  {'word': '연구원', 'start_idx': 2, 'end_idx': 4, ...    100   wikitree  \n",
       "7497  {'word': '군인', 'start_idx': 37, 'end_idx': 38,...    100  wikipedia  \n",
       "6734  {'word': '19일', 'start_idx': 8, 'end_idx': 10,...    100   wikitree  \n",
       "479   {'word': '거제도', 'start_idx': 41, 'end_idx': 43...    100  wikipedia  \n",
       "84    {'word': '강릉', 'start_idx': 8, 'end_idx': 9, '...    100  wikipedia  \n",
       "7020  {'word': '부군수', 'start_idx': 8, 'end_idx': 10,...    100   wikitree  \n",
       "3366  {'word': '프랭크 드레이크', 'start_idx': 40, 'end_idx...    100  wikipedia  "
      ]
     },
     "execution_count": 97,
     "metadata": {},
     "output_type": "execute_result"
    }
   ],
   "source": [
    "test_data.sample(10)"
   ]
  },
  {
   "cell_type": "code",
   "execution_count": 98,
   "id": "bb7c8966",
   "metadata": {},
   "outputs": [],
   "source": [
    "train_sentences = train_data.sentence\n",
    "train_subjects = train_data.subject_entity\n",
    "train_objects = train_data.object_entity"
   ]
  },
  {
   "cell_type": "code",
   "execution_count": 99,
   "id": "ec0242f1",
   "metadata": {},
   "outputs": [
    {
     "data": {
      "text/plain": [
       "0        〈Something〉는 조지 해리슨이 쓰고 비틀즈가 1969년 앨범 《Abbey R...\n",
       "1        호남이 기반인 바른미래당·대안신당·민주평화당이 우여곡절 끝에 합당해 민생당(가칭)으...\n",
       "2        K리그2에서 성적 1위를 달리고 있는 광주FC는 지난 26일 한국프로축구연맹으로부터...\n",
       "3        균일가 생활용품점 (주)아성다이소(대표 박정부)는 코로나19 바이러스로 어려움을 겪...\n",
       "4        1967년 프로 야구 드래프트 1순위로 요미우리 자이언츠에게 입단하면서 등번호는 8...\n",
       "                               ...                        \n",
       "32465    한국당은 7일 오전 9시부터 오후 5시까지 진행된 원내대표 및 정책위의장 후보자 등...\n",
       "32466    법포는 다시 최시형, 서병학, 손병희 직계인 북접과 다시 서장옥, 전봉준, 김개남을...\n",
       "32467    완도군(군수 신우철)이 국토교통부에서 실시한 '2019 교통문화지수 실태조사'에서 ...\n",
       "32468    중앙일보, JTBC 회장을 지낸 이후 중앙홀딩스 회장, 재단법인 한반도평화만들기 이...\n",
       "32469    화순군(군수 구충곤)은 17일 동면의 이장 20여 명이 코로나 19 예방을 위해 버...\n",
       "Name: sentence, Length: 32470, dtype: object"
      ]
     },
     "execution_count": 99,
     "metadata": {},
     "output_type": "execute_result"
    }
   ],
   "source": [
    "train_sentences"
   ]
  },
  {
   "cell_type": "code",
   "execution_count": 100,
   "id": "afc9f9b9",
   "metadata": {},
   "outputs": [
    {
     "data": {
      "text/plain": [
       "0        {'word': '비틀즈', 'start_idx': 24, 'end_idx': 26...\n",
       "1        {'word': '민주평화당', 'start_idx': 19, 'end_idx': ...\n",
       "2        {'word': '광주FC', 'start_idx': 21, 'end_idx': 2...\n",
       "3        {'word': '아성다이소', 'start_idx': 13, 'end_idx': ...\n",
       "4        {'word': '요미우리 자이언츠', 'start_idx': 22, 'end_id...\n",
       "                               ...                        \n",
       "32465    {'word': '유기준', 'start_idx': 93, 'end_idx': 95...\n",
       "32466    {'word': '최시형', 'start_idx': 7, 'end_idx': 9, ...\n",
       "32467    {'word': '완도군', 'start_idx': 0, 'end_idx': 2, ...\n",
       "32468    {'word': 'JTBC', 'start_idx': 6, 'end_idx': 9,...\n",
       "32469    {'word': '화순군', 'start_idx': 0, 'end_idx': 2, ...\n",
       "Name: subject_entity, Length: 32470, dtype: object"
      ]
     },
     "execution_count": 100,
     "metadata": {},
     "output_type": "execute_result"
    }
   ],
   "source": [
    "train_subjects"
   ]
  },
  {
   "cell_type": "code",
   "execution_count": 184,
   "id": "b9cc290c",
   "metadata": {},
   "outputs": [],
   "source": [
    "def label_to_num(label):\n",
    "    num_label = []\n",
    "    with open('dict_label_to_num.pkl', 'rb') as f:\n",
    "        dict_label_to_num = pickle.load(f)\n",
    "    for v in label:\n",
    "        num_label.append(dict_label_to_num[v])\n",
    "  \n",
    "    return num_label"
   ]
  },
  {
   "cell_type": "code",
   "execution_count": 185,
   "id": "3325202f",
   "metadata": {},
   "outputs": [],
   "source": [
    "def load_test_dataset(dataset_dir, tokenizer):\n",
    "    test_dataset = load_data(dataset_dir)\n",
    "    test_label = list(map(int,test_dataset['label'].values))\n",
    "    \n",
    "    tokenized_test = tokenized_dataset(test_dataset, tokenizer)\n",
    "    return test_dataset['id'], tokenized_test, test_label"
   ]
  },
  {
   "cell_type": "markdown",
   "id": "e40a0e5c",
   "metadata": {},
   "source": [
    "* 모델은 baseline 코드의 klue/bert-base 우선 사용"
   ]
  },
  {
   "cell_type": "code",
   "execution_count": 188,
   "id": "93ddcff4",
   "metadata": {},
   "outputs": [],
   "source": [
    "MODEL_NAME = \"klue/bert-base\"\n",
    "tokenizer = AutoTokenizer.from_pretrained(MODEL_NAME)"
   ]
  },
  {
   "cell_type": "code",
   "execution_count": 191,
   "id": "c72d347b",
   "metadata": {},
   "outputs": [],
   "source": [
    "train_dataset = load_data(\"./train/train.csv\")\n",
    "train_label = label_to_num(train_dataset['label'].values)\n",
    "test_id, test_dataset, test_label = load_test_dataset(\"./test/test_data.csv\", tokenizer)\n",
    "tokenized_train = tokenized_dataset(train_dataset, tokenizer)\n",
    "\n",
    "RE_train_dataset = RE_Dataset(tokenized_train, train_label)\n",
    "RE_test_dataset = RE_Dataset(test_dataset, test_label)"
   ]
  },
  {
   "cell_type": "code",
   "execution_count": 194,
   "id": "0bef8989",
   "metadata": {},
   "outputs": [
    {
     "name": "stdout",
     "output_type": "stream",
     "text": [
      "[43, 49, 61, 55, 38, 67, 62, 71, 89, 77]\n",
      "[29, 64, 183, 70, 41, 49, 48, 38, 51, 35]\n"
     ]
    }
   ],
   "source": [
    "train_lengths = [int(RE_train_data[\"attention_mask\"].sum()) for RE_train_data in RE_train_dataset]\n",
    "test_lengths = [int(RE_test_data[\"attention_mask\"].sum()) for RE_test_data in RE_test_dataset]\n",
    "print(train_lengths[:10])\n",
    "print(test_lengths[:10])"
   ]
  },
  {
   "cell_type": "code",
   "execution_count": 195,
   "id": "d8f23bed",
   "metadata": {},
   "outputs": [
    {
     "name": "stdout",
     "output_type": "stream",
     "text": [
      "Train token sequence length - MAX: 241\n",
      "Train token sequence length - min: 18\n",
      "Train token sequence length -Aaverage: 64.55\n",
      "\n",
      "Test token sequence length - MAX: 235\n",
      "Test token sequence length - min: 20\n",
      "Test token sequence length -Aaverage: 61.47\n"
     ]
    }
   ],
   "source": [
    "print(\"Train token sequence length - MAX:\", max(train_lengths))\n",
    "print(\"Train token sequence length - min:\", min(train_lengths))\n",
    "print(\"Train token sequence length -Aaverage: {:.2f}\".format(sum(train_lengths) / len(train_lengths)))\n",
    "print()\n",
    "print(\"Test token sequence length - MAX:\", max(test_lengths))\n",
    "print(\"Test token sequence length - min:\", min(test_lengths))\n",
    "print(\"Test token sequence length -Aaverage: {:.2f}\".format(sum(test_lengths) / len(test_lengths)))"
   ]
  },
  {
   "cell_type": "code",
   "execution_count": 196,
   "id": "3e6d1db4",
   "metadata": {},
   "outputs": [
    {
     "data": {
      "text/plain": [
       "Text(0.5, 1.0, 'Train Dataset Token Sequence Lengths')"
      ]
     },
     "execution_count": 196,
     "metadata": {},
     "output_type": "execute_result"
    },
    {
     "data": {
      "image/png": "[encoded data removed]",
      "text/plain": [
       "<Figure size 1200x700 with 1 Axes>"
      ]
     },
     "metadata": {},
     "output_type": "display_data"
    }
   ],
   "source": [
    "plt.figure(figsize=(12, 7))\n",
    "plt.hist(train_lengths, bins=50, range=[0, 256], facecolor='b')\n",
    "plt.title('Train Dataset Token Sequence Lengths', fontweight='bold', fontsize=15)"
   ]
  },
  {
   "cell_type": "code",
   "execution_count": 197,
   "id": "c34b0e06",
   "metadata": {},
   "outputs": [
    {
     "data": {
      "text/plain": [
       "Text(0.5, 1.0, 'Test Dataset Token Sequence Lengths')"
      ]
     },
     "execution_count": 197,
     "metadata": {},
     "output_type": "execute_result"
    },
    {
     "data": {
      "image/png": "[encoded data removed]",
      "text/plain": [
       "<Figure size 1200x700 with 1 Axes>"
      ]
     },
     "metadata": {},
     "output_type": "display_data"
    }
   ],
   "source": [
    "plt.figure(figsize=(12, 7))\n",
    "plt.hist(test_lengths, bins=50, range=[0, 256], facecolor='b')\n",
    "plt.title('Test Dataset Token Sequence Lengths', fontweight='bold', fontsize=15)"
   ]
  },
  {
   "cell_type": "code",
   "execution_count": null,
   "id": "b741ec99",
   "metadata": {},
   "outputs": [],
   "source": []
  }
 ],
 "metadata": {
  "kernelspec": {
   "display_name": "ml2",
   "language": "python",
   "name": "ml2"
  },
  "language_info": {
   "codemirror_mode": {
    "name": "ipython",
    "version": 3
   },
   "file_extension": ".py",
   "mimetype": "text/x-python",
   "name": "python",
   "nbconvert_exporter": "python",
   "pygments_lexer": "ipython3",
   "version": "3.8.16"
  }
 },
 "nbformat": 4,
 "nbformat_minor": 5
}
